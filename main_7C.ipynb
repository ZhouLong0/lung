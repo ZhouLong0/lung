{
 "cells": [
  {
   "cell_type": "code",
   "execution_count": 17,
   "metadata": {},
   "outputs": [
    {
     "name": "stdout",
     "output_type": "stream",
     "text": [
      "Number of available GPUs: 1\n"
     ]
    },
    {
     "data": {
      "text/plain": [
       "device(type='cuda', index=0)"
      ]
     },
     "execution_count": 17,
     "metadata": {},
     "output_type": "execute_result"
    }
   ],
   "source": [
    "import warnings\n",
    "warnings.filterwarnings(\"ignore\")\n",
    "\n",
    "import time\n",
    "import os\n",
    "import random\n",
    "from tqdm import tqdm\n",
    "import matplotlib.pyplot as plt\n",
    "import numpy as np \n",
    "import pandas as pd\n",
    "import seaborn as sns\n",
    "\n",
    "import torch\n",
    "import torch.nn as nn\n",
    "import pytorch_lightning\n",
    "from torch.utils.data import DataLoader\n",
    "import torchvision.transforms as tt\n",
    "import torch.optim as optim\n",
    "from torch.optim import lr_scheduler\n",
    "from sklearn.metrics import *\n",
    "from PIL import Image\n",
    "from imblearn.over_sampling import RandomOverSampler\n",
    "from sklearn.utils.class_weight import compute_class_weight\n",
    "\n",
    "from src.utils.utils import training, testing, EarlyStopping, get_y_true_preds\n",
    "from src.utils.LungDataset import LungSet\n",
    "from src.model.LungNetwork import LungNet\n",
    "\n",
    "import torch\n",
    "\n",
    "if torch.cuda.is_available():\n",
    "    num_gpus = torch.cuda.device_count()\n",
    "    print(f\"Number of available GPUs: {num_gpus}\")\n",
    "    device = torch.device(\"cuda:0\" if torch.cuda.is_available() else \"cpu\")\n",
    "    \n",
    "seed=2024\n",
    "np.random.seed(seed)\n",
    "random.seed(seed)\n",
    "torch.manual_seed(seed)\n",
    "torch.cuda.manual_seed(seed)\n",
    "torch.cuda.manual_seed_all(seed)\n",
    "torch.backends.cudnn.deterministic = True\n",
    "torch.backends.cudnn.benchmark = False\n",
    "device"
   ]
  },
  {
   "cell_type": "code",
   "execution_count": 18,
   "metadata": {},
   "outputs": [],
   "source": [
    "#config\n",
    "train_path = \"data/dataframes/df_train_7C_augmented.csv\"\n",
    "test_path = \"data/dataframes/df_test_7C_augmented.csv\"\n",
    "data_path = \"data/augmented_data\"\n",
    "oversampling = True\n",
    "\n",
    "baseline_path = \"src/model/tenpercent_resnet18.ckpt\"\n",
    "BATCH_SIZE = 128\n",
    "\n",
    "num_classes = 7"
   ]
  },
  {
   "cell_type": "code",
   "execution_count": 19,
   "metadata": {},
   "outputs": [],
   "source": [
    "dtrain= pd.read_csv(train_path).sample(frac = 1)\n",
    "dtest = pd.read_csv(test_path).sample(frac = 1)\n",
    "\n",
    "X_train = dtrain\n",
    "y_train = dtrain['label']\n",
    "\n",
    "# Oversample using sampling with replacement s.t. each class has the same number of samples\n",
    "X_ros, y_ros = RandomOverSampler(random_state=seed).fit_resample(X_train, y_train)"
   ]
  },
  {
   "cell_type": "code",
   "execution_count": 20,
   "metadata": {},
   "outputs": [
    {
     "data": {
      "text/html": [
       "<div>\n",
       "<style scoped>\n",
       "    .dataframe tbody tr th:only-of-type {\n",
       "        vertical-align: middle;\n",
       "    }\n",
       "\n",
       "    .dataframe tbody tr th {\n",
       "        vertical-align: top;\n",
       "    }\n",
       "\n",
       "    .dataframe thead th {\n",
       "        text-align: right;\n",
       "    }\n",
       "</style>\n",
       "<table border=\"1\" class=\"dataframe\">\n",
       "  <thead>\n",
       "    <tr style=\"text-align: right;\">\n",
       "      <th></th>\n",
       "      <th>Patient</th>\n",
       "      <th>lame</th>\n",
       "      <th>patch</th>\n",
       "      <th>classe</th>\n",
       "      <th>label</th>\n",
       "      <th>dataset</th>\n",
       "      <th>TetraClass</th>\n",
       "    </tr>\n",
       "  </thead>\n",
       "  <tbody>\n",
       "    <tr>\n",
       "      <th>46764</th>\n",
       "      <td>6</td>\n",
       "      <td>L</td>\n",
       "      <td>L_6_Z (10)_HF.jpg</td>\n",
       "      <td>Lépidique</td>\n",
       "      <td>5</td>\n",
       "      <td>train</td>\n",
       "      <td>TuGr12</td>\n",
       "    </tr>\n",
       "    <tr>\n",
       "      <th>5394</th>\n",
       "      <td>3</td>\n",
       "      <td>No</td>\n",
       "      <td>No_3_C(442).jpg</td>\n",
       "      <td>Normal</td>\n",
       "      <td>0</td>\n",
       "      <td>train</td>\n",
       "      <td>P</td>\n",
       "    </tr>\n",
       "    <tr>\n",
       "      <th>61028</th>\n",
       "      <td>230</td>\n",
       "      <td>Gc</td>\n",
       "      <td>Gc_230_A (283).jpg</td>\n",
       "      <td>Glandulaire complexe</td>\n",
       "      <td>6</td>\n",
       "      <td>train</td>\n",
       "      <td>TuGr3</td>\n",
       "    </tr>\n",
       "    <tr>\n",
       "      <th>66207</th>\n",
       "      <td>231</td>\n",
       "      <td>S</td>\n",
       "      <td>S_231_A (380)_HF.jpg</td>\n",
       "      <td>Solide</td>\n",
       "      <td>6</td>\n",
       "      <td>train</td>\n",
       "      <td>TuGr3</td>\n",
       "    </tr>\n",
       "    <tr>\n",
       "      <th>27189</th>\n",
       "      <td>9</td>\n",
       "      <td>N</td>\n",
       "      <td>N_9_S (1116).tif</td>\n",
       "      <td>Nécrose</td>\n",
       "      <td>2</td>\n",
       "      <td>train</td>\n",
       "      <td>Né</td>\n",
       "    </tr>\n",
       "    <tr>\n",
       "      <th>...</th>\n",
       "      <td>...</td>\n",
       "      <td>...</td>\n",
       "      <td>...</td>\n",
       "      <td>...</td>\n",
       "      <td>...</td>\n",
       "      <td>...</td>\n",
       "      <td>...</td>\n",
       "    </tr>\n",
       "    <tr>\n",
       "      <th>47643</th>\n",
       "      <td>7</td>\n",
       "      <td>A</td>\n",
       "      <td>A_7_A (181)_HF.jpg</td>\n",
       "      <td>Acinaire</td>\n",
       "      <td>5</td>\n",
       "      <td>train</td>\n",
       "      <td>TuGr12</td>\n",
       "    </tr>\n",
       "    <tr>\n",
       "      <th>35456</th>\n",
       "      <td>7</td>\n",
       "      <td>F</td>\n",
       "      <td>F_7_A (353)_rot270.jpg</td>\n",
       "      <td>Fibrose</td>\n",
       "      <td>4</td>\n",
       "      <td>train</td>\n",
       "      <td>Fi</td>\n",
       "    </tr>\n",
       "    <tr>\n",
       "      <th>51808</th>\n",
       "      <td>7</td>\n",
       "      <td>A</td>\n",
       "      <td>A_7_A (143).jpg</td>\n",
       "      <td>Acinaire</td>\n",
       "      <td>5</td>\n",
       "      <td>train</td>\n",
       "      <td>TuGr12</td>\n",
       "    </tr>\n",
       "    <tr>\n",
       "      <th>52730</th>\n",
       "      <td>13</td>\n",
       "      <td>D</td>\n",
       "      <td>13_D_row_97_col_29.jpg</td>\n",
       "      <td>Acinaire</td>\n",
       "      <td>5</td>\n",
       "      <td>train</td>\n",
       "      <td>TuGr12</td>\n",
       "    </tr>\n",
       "    <tr>\n",
       "      <th>7816</th>\n",
       "      <td>3</td>\n",
       "      <td>No</td>\n",
       "      <td>No_3_C(73).jpg</td>\n",
       "      <td>Normal</td>\n",
       "      <td>0</td>\n",
       "      <td>train</td>\n",
       "      <td>P</td>\n",
       "    </tr>\n",
       "  </tbody>\n",
       "</table>\n",
       "<p>66649 rows × 7 columns</p>\n",
       "</div>"
      ],
      "text/plain": [
       "       Patient lame                   patch                classe  label   \n",
       "46764        6    L       L_6_Z (10)_HF.jpg             Lépidique      5  \\\n",
       "5394         3   No         No_3_C(442).jpg                Normal      0   \n",
       "61028      230   Gc      Gc_230_A (283).jpg  Glandulaire complexe      6   \n",
       "66207      231    S    S_231_A (380)_HF.jpg                Solide      6   \n",
       "27189        9    N        N_9_S (1116).tif               Nécrose      2   \n",
       "...        ...  ...                     ...                   ...    ...   \n",
       "47643        7    A      A_7_A (181)_HF.jpg              Acinaire      5   \n",
       "35456        7    F  F_7_A (353)_rot270.jpg               Fibrose      4   \n",
       "51808        7    A         A_7_A (143).jpg              Acinaire      5   \n",
       "52730       13    D  13_D_row_97_col_29.jpg              Acinaire      5   \n",
       "7816         3   No          No_3_C(73).jpg                Normal      0   \n",
       "\n",
       "      dataset TetraClass  \n",
       "46764   train     TuGr12  \n",
       "5394    train          P  \n",
       "61028   train      TuGr3  \n",
       "66207   train      TuGr3  \n",
       "27189   train         Né  \n",
       "...       ...        ...  \n",
       "47643   train     TuGr12  \n",
       "35456   train         Fi  \n",
       "51808   train     TuGr12  \n",
       "52730   train     TuGr12  \n",
       "7816    train          P  \n",
       "\n",
       "[66649 rows x 7 columns]"
      ]
     },
     "execution_count": 20,
     "metadata": {},
     "output_type": "execute_result"
    }
   ],
   "source": [
    "X_train"
   ]
  },
  {
   "cell_type": "code",
   "execution_count": 21,
   "metadata": {},
   "outputs": [
    {
     "data": {
      "text/plain": [
       "(TetraClass\n",
       " P         17634\n",
       " Fi        12390\n",
       " TuGr3     10341\n",
       " TuGr12     9964\n",
       " Né         8994\n",
       " H          3960\n",
       " TL         3366\n",
       " Name: count, dtype: int64,\n",
       " TetraClass\n",
       " TuGr12    17634\n",
       " P         17634\n",
       " TuGr3     17634\n",
       " Né        17634\n",
       " Fi        17634\n",
       " H         17634\n",
       " TL        17634\n",
       " Name: count, dtype: int64)"
      ]
     },
     "execution_count": 21,
     "metadata": {},
     "output_type": "execute_result"
    }
   ],
   "source": [
    "X_train['TetraClass'].value_counts(), X_ros['TetraClass'].value_counts()"
   ]
  },
  {
   "cell_type": "code",
   "execution_count": 22,
   "metadata": {},
   "outputs": [],
   "source": [
    "if oversampling:\n",
    "    X_train, y_train = X_ros, y_ros"
   ]
  },
  {
   "cell_type": "code",
   "execution_count": 7,
   "metadata": {},
   "outputs": [],
   "source": [
    "t_train = tt.Compose([tt.RandomHorizontalFlip(), \n",
    "                    tt.RandomVerticalFlip(),\n",
    "                    tt.ToTensor()])\n",
    "t_test = tt.Compose([tt.ToTensor()])"
   ]
  },
  {
   "cell_type": "code",
   "execution_count": 23,
   "metadata": {},
   "outputs": [],
   "source": [
    "# create a LungSet object(torch.Datatset) with:\n",
    "# df(DataFrame): image_path, label\n",
    "# data_path(str): directory containing the images\n",
    "# transform(transforms.Compose): transformations to apply\n",
    "# __iter__: return torch(Image), label\n",
    "train_set = LungSet(X_train, data_path=data_path)\n",
    "test_set = LungSet(dtest, data_path=data_path)\n",
    "\n",
    "# Create the torch.Dataloader\n",
    "train_loader = DataLoader(train_set, batch_size=BATCH_SIZE, shuffle=True)\n",
    "test_loader = DataLoader(test_set, batch_size=BATCH_SIZE, shuffle=False)"
   ]
  },
  {
   "cell_type": "code",
   "execution_count": 24,
   "metadata": {},
   "outputs": [],
   "source": [
    "# Set up the model\n",
    "model = LungNet(baseline_path, num_classes)\n",
    "model = model.to(device)\n",
    "\n",
    "# data paralellism in traning\n",
    "# model=nn.DataParallel(model, device_ids=[0, 1])\n",
    "# model=model.cuda()\n",
    "# print(\"trainable parameters\",sum([p.numel() for p in model.parameters() if p.requires_grad]))\n",
    "\n",
    "criterion = nn.CrossEntropyLoss(label_smoothing=0.125)\n",
    "early_stopping = EarlyStopping(patience=10, delta=0.001)\n",
    "optimizer = optim.AdamW(model.parameters(), lr=0.1, weight_decay=0.01)\n",
    "# allow dynamic lr reducing based on some measurement (a metric has stopped improving)\n",
    "scheduler = lr_scheduler.ReduceLROnPlateau(optimizer, mode='min',factor=0.1, patience=10, min_lr=1e-15, verbose=True)"
   ]
  },
  {
   "cell_type": "code",
   "execution_count": 25,
   "metadata": {
    "scrolled": true
   },
   "outputs": [
    {
     "name": "stderr",
     "output_type": "stream",
     "text": [
      "  0%|          | 0/965 [00:00<?, ?it/s]"
     ]
    },
    {
     "name": "stderr",
     "output_type": "stream",
     "text": [
      "100%|██████████| 965/965 [50:53<00:00,  3.16s/it] \n"
     ]
    },
    {
     "name": "stdout",
     "output_type": "stream",
     "text": [
      "Epoch 1/100: TRAIN Loss=0.71442 -- Acc=92.697% || TEST Loss=0.99661 -- Acc=80.879%  --- Time=59min (loss decreased!) new best model saved\n"
     ]
    },
    {
     "name": "stderr",
     "output_type": "stream",
     "text": [
      "100%|██████████| 965/965 [35:12<00:00,  2.19s/it]\n"
     ]
    },
    {
     "name": "stdout",
     "output_type": "stream",
     "text": [
      "Epoch 2/100: TRAIN Loss=0.67781 -- Acc=94.207% || TEST Loss=0.84308 -- Acc=86.392%  --- Time=39min (loss decreased!) new best model saved\n"
     ]
    },
    {
     "name": "stderr",
     "output_type": "stream",
     "text": [
      "100%|██████████| 965/965 [35:38<00:00,  2.22s/it]\n"
     ]
    },
    {
     "name": "stdout",
     "output_type": "stream",
     "text": [
      "Epoch 3/100: TRAIN Loss=0.67344 -- Acc=94.328% || TEST Loss=1.06486 -- Acc=80.149%  --- Time=39min \n"
     ]
    },
    {
     "name": "stderr",
     "output_type": "stream",
     "text": [
      "100%|██████████| 965/965 [35:01<00:00,  2.18s/it]\n"
     ]
    },
    {
     "name": "stdout",
     "output_type": "stream",
     "text": [
      "Epoch 4/100: TRAIN Loss=0.67279 -- Acc=94.413% || TEST Loss=0.77174 -- Acc=91.408%  --- Time=39min (loss decreased!) new best model saved\n"
     ]
    },
    {
     "name": "stderr",
     "output_type": "stream",
     "text": [
      "100%|██████████| 965/965 [35:13<00:00,  2.19s/it]\n"
     ]
    },
    {
     "name": "stdout",
     "output_type": "stream",
     "text": [
      "Epoch 5/100: TRAIN Loss=0.67300 -- Acc=94.365% || TEST Loss=1.09658 -- Acc=76.801%  --- Time=39min \n"
     ]
    },
    {
     "name": "stderr",
     "output_type": "stream",
     "text": [
      "100%|██████████| 965/965 [34:55<00:00,  2.17s/it]\n"
     ]
    },
    {
     "name": "stdout",
     "output_type": "stream",
     "text": [
      "Epoch 6/100: TRAIN Loss=0.68236 -- Acc=94.097% || TEST Loss=3.63329 -- Acc=82.404%  --- Time=39min \n"
     ]
    },
    {
     "name": "stderr",
     "output_type": "stream",
     "text": [
      "100%|██████████| 965/965 [35:03<00:00,  2.18s/it]\n"
     ]
    },
    {
     "name": "stdout",
     "output_type": "stream",
     "text": [
      "Epoch 7/100: TRAIN Loss=0.67028 -- Acc=94.439% || TEST Loss=0.86553 -- Acc=86.117%  --- Time=39min \n"
     ]
    },
    {
     "name": "stderr",
     "output_type": "stream",
     "text": [
      "100%|██████████| 965/965 [35:19<00:00,  2.20s/it]\n"
     ]
    },
    {
     "name": "stdout",
     "output_type": "stream",
     "text": [
      "Epoch 8/100: TRAIN Loss=0.67385 -- Acc=94.406% || TEST Loss=0.90822 -- Acc=83.432%  --- Time=39min \n"
     ]
    },
    {
     "name": "stderr",
     "output_type": "stream",
     "text": [
      "100%|██████████| 965/965 [35:24<00:00,  2.20s/it]\n"
     ]
    },
    {
     "name": "stdout",
     "output_type": "stream",
     "text": [
      "Epoch 9/100: TRAIN Loss=0.67020 -- Acc=94.455% || TEST Loss=1.27264 -- Acc=72.197%  --- Time=39min \n"
     ]
    },
    {
     "name": "stderr",
     "output_type": "stream",
     "text": [
      "100%|██████████| 965/965 [35:42<00:00,  2.22s/it]\n"
     ]
    },
    {
     "name": "stdout",
     "output_type": "stream",
     "text": [
      "Epoch 10/100: TRAIN Loss=0.67484 -- Acc=94.265% || TEST Loss=0.87387 -- Acc=85.537%  --- Time=40min \n"
     ]
    },
    {
     "name": "stderr",
     "output_type": "stream",
     "text": [
      "100%|██████████| 965/965 [34:18<00:00,  2.13s/it]\n"
     ]
    },
    {
     "name": "stdout",
     "output_type": "stream",
     "text": [
      "Epoch 11/100: TRAIN Loss=0.67542 -- Acc=94.180% || TEST Loss=0.77325 -- Acc=89.058%  --- Time=38min \n"
     ]
    },
    {
     "name": "stderr",
     "output_type": "stream",
     "text": [
      "100%|██████████| 965/965 [34:14<00:00,  2.13s/it]\n"
     ]
    },
    {
     "name": "stdout",
     "output_type": "stream",
     "text": [
      "Epoch 12/100: TRAIN Loss=0.67632 -- Acc=94.203% || TEST Loss=0.81501 -- Acc=88.425%  --- Time=38min \n"
     ]
    },
    {
     "name": "stderr",
     "output_type": "stream",
     "text": [
      "100%|██████████| 965/965 [34:20<00:00,  2.13s/it]\n"
     ]
    },
    {
     "name": "stdout",
     "output_type": "stream",
     "text": [
      "Epoch 13/100: TRAIN Loss=0.67428 -- Acc=94.263% || TEST Loss=0.84797 -- Acc=86.428%  --- Time=38min \n"
     ]
    },
    {
     "name": "stderr",
     "output_type": "stream",
     "text": [
      "100%|██████████| 965/965 [34:24<00:00,  2.14s/it]\n"
     ]
    },
    {
     "name": "stdout",
     "output_type": "stream",
     "text": [
      "Epoch 14/100: TRAIN Loss=0.68219 -- Acc=94.152% || TEST Loss=1.11888 -- Acc=76.383%  --- Time=38min \n"
     ]
    },
    {
     "name": "stderr",
     "output_type": "stream",
     "text": [
      "100%|██████████| 965/965 [34:18<00:00,  2.13s/it]\n"
     ]
    },
    {
     "name": "stdout",
     "output_type": "stream",
     "text": [
      "Epoch 00015: reducing learning rate of group 0 to 1.0000e-02.\n",
      "Epoch 15/100: TRAIN Loss=0.69352 -- Acc=94.208% || TEST Loss=0.88069 -- Acc=85.537%  --- Time=38min \n"
     ]
    },
    {
     "name": "stderr",
     "output_type": "stream",
     "text": [
      "100%|██████████| 965/965 [34:19<00:00,  2.13s/it]\n"
     ]
    },
    {
     "name": "stdout",
     "output_type": "stream",
     "text": [
      "Epoch 16/100: TRAIN Loss=0.64509 -- Acc=95.583% || TEST Loss=0.85654 -- Acc=85.399%  --- Time=38min \n"
     ]
    },
    {
     "name": "stderr",
     "output_type": "stream",
     "text": [
      "100%|██████████| 965/965 [34:25<00:00,  2.14s/it]\n"
     ]
    },
    {
     "name": "stdout",
     "output_type": "stream",
     "text": [
      "Epoch 17/100: TRAIN Loss=0.63312 -- Acc=95.878% || TEST Loss=0.84425 -- Acc=85.351%  --- Time=38min \n"
     ]
    },
    {
     "name": "stderr",
     "output_type": "stream",
     "text": [
      "100%|██████████| 965/965 [34:16<00:00,  2.13s/it]\n"
     ]
    },
    {
     "name": "stdout",
     "output_type": "stream",
     "text": [
      "Epoch 18/100: TRAIN Loss=0.62540 -- Acc=96.060% || TEST Loss=0.85276 -- Acc=84.562%  --- Time=38min \n"
     ]
    },
    {
     "name": "stderr",
     "output_type": "stream",
     "text": [
      "100%|██████████| 965/965 [34:13<00:00,  2.13s/it]\n"
     ]
    },
    {
     "name": "stdout",
     "output_type": "stream",
     "text": [
      "Epoch 19/100: TRAIN Loss=0.62144 -- Acc=96.131% || TEST Loss=0.80012 -- Acc=87.121%  --- Time=38min \n"
     ]
    },
    {
     "name": "stderr",
     "output_type": "stream",
     "text": [
      "100%|██████████| 965/965 [34:18<00:00,  2.13s/it]\n"
     ]
    },
    {
     "name": "stdout",
     "output_type": "stream",
     "text": [
      "Epoch 20/100: TRAIN Loss=0.61955 -- Acc=96.147% || TEST Loss=0.81430 -- Acc=85.638%  --- Time=38min \n"
     ]
    },
    {
     "name": "stderr",
     "output_type": "stream",
     "text": [
      "100%|██████████| 965/965 [34:23<00:00,  2.14s/it]\n"
     ]
    },
    {
     "name": "stdout",
     "output_type": "stream",
     "text": [
      "Epoch 21/100: TRAIN Loss=0.61766 -- Acc=96.253% || TEST Loss=0.81648 -- Acc=86.894%  --- Time=38min \n"
     ]
    },
    {
     "name": "stderr",
     "output_type": "stream",
     "text": [
      "100%|██████████| 965/965 [34:22<00:00,  2.14s/it]\n"
     ]
    },
    {
     "name": "stdout",
     "output_type": "stream",
     "text": [
      "Epoch 22/100: TRAIN Loss=0.61586 -- Acc=96.265% || TEST Loss=0.83981 -- Acc=85.818%  --- Time=38min \n"
     ]
    },
    {
     "name": "stderr",
     "output_type": "stream",
     "text": [
      "100%|██████████| 965/965 [34:27<00:00,  2.14s/it]\n"
     ]
    },
    {
     "name": "stdout",
     "output_type": "stream",
     "text": [
      "Epoch 23/100: TRAIN Loss=0.61591 -- Acc=96.265% || TEST Loss=1.01926 -- Acc=78.045%  --- Time=38min \n"
     ]
    },
    {
     "name": "stderr",
     "output_type": "stream",
     "text": [
      "100%|██████████| 965/965 [34:16<00:00,  2.13s/it]\n"
     ]
    },
    {
     "name": "stdout",
     "output_type": "stream",
     "text": [
      "Epoch 24/100: TRAIN Loss=0.61528 -- Acc=96.229% || TEST Loss=0.91466 -- Acc=83.115%  --- Time=38min \n"
     ]
    },
    {
     "name": "stderr",
     "output_type": "stream",
     "text": [
      "100%|██████████| 965/965 [34:19<00:00,  2.13s/it]\n"
     ]
    },
    {
     "name": "stdout",
     "output_type": "stream",
     "text": [
      "Epoch 25/100: TRAIN Loss=0.61325 -- Acc=96.406% || TEST Loss=0.87803 -- Acc=85.076%  --- Time=38min \n"
     ]
    },
    {
     "name": "stderr",
     "output_type": "stream",
     "text": [
      "100%|██████████| 965/965 [34:25<00:00,  2.14s/it]\n"
     ]
    },
    {
     "name": "stdout",
     "output_type": "stream",
     "text": [
      "Epoch 26/100: TRAIN Loss=0.61442 -- Acc=96.331% || TEST Loss=0.75219 -- Acc=90.332%  --- Time=38min \n"
     ]
    },
    {
     "name": "stderr",
     "output_type": "stream",
     "text": [
      "100%|██████████| 965/965 [34:16<00:00,  2.13s/it]\n"
     ]
    },
    {
     "name": "stdout",
     "output_type": "stream",
     "text": [
      "Epoch 27/100: TRAIN Loss=0.61399 -- Acc=96.351% || TEST Loss=0.80885 -- Acc=87.372%  --- Time=38min \n"
     ]
    },
    {
     "name": "stderr",
     "output_type": "stream",
     "text": [
      "100%|██████████| 965/965 [34:16<00:00,  2.13s/it]\n"
     ]
    },
    {
     "name": "stdout",
     "output_type": "stream",
     "text": [
      "Epoch 28/100: TRAIN Loss=0.61241 -- Acc=96.380% || TEST Loss=0.83966 -- Acc=86.260%  --- Time=38min \n"
     ]
    },
    {
     "name": "stderr",
     "output_type": "stream",
     "text": [
      "100%|██████████| 965/965 [34:21<00:00,  2.14s/it]\n"
     ]
    },
    {
     "name": "stdout",
     "output_type": "stream",
     "text": [
      "Epoch 29/100: TRAIN Loss=0.61264 -- Acc=96.390% || TEST Loss=0.84207 -- Acc=86.613%  --- Time=38min \n"
     ]
    },
    {
     "name": "stderr",
     "output_type": "stream",
     "text": [
      "100%|██████████| 965/965 [34:22<00:00,  2.14s/it]\n"
     ]
    },
    {
     "name": "stdout",
     "output_type": "stream",
     "text": [
      "Epoch 30/100: TRAIN Loss=0.61223 -- Acc=96.389% || TEST Loss=0.81071 -- Acc=87.581%  --- Time=38min \n"
     ]
    },
    {
     "name": "stderr",
     "output_type": "stream",
     "text": [
      "100%|██████████| 965/965 [34:20<00:00,  2.13s/it]\n"
     ]
    },
    {
     "name": "stdout",
     "output_type": "stream",
     "text": [
      "Epoch 31/100: TRAIN Loss=0.61298 -- Acc=96.322% || TEST Loss=0.82159 -- Acc=87.187%  --- Time=38min \n"
     ]
    },
    {
     "name": "stderr",
     "output_type": "stream",
     "text": [
      "100%|██████████| 965/965 [34:05<00:00,  2.12s/it]\n"
     ]
    },
    {
     "name": "stdout",
     "output_type": "stream",
     "text": [
      "Epoch 32/100: TRAIN Loss=0.61306 -- Acc=96.367% || TEST Loss=0.78323 -- Acc=88.706%  --- Time=38min \n"
     ]
    },
    {
     "name": "stderr",
     "output_type": "stream",
     "text": [
      "100%|██████████| 965/965 [34:03<00:00,  2.12s/it]\n"
     ]
    },
    {
     "name": "stdout",
     "output_type": "stream",
     "text": [
      "Epoch 33/100: TRAIN Loss=0.61151 -- Acc=96.440% || TEST Loss=0.87577 -- Acc=84.371%  --- Time=38min \n"
     ]
    },
    {
     "name": "stderr",
     "output_type": "stream",
     "text": [
      "100%|██████████| 965/965 [34:05<00:00,  2.12s/it]\n"
     ]
    },
    {
     "name": "stdout",
     "output_type": "stream",
     "text": [
      "Epoch 34/100: TRAIN Loss=0.61135 -- Acc=96.447% || TEST Loss=0.87538 -- Acc=84.783%  --- Time=38min \n"
     ]
    },
    {
     "name": "stderr",
     "output_type": "stream",
     "text": [
      "100%|██████████| 965/965 [33:26<00:00,  2.08s/it]\n"
     ]
    },
    {
     "name": "stdout",
     "output_type": "stream",
     "text": [
      "Epoch 35/100: TRAIN Loss=0.61131 -- Acc=96.461% || TEST Loss=0.82067 -- Acc=87.306%  --- Time=37min \n"
     ]
    },
    {
     "name": "stderr",
     "output_type": "stream",
     "text": [
      "100%|██████████| 965/965 [35:24<00:00,  2.20s/it]\n"
     ]
    },
    {
     "name": "stdout",
     "output_type": "stream",
     "text": [
      "Epoch 36/100: TRAIN Loss=0.61041 -- Acc=96.502% || TEST Loss=0.77143 -- Acc=89.106%  --- Time=39min \n"
     ]
    },
    {
     "name": "stderr",
     "output_type": "stream",
     "text": [
      "100%|██████████| 965/965 [34:20<00:00,  2.14s/it]\n"
     ]
    },
    {
     "name": "stdout",
     "output_type": "stream",
     "text": [
      "Epoch 00037: reducing learning rate of group 0 to 1.0000e-03.\n",
      "Epoch 37/100: TRAIN Loss=0.61043 -- Acc=96.510% || TEST Loss=0.82689 -- Acc=87.247%  --- Time=38min \n"
     ]
    },
    {
     "name": "stderr",
     "output_type": "stream",
     "text": [
      "100%|██████████| 965/965 [34:57<00:00,  2.17s/it]\n"
     ]
    },
    {
     "name": "stdout",
     "output_type": "stream",
     "text": [
      "Epoch 38/100: TRAIN Loss=0.59443 -- Acc=97.168% || TEST Loss=0.78971 -- Acc=88.472%  --- Time=39min \n"
     ]
    },
    {
     "name": "stderr",
     "output_type": "stream",
     "text": [
      "100%|██████████| 965/965 [33:41<00:00,  2.10s/it]\n"
     ]
    },
    {
     "name": "stdout",
     "output_type": "stream",
     "text": [
      "Epoch 39/100: TRAIN Loss=0.59157 -- Acc=97.295% || TEST Loss=0.78526 -- Acc=88.604%  --- Time=37min \n"
     ]
    },
    {
     "name": "stderr",
     "output_type": "stream",
     "text": [
      "100%|██████████| 965/965 [34:35<00:00,  2.15s/it]\n"
     ]
    },
    {
     "name": "stdout",
     "output_type": "stream",
     "text": [
      "Epoch 40/100: TRAIN Loss=0.59060 -- Acc=97.382% || TEST Loss=0.84831 -- Acc=86.063%  --- Time=39min \n"
     ]
    },
    {
     "name": "stderr",
     "output_type": "stream",
     "text": [
      "100%|██████████| 965/965 [34:50<00:00,  2.17s/it]\n"
     ]
    },
    {
     "name": "stdout",
     "output_type": "stream",
     "text": [
      "Epoch 41/100: TRAIN Loss=0.58938 -- Acc=97.432% || TEST Loss=0.85166 -- Acc=85.919%  --- Time=39min \n"
     ]
    },
    {
     "name": "stderr",
     "output_type": "stream",
     "text": [
      "100%|██████████| 965/965 [34:43<00:00,  2.16s/it]\n"
     ]
    },
    {
     "name": "stdout",
     "output_type": "stream",
     "text": [
      "Epoch 42/100: TRAIN Loss=0.58919 -- Acc=97.404% || TEST Loss=0.83774 -- Acc=86.380%  --- Time=39min \n"
     ]
    },
    {
     "name": "stderr",
     "output_type": "stream",
     "text": [
      "100%|██████████| 965/965 [34:26<00:00,  2.14s/it]\n"
     ]
    },
    {
     "name": "stdout",
     "output_type": "stream",
     "text": [
      "Epoch 43/100: TRAIN Loss=0.58908 -- Acc=97.416% || TEST Loss=0.82393 -- Acc=87.091%  --- Time=38min \n"
     ]
    },
    {
     "name": "stderr",
     "output_type": "stream",
     "text": [
      "100%|██████████| 965/965 [34:53<00:00,  2.17s/it]\n"
     ]
    },
    {
     "name": "stdout",
     "output_type": "stream",
     "text": [
      "Epoch 44/100: TRAIN Loss=0.58791 -- Acc=97.473% || TEST Loss=0.83877 -- Acc=86.398%  --- Time=39min \n"
     ]
    },
    {
     "name": "stderr",
     "output_type": "stream",
     "text": [
      "100%|██████████| 965/965 [34:14<00:00,  2.13s/it]\n"
     ]
    },
    {
     "name": "stdout",
     "output_type": "stream",
     "text": [
      "Epoch 45/100: TRAIN Loss=0.58761 -- Acc=97.501% || TEST Loss=0.78708 -- Acc=88.484%  --- Time=38min \n"
     ]
    },
    {
     "name": "stderr",
     "output_type": "stream",
     "text": [
      "100%|██████████| 965/965 [34:21<00:00,  2.14s/it]\n"
     ]
    },
    {
     "name": "stdout",
     "output_type": "stream",
     "text": [
      "Epoch 46/100: TRAIN Loss=0.58815 -- Acc=97.476% || TEST Loss=0.83988 -- Acc=85.967%  --- Time=38min \n"
     ]
    },
    {
     "name": "stderr",
     "output_type": "stream",
     "text": [
      "100%|██████████| 965/965 [35:29<00:00,  2.21s/it]\n"
     ]
    },
    {
     "name": "stdout",
     "output_type": "stream",
     "text": [
      "Epoch 47/100: TRAIN Loss=0.58794 -- Acc=97.485% || TEST Loss=0.82425 -- Acc=86.834%  --- Time=39min \n"
     ]
    },
    {
     "name": "stderr",
     "output_type": "stream",
     "text": [
      "100%|██████████| 965/965 [34:49<00:00,  2.17s/it]\n"
     ]
    },
    {
     "name": "stdout",
     "output_type": "stream",
     "text": [
      "Epoch 00048: reducing learning rate of group 0 to 1.0000e-04.\n",
      "Epoch 48/100: TRAIN Loss=0.58675 -- Acc=97.573% || TEST Loss=0.81483 -- Acc=87.468%  --- Time=39min \n"
     ]
    },
    {
     "name": "stderr",
     "output_type": "stream",
     "text": [
      "100%|██████████| 965/965 [34:34<00:00,  2.15s/it]\n"
     ]
    },
    {
     "name": "stdout",
     "output_type": "stream",
     "text": [
      "Epoch 49/100: TRAIN Loss=0.58544 -- Acc=97.592% || TEST Loss=0.83047 -- Acc=86.816%  --- Time=38min \n"
     ]
    },
    {
     "name": "stderr",
     "output_type": "stream",
     "text": [
      "100%|██████████| 965/965 [35:25<00:00,  2.20s/it]\n"
     ]
    },
    {
     "name": "stdout",
     "output_type": "stream",
     "text": [
      "Epoch 50/100: TRAIN Loss=0.58455 -- Acc=97.672% || TEST Loss=0.81723 -- Acc=87.199%  --- Time=39min \n"
     ]
    },
    {
     "name": "stderr",
     "output_type": "stream",
     "text": [
      "100%|██████████| 965/965 [35:25<00:00,  2.20s/it]\n"
     ]
    },
    {
     "name": "stdout",
     "output_type": "stream",
     "text": [
      "Epoch 51/100: TRAIN Loss=0.58453 -- Acc=97.665% || TEST Loss=0.83230 -- Acc=86.577%  --- Time=39min \n"
     ]
    },
    {
     "name": "stderr",
     "output_type": "stream",
     "text": [
      "100%|██████████| 965/965 [35:32<00:00,  2.21s/it]\n"
     ]
    },
    {
     "name": "stdout",
     "output_type": "stream",
     "text": [
      "Epoch 52/100: TRAIN Loss=0.58515 -- Acc=97.612% || TEST Loss=0.81524 -- Acc=87.617%  --- Time=40min \n"
     ]
    },
    {
     "name": "stderr",
     "output_type": "stream",
     "text": [
      "100%|██████████| 965/965 [35:39<00:00,  2.22s/it]\n"
     ]
    },
    {
     "name": "stdout",
     "output_type": "stream",
     "text": [
      "Epoch 53/100: TRAIN Loss=0.58464 -- Acc=97.667% || TEST Loss=0.82519 -- Acc=87.037%  --- Time=40min \n"
     ]
    },
    {
     "name": "stderr",
     "output_type": "stream",
     "text": [
      "100%|██████████| 965/965 [35:37<00:00,  2.22s/it]\n"
     ]
    },
    {
     "name": "stdout",
     "output_type": "stream",
     "text": [
      "Epoch 54/100: TRAIN Loss=0.58472 -- Acc=97.631% || TEST Loss=0.82624 -- Acc=86.930%  --- Time=40min \n"
     ]
    },
    {
     "name": "stderr",
     "output_type": "stream",
     "text": [
      "100%|██████████| 965/965 [35:36<00:00,  2.21s/it]\n"
     ]
    },
    {
     "name": "stdout",
     "output_type": "stream",
     "text": [
      "Epoch 55/100: TRAIN Loss=0.58417 -- Acc=97.660% || TEST Loss=0.83018 -- Acc=87.013%  --- Time=40min \n"
     ]
    },
    {
     "name": "stderr",
     "output_type": "stream",
     "text": [
      "100%|██████████| 965/965 [36:05<00:00,  2.24s/it]\n"
     ]
    },
    {
     "name": "stdout",
     "output_type": "stream",
     "text": [
      "Epoch 56/100: TRAIN Loss=0.58446 -- Acc=97.636% || TEST Loss=0.83329 -- Acc=86.720%  --- Time=40min \n"
     ]
    },
    {
     "name": "stderr",
     "output_type": "stream",
     "text": [
      "100%|██████████| 965/965 [36:02<00:00,  2.24s/it]\n"
     ]
    },
    {
     "name": "stdout",
     "output_type": "stream",
     "text": [
      "Epoch 57/100: TRAIN Loss=0.58418 -- Acc=97.703% || TEST Loss=0.83174 -- Acc=86.846%  --- Time=40min \n"
     ]
    },
    {
     "name": "stderr",
     "output_type": "stream",
     "text": [
      "100%|██████████| 965/965 [36:05<00:00,  2.24s/it]\n"
     ]
    },
    {
     "name": "stdout",
     "output_type": "stream",
     "text": [
      "Epoch 58/100: TRAIN Loss=0.58434 -- Acc=97.650% || TEST Loss=0.81234 -- Acc=87.444%  --- Time=40min \n"
     ]
    },
    {
     "name": "stderr",
     "output_type": "stream",
     "text": [
      "100%|██████████| 965/965 [36:14<00:00,  2.25s/it]\n"
     ]
    },
    {
     "name": "stdout",
     "output_type": "stream",
     "text": [
      "Epoch 00059: reducing learning rate of group 0 to 1.0000e-05.\n",
      "Epoch 59/100: TRAIN Loss=0.58437 -- Acc=97.633% || TEST Loss=0.81970 -- Acc=87.354%  --- Time=40min \n"
     ]
    },
    {
     "name": "stderr",
     "output_type": "stream",
     "text": [
      "100%|██████████| 965/965 [36:11<00:00,  2.25s/it]\n"
     ]
    },
    {
     "name": "stdout",
     "output_type": "stream",
     "text": [
      "Epoch 60/100: TRAIN Loss=0.58365 -- Acc=97.678% || TEST Loss=0.81329 -- Acc=87.659%  --- Time=40min \n"
     ]
    },
    {
     "name": "stderr",
     "output_type": "stream",
     "text": [
      "100%|██████████| 965/965 [36:14<00:00,  2.25s/it]\n"
     ]
    },
    {
     "name": "stdout",
     "output_type": "stream",
     "text": [
      "Epoch 61/100: TRAIN Loss=0.58351 -- Acc=97.724% || TEST Loss=0.81771 -- Acc=87.510%  --- Time=40min \n"
     ]
    },
    {
     "name": "stderr",
     "output_type": "stream",
     "text": [
      "100%|██████████| 965/965 [36:14<00:00,  2.25s/it]\n"
     ]
    },
    {
     "name": "stdout",
     "output_type": "stream",
     "text": [
      "Epoch 62/100: TRAIN Loss=0.58350 -- Acc=97.688% || TEST Loss=0.80475 -- Acc=88.042%  --- Time=40min \n"
     ]
    },
    {
     "name": "stderr",
     "output_type": "stream",
     "text": [
      "100%|██████████| 965/965 [36:10<00:00,  2.25s/it]\n"
     ]
    },
    {
     "name": "stdout",
     "output_type": "stream",
     "text": [
      "Epoch 63/100: TRAIN Loss=0.58434 -- Acc=97.664% || TEST Loss=0.80575 -- Acc=88.018%  --- Time=40min \n"
     ]
    },
    {
     "name": "stderr",
     "output_type": "stream",
     "text": [
      "100%|██████████| 965/965 [36:12<00:00,  2.25s/it]\n"
     ]
    },
    {
     "name": "stdout",
     "output_type": "stream",
     "text": [
      "Epoch 64/100: TRAIN Loss=0.58419 -- Acc=97.657% || TEST Loss=0.82431 -- Acc=86.966%  --- Time=40min \n"
     ]
    },
    {
     "name": "stderr",
     "output_type": "stream",
     "text": [
      "100%|██████████| 965/965 [36:12<00:00,  2.25s/it]\n"
     ]
    },
    {
     "name": "stdout",
     "output_type": "stream",
     "text": [
      "Epoch 65/100: TRAIN Loss=0.58389 -- Acc=97.655% || TEST Loss=0.83108 -- Acc=86.732%  --- Time=40min \n"
     ]
    },
    {
     "name": "stderr",
     "output_type": "stream",
     "text": [
      "100%|██████████| 965/965 [36:12<00:00,  2.25s/it]\n"
     ]
    },
    {
     "name": "stdout",
     "output_type": "stream",
     "text": [
      "Epoch 66/100: TRAIN Loss=0.58351 -- Acc=97.681% || TEST Loss=0.81672 -- Acc=87.354%  --- Time=40min \n"
     ]
    },
    {
     "name": "stderr",
     "output_type": "stream",
     "text": [
      "100%|██████████| 965/965 [36:10<00:00,  2.25s/it]\n"
     ]
    },
    {
     "name": "stdout",
     "output_type": "stream",
     "text": [
      "Epoch 67/100: TRAIN Loss=0.58409 -- Acc=97.670% || TEST Loss=0.82664 -- Acc=87.019%  --- Time=40min \n"
     ]
    },
    {
     "name": "stderr",
     "output_type": "stream",
     "text": [
      "100%|██████████| 965/965 [35:37<00:00,  2.21s/it]\n"
     ]
    },
    {
     "name": "stdout",
     "output_type": "stream",
     "text": [
      "Epoch 68/100: TRAIN Loss=0.58429 -- Acc=97.654% || TEST Loss=0.82106 -- Acc=87.181%  --- Time=40min \n"
     ]
    },
    {
     "name": "stderr",
     "output_type": "stream",
     "text": [
      "100%|██████████| 965/965 [35:36<00:00,  2.21s/it]\n"
     ]
    },
    {
     "name": "stdout",
     "output_type": "stream",
     "text": [
      "Epoch 69/100: TRAIN Loss=0.58382 -- Acc=97.684% || TEST Loss=0.82887 -- Acc=86.864%  --- Time=40min \n"
     ]
    },
    {
     "name": "stderr",
     "output_type": "stream",
     "text": [
      "100%|██████████| 965/965 [35:53<00:00,  2.23s/it]\n"
     ]
    },
    {
     "name": "stdout",
     "output_type": "stream",
     "text": [
      "Epoch 00070: reducing learning rate of group 0 to 1.0000e-06.\n",
      "Epoch 70/100: TRAIN Loss=0.58263 -- Acc=97.745% || TEST Loss=0.81388 -- Acc=87.450%  --- Time=40min \n"
     ]
    },
    {
     "name": "stderr",
     "output_type": "stream",
     "text": [
      "100%|██████████| 965/965 [35:43<00:00,  2.22s/it]\n"
     ]
    },
    {
     "name": "stdout",
     "output_type": "stream",
     "text": [
      "Epoch 71/100: TRAIN Loss=0.58377 -- Acc=97.698% || TEST Loss=0.81226 -- Acc=87.635%  --- Time=40min \n"
     ]
    },
    {
     "name": "stderr",
     "output_type": "stream",
     "text": [
      "100%|██████████| 965/965 [35:32<00:00,  2.21s/it]\n"
     ]
    },
    {
     "name": "stdout",
     "output_type": "stream",
     "text": [
      "Epoch 72/100: TRAIN Loss=0.58391 -- Acc=97.651% || TEST Loss=0.81211 -- Acc=87.677%  --- Time=39min \n"
     ]
    },
    {
     "name": "stderr",
     "output_type": "stream",
     "text": [
      "100%|██████████| 965/965 [35:47<00:00,  2.22s/it]\n"
     ]
    },
    {
     "name": "stdout",
     "output_type": "stream",
     "text": [
      "Epoch 73/100: TRAIN Loss=0.58416 -- Acc=97.650% || TEST Loss=0.80732 -- Acc=87.892%  --- Time=40min \n"
     ]
    },
    {
     "name": "stderr",
     "output_type": "stream",
     "text": [
      "100%|██████████| 965/965 [35:50<00:00,  2.23s/it]\n"
     ]
    },
    {
     "name": "stdout",
     "output_type": "stream",
     "text": [
      "Epoch 74/100: TRAIN Loss=0.58395 -- Acc=97.660% || TEST Loss=0.81658 -- Acc=87.659%  --- Time=40min \n"
     ]
    },
    {
     "name": "stderr",
     "output_type": "stream",
     "text": [
      "100%|██████████| 965/965 [34:55<00:00,  2.17s/it]\n"
     ]
    },
    {
     "name": "stdout",
     "output_type": "stream",
     "text": [
      "Epoch 75/100: TRAIN Loss=0.58410 -- Acc=97.660% || TEST Loss=0.81551 -- Acc=87.558%  --- Time=39min \n"
     ]
    },
    {
     "name": "stderr",
     "output_type": "stream",
     "text": [
      "100%|██████████| 965/965 [35:18<00:00,  2.20s/it]\n"
     ]
    },
    {
     "name": "stdout",
     "output_type": "stream",
     "text": [
      "Epoch 76/100: TRAIN Loss=0.58376 -- Acc=97.701% || TEST Loss=0.81296 -- Acc=87.671%  --- Time=39min \n"
     ]
    },
    {
     "name": "stderr",
     "output_type": "stream",
     "text": [
      "100%|██████████| 965/965 [34:59<00:00,  2.18s/it]\n"
     ]
    },
    {
     "name": "stdout",
     "output_type": "stream",
     "text": [
      "Epoch 77/100: TRAIN Loss=0.58384 -- Acc=97.663% || TEST Loss=0.80963 -- Acc=87.653%  --- Time=39min \n"
     ]
    },
    {
     "name": "stderr",
     "output_type": "stream",
     "text": [
      "100%|██████████| 965/965 [34:40<00:00,  2.16s/it]\n"
     ]
    },
    {
     "name": "stdout",
     "output_type": "stream",
     "text": [
      "Epoch 78/100: TRAIN Loss=0.58440 -- Acc=97.651% || TEST Loss=0.82527 -- Acc=86.972%  --- Time=38min \n"
     ]
    },
    {
     "name": "stderr",
     "output_type": "stream",
     "text": [
      "100%|██████████| 965/965 [35:28<00:00,  2.21s/it]\n"
     ]
    },
    {
     "name": "stdout",
     "output_type": "stream",
     "text": [
      "Epoch 79/100: TRAIN Loss=0.58392 -- Acc=97.651% || TEST Loss=0.80997 -- Acc=87.803%  --- Time=40min \n"
     ]
    },
    {
     "name": "stderr",
     "output_type": "stream",
     "text": [
      "100%|██████████| 965/965 [34:45<00:00,  2.16s/it]\n"
     ]
    },
    {
     "name": "stdout",
     "output_type": "stream",
     "text": [
      "Epoch 80/100: TRAIN Loss=0.58380 -- Acc=97.657% || TEST Loss=0.80908 -- Acc=87.773%  --- Time=39min \n"
     ]
    },
    {
     "name": "stderr",
     "output_type": "stream",
     "text": [
      "100%|██████████| 965/965 [34:27<00:00,  2.14s/it]\n"
     ]
    },
    {
     "name": "stdout",
     "output_type": "stream",
     "text": [
      "Epoch 00081: reducing learning rate of group 0 to 1.0000e-07.\n",
      "Epoch 81/100: TRAIN Loss=0.58337 -- Acc=97.737% || TEST Loss=0.81664 -- Acc=87.438%  --- Time=38min \n"
     ]
    },
    {
     "name": "stderr",
     "output_type": "stream",
     "text": [
      "100%|██████████| 965/965 [34:29<00:00,  2.14s/it]\n"
     ]
    },
    {
     "name": "stdout",
     "output_type": "stream",
     "text": [
      "Epoch 82/100: TRAIN Loss=0.58346 -- Acc=97.715% || TEST Loss=0.80277 -- Acc=88.233%  --- Time=38min \n"
     ]
    },
    {
     "name": "stderr",
     "output_type": "stream",
     "text": [
      "100%|██████████| 965/965 [34:32<00:00,  2.15s/it]\n"
     ]
    },
    {
     "name": "stdout",
     "output_type": "stream",
     "text": [
      "Epoch 83/100: TRAIN Loss=0.58398 -- Acc=97.660% || TEST Loss=0.82145 -- Acc=87.169%  --- Time=38min \n"
     ]
    },
    {
     "name": "stderr",
     "output_type": "stream",
     "text": [
      "100%|██████████| 965/965 [34:37<00:00,  2.15s/it]\n"
     ]
    },
    {
     "name": "stdout",
     "output_type": "stream",
     "text": [
      "Epoch 84/100: TRAIN Loss=0.58324 -- Acc=97.711% || TEST Loss=0.81076 -- Acc=87.803%  --- Time=39min \n"
     ]
    },
    {
     "name": "stderr",
     "output_type": "stream",
     "text": [
      "100%|██████████| 965/965 [34:03<00:00,  2.12s/it]\n"
     ]
    },
    {
     "name": "stdout",
     "output_type": "stream",
     "text": [
      "Epoch 85/100: TRAIN Loss=0.58417 -- Acc=97.628% || TEST Loss=0.81412 -- Acc=87.749%  --- Time=38min \n"
     ]
    },
    {
     "name": "stderr",
     "output_type": "stream",
     "text": [
      "100%|██████████| 965/965 [34:21<00:00,  2.14s/it]\n"
     ]
    },
    {
     "name": "stdout",
     "output_type": "stream",
     "text": [
      "Epoch 86/100: TRAIN Loss=0.58378 -- Acc=97.668% || TEST Loss=0.80741 -- Acc=87.988%  --- Time=38min \n"
     ]
    },
    {
     "name": "stderr",
     "output_type": "stream",
     "text": [
      "100%|██████████| 965/965 [33:58<00:00,  2.11s/it]\n"
     ]
    },
    {
     "name": "stdout",
     "output_type": "stream",
     "text": [
      "Epoch 87/100: TRAIN Loss=0.58379 -- Acc=97.706% || TEST Loss=0.81793 -- Acc=87.432%  --- Time=38min \n"
     ]
    },
    {
     "name": "stderr",
     "output_type": "stream",
     "text": [
      "100%|██████████| 965/965 [33:59<00:00,  2.11s/it]\n"
     ]
    },
    {
     "name": "stdout",
     "output_type": "stream",
     "text": [
      "Epoch 88/100: TRAIN Loss=0.58358 -- Acc=97.692% || TEST Loss=0.82608 -- Acc=87.001%  --- Time=38min \n"
     ]
    },
    {
     "name": "stderr",
     "output_type": "stream",
     "text": [
      "100%|██████████| 965/965 [34:02<00:00,  2.12s/it]\n"
     ]
    },
    {
     "name": "stdout",
     "output_type": "stream",
     "text": [
      "Epoch 89/100: TRAIN Loss=0.58408 -- Acc=97.684% || TEST Loss=0.80494 -- Acc=87.845%  --- Time=38min \n"
     ]
    },
    {
     "name": "stderr",
     "output_type": "stream",
     "text": [
      "100%|██████████| 965/965 [33:54<00:00,  2.11s/it]\n"
     ]
    },
    {
     "name": "stdout",
     "output_type": "stream",
     "text": [
      "Epoch 90/100: TRAIN Loss=0.58439 -- Acc=97.625% || TEST Loss=0.82478 -- Acc=87.217%  --- Time=38min \n"
     ]
    },
    {
     "name": "stderr",
     "output_type": "stream",
     "text": [
      "100%|██████████| 965/965 [34:29<00:00,  2.14s/it]\n"
     ]
    },
    {
     "name": "stdout",
     "output_type": "stream",
     "text": [
      "Epoch 91/100: TRAIN Loss=0.58371 -- Acc=97.676% || TEST Loss=0.82709 -- Acc=87.043%  --- Time=38min \n"
     ]
    },
    {
     "name": "stderr",
     "output_type": "stream",
     "text": [
      "100%|██████████| 965/965 [34:37<00:00,  2.15s/it]\n"
     ]
    },
    {
     "name": "stdout",
     "output_type": "stream",
     "text": [
      "Epoch 00092: reducing learning rate of group 0 to 1.0000e-08.\n",
      "Epoch 92/100: TRAIN Loss=0.58367 -- Acc=97.706% || TEST Loss=0.83585 -- Acc=86.709%  --- Time=39min \n"
     ]
    },
    {
     "name": "stderr",
     "output_type": "stream",
     "text": [
      "100%|██████████| 965/965 [34:16<00:00,  2.13s/it]\n"
     ]
    },
    {
     "name": "stdout",
     "output_type": "stream",
     "text": [
      "Epoch 93/100: TRAIN Loss=0.58372 -- Acc=97.686% || TEST Loss=0.82079 -- Acc=87.575%  --- Time=38min \n"
     ]
    },
    {
     "name": "stderr",
     "output_type": "stream",
     "text": [
      "100%|██████████| 965/965 [34:22<00:00,  2.14s/it]\n"
     ]
    },
    {
     "name": "stdout",
     "output_type": "stream",
     "text": [
      "Epoch 94/100: TRAIN Loss=0.58366 -- Acc=97.714% || TEST Loss=0.80892 -- Acc=87.839%  --- Time=38min \n"
     ]
    },
    {
     "name": "stderr",
     "output_type": "stream",
     "text": [
      "100%|██████████| 965/965 [34:02<00:00,  2.12s/it]\n"
     ]
    },
    {
     "name": "stdout",
     "output_type": "stream",
     "text": [
      "Epoch 95/100: TRAIN Loss=0.58355 -- Acc=97.685% || TEST Loss=0.82713 -- Acc=86.948%  --- Time=38min \n"
     ]
    },
    {
     "name": "stderr",
     "output_type": "stream",
     "text": [
      "100%|██████████| 965/965 [33:57<00:00,  2.11s/it]\n"
     ]
    },
    {
     "name": "stdout",
     "output_type": "stream",
     "text": [
      "Epoch 96/100: TRAIN Loss=0.58399 -- Acc=97.659% || TEST Loss=0.81448 -- Acc=87.683%  --- Time=38min \n"
     ]
    },
    {
     "name": "stderr",
     "output_type": "stream",
     "text": [
      "100%|██████████| 965/965 [34:27<00:00,  2.14s/it]\n"
     ]
    },
    {
     "name": "stdout",
     "output_type": "stream",
     "text": [
      "Epoch 97/100: TRAIN Loss=0.58351 -- Acc=97.726% || TEST Loss=0.82007 -- Acc=87.283%  --- Time=38min \n"
     ]
    },
    {
     "name": "stderr",
     "output_type": "stream",
     "text": [
      "100%|██████████| 965/965 [34:38<00:00,  2.15s/it]\n"
     ]
    },
    {
     "name": "stdout",
     "output_type": "stream",
     "text": [
      "Epoch 98/100: TRAIN Loss=0.58336 -- Acc=97.694% || TEST Loss=0.82677 -- Acc=87.067%  --- Time=38min \n"
     ]
    },
    {
     "name": "stderr",
     "output_type": "stream",
     "text": [
      "100%|██████████| 965/965 [34:46<00:00,  2.16s/it]\n"
     ]
    },
    {
     "name": "stdout",
     "output_type": "stream",
     "text": [
      "Epoch 99/100: TRAIN Loss=0.58317 -- Acc=97.716% || TEST Loss=0.81579 -- Acc=87.516%  --- Time=39min \n"
     ]
    },
    {
     "name": "stderr",
     "output_type": "stream",
     "text": [
      "100%|██████████| 965/965 [34:42<00:00,  2.16s/it]\n"
     ]
    },
    {
     "name": "stdout",
     "output_type": "stream",
     "text": [
      "Epoch 100/100: TRAIN Loss=0.58351 -- Acc=97.711% || TEST Loss=0.83105 -- Acc=86.948%  --- Time=39min \n",
      "total time : T=65.000h\n"
     ]
    }
   ],
   "source": [
    "best_acc = 0\n",
    "num_epoch=100\n",
    "comment=\" \"\n",
    "T=0\n",
    "\n",
    "train_loss, test_loss, train_accuracy, test_accuracy = [], [], [], []\n",
    "\n",
    "for epoch in range(num_epoch):\n",
    "    t0 = time.time()               \n",
    "    # train one epoch for each batch                                                                                                         \n",
    "    epoch_train_loss, epoch_train_accuracy  = training(model, train_loader, criterion, optimizer, device)\n",
    "    epoch_test_loss, epoch_test_accuracy    = testing(model, test_loader, criterion, device)\n",
    "\n",
    "    # save the model if is currently the best\n",
    "    if best_acc < epoch_test_accuracy:\n",
    "        best_acc = epoch_test_accuracy\n",
    "        torch.save(model.state_dict(),     f\"checkpoints/supervised/best_model_{num_classes}C.pth\")\n",
    "        torch.save(optimizer.state_dict(), f\"checkpoints/supervised/best_optimizer_{num_classes}C.pth\")\n",
    "        comment=\" (loss decreased!) new best model saved\"\n",
    "    \n",
    "    # reduce the learning rate if test loss didn't decrease\n",
    "    scheduler.step(epoch_test_loss)\n",
    "\n",
    "    # keep track of the loss and accuracy\n",
    "    train_loss.append(epoch_train_loss)\n",
    "    train_accuracy.append(epoch_train_accuracy)\n",
    "    test_loss.append(epoch_test_loss)\n",
    "    test_accuracy.append(epoch_test_accuracy)\n",
    "\n",
    "    # every 5 epoch save the loss and accuracy history. the model and the optimizer (lr changes)\n",
    "    if epoch!=0 and epoch%5 == 0:\n",
    "        np.save(f'evaluation/supervised/{num_classes}c_train_test_loss.npy', [train_loss, test_loss])\n",
    "        np.save(f'evaluation/supervised/{num_classes}c_train_test_accuracies.npy', [train_accuracy, test_accuracy])\n",
    "        torch.save(model.state_dict(),     f\"checkpoints/supervised/last_model_{num_classes}C.pth\")\n",
    "        torch.save(optimizer.state_dict(), f\"checkpoints/supervised/last_optimizer_{num_classes}C.pth\")\n",
    "        \n",
    "    print('Epoch {:g}/{:g}: TRAIN Loss={:0.5f} -- Acc={:0.3f}% '.format(epoch+1,num_epoch, epoch_train_loss, epoch_train_accuracy), end='')\n",
    "    print('|| TEST Loss={:0.5f} -- Acc={:0.3f}%  --- Time={:g}min'.format(epoch_test_loss,epoch_test_accuracy, (time.time()-t0)//60), end='')\n",
    "    print(comment)\n",
    "    comment=\" \"\n",
    "    T+=(time.time()-t0)\n",
    "\n",
    "    # early_stopping(epoch_test_loss)\n",
    "    # if early_stopping.early_stop:\n",
    "    #     print(\"Early stopping.\")\n",
    "    #     break\n",
    "print(\"total time : T={:.3f}h\".format(T//3600))\n",
    "\n",
    "# save the final model\n",
    "np.save(f'evaluation/supervised/{num_classes}c_train_test_loss.npy', [train_loss, test_loss])\n",
    "np.save(f'evaluation/supervised/{num_classes}c_train_test_accuracies.npy', [train_accuracy, test_accuracy])\n",
    "torch.save(model.state_dict(),     f\"checkpoints/supervised/last_model_{num_classes}C.pth\")\n",
    "torch.save(optimizer.state_dict(), f\"checkpoints/supervised/last_optimizer_{num_classes}C.pth\")"
   ]
  }
 ],
 "metadata": {
  "kernelspec": {
   "display_name": "Python 3 (ipykernel)",
   "language": "python",
   "name": "python3"
  },
  "language_info": {
   "codemirror_mode": {
    "name": "ipython",
    "version": 3
   },
   "file_extension": ".py",
   "mimetype": "text/x-python",
   "name": "python",
   "nbconvert_exporter": "python",
   "pygments_lexer": "ipython3",
   "version": "3.10.12"
  }
 },
 "nbformat": 4,
 "nbformat_minor": 4
}
