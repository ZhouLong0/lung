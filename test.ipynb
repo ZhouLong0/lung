{
 "cells": [
  {
   "cell_type": "code",
   "execution_count": 24,
   "metadata": {},
   "outputs": [
    {
     "data": {
      "text/plain": [
       "<matplotlib.legend.Legend at 0x7e1f876ee2f0>"
      ]
     },
     "execution_count": 24,
     "metadata": {},
     "output_type": "execute_result"
    },
    {
     "data": {
      "image/png": "[encoded data removed]",
      "text/plain": [
       "<Figure size 640x480 with 1 Axes>"
      ]
     },
     "metadata": {},
     "output_type": "display_data"
    }
   ],
   "source": [
    "import matplotlib.pyplot as plt\n",
    "import matplotlib.patches as mpatches\n",
    "\n",
    "T_COLOR = (255,0,0) \t #orange red \n",
    "FI_COLOR = (100, 216, 230) #light coral \t\n",
    "NE_COLOR = (138,43,226)  #blue violet\n",
    "TL_COLOR= (255,215,0)    #gold \n",
    "H_COLOR = (255,192,203)\n",
    "P_COLOR= (50,205,50)    #lime green \n",
    "\n",
    "list_classes = ['P', 'H', 'Né', 'TL', 'Fi', 'T']\n",
    "colors_pred = {0:P_COLOR, 1:H_COLOR, 2:NE_COLOR, 3:TL_COLOR, 4:FI_COLOR, 5:T_COLOR}\n",
    "\n",
    "patches = [mpatches.Patch(color=tuple(c/255 for c in color), label=list_classes[label]) for label, color in colors_pred.items()]\n",
    "plt.legend(handles=patches, loc='upper right')"
   ]
  },
  {
   "cell_type": "code",
   "execution_count": 2,
   "metadata": {},
   "outputs": [],
   "source": [
    "import numpy as np"
   ]
  },
  {
   "cell_type": "code",
   "execution_count": 18,
   "metadata": {},
   "outputs": [
    {
     "data": {
      "text/plain": [
       "array([0.5488135 , 0.71518937, 0.60276338, 0.54488318, 0.4236548 ,\n",
       "       0.64589411, 0.43758721, 0.891773  , 0.96366276, 0.38344152])"
      ]
     },
     "execution_count": 18,
     "metadata": {},
     "output_type": "execute_result"
    }
   ],
   "source": [
    "np.random.seed(0)\n",
    "np.random.rand(10)"
   ]
  },
  {
   "cell_type": "code",
   "execution_count": 25,
   "metadata": {},
   "outputs": [],
   "source": [
    "import pandas as pd\n",
    "\n",
    "n_shots = [1, 5, 10, 20, 50, 100]\n",
    "accuracies = [0.1, 0.2, 0.3, 0.4, 0.5, 0.6]\n",
    "f1_macro_scores = [0.6, 0.5, 0.4, 0.3, 0.2, 0.1]\n",
    "f1_weighted_scores = np.random.rand(6)\n",
    "\n",
    "df = pd.DataFrame({\n",
    "                    'n_shots': n_shots,\n",
    "                    'accuracies': accuracies,\n",
    "                    'f1_macro_scores': f1_macro_scores,\n",
    "                    'f1_weighted_scores': f1_weighted_scores\n",
    "                })"
   ]
  },
  {
   "cell_type": "code",
   "execution_count": 27,
   "metadata": {},
   "outputs": [
    {
     "data": {
      "text/html": [
       "<div>\n",
       "<style scoped>\n",
       "    .dataframe tbody tr th:only-of-type {\n",
       "        vertical-align: middle;\n",
       "    }\n",
       "\n",
       "    .dataframe tbody tr th {\n",
       "        vertical-align: top;\n",
       "    }\n",
       "\n",
       "    .dataframe thead th {\n",
       "        text-align: right;\n",
       "    }\n",
       "</style>\n",
       "<table border=\"1\" class=\"dataframe\">\n",
       "  <thead>\n",
       "    <tr style=\"text-align: right;\">\n",
       "      <th></th>\n",
       "      <th>n_shots</th>\n",
       "      <th>accuracies</th>\n",
       "      <th>f1_macro_scores</th>\n",
       "      <th>f1_weighted_scores</th>\n",
       "    </tr>\n",
       "  </thead>\n",
       "  <tbody>\n",
       "    <tr>\n",
       "      <th>0</th>\n",
       "      <td>1</td>\n",
       "      <td>0.1</td>\n",
       "      <td>0.6</td>\n",
       "      <td>0.639921</td>\n",
       "    </tr>\n",
       "    <tr>\n",
       "      <th>1</th>\n",
       "      <td>5</td>\n",
       "      <td>0.2</td>\n",
       "      <td>0.5</td>\n",
       "      <td>0.143353</td>\n",
       "    </tr>\n",
       "    <tr>\n",
       "      <th>2</th>\n",
       "      <td>10</td>\n",
       "      <td>0.3</td>\n",
       "      <td>0.4</td>\n",
       "      <td>0.944669</td>\n",
       "    </tr>\n",
       "    <tr>\n",
       "      <th>3</th>\n",
       "      <td>20</td>\n",
       "      <td>0.4</td>\n",
       "      <td>0.3</td>\n",
       "      <td>0.521848</td>\n",
       "    </tr>\n",
       "    <tr>\n",
       "      <th>4</th>\n",
       "      <td>50</td>\n",
       "      <td>0.5</td>\n",
       "      <td>0.2</td>\n",
       "      <td>0.414662</td>\n",
       "    </tr>\n",
       "    <tr>\n",
       "      <th>5</th>\n",
       "      <td>100</td>\n",
       "      <td>0.6</td>\n",
       "      <td>0.1</td>\n",
       "      <td>0.264556</td>\n",
       "    </tr>\n",
       "  </tbody>\n",
       "</table>\n",
       "</div>"
      ],
      "text/plain": [
       "   n_shots  accuracies  f1_macro_scores  f1_weighted_scores\n",
       "0        1         0.1              0.6            0.639921\n",
       "1        5         0.2              0.5            0.143353\n",
       "2       10         0.3              0.4            0.944669\n",
       "3       20         0.4              0.3            0.521848\n",
       "4       50         0.5              0.2            0.414662\n",
       "5      100         0.6              0.1            0.264556"
      ]
     },
     "execution_count": 27,
     "metadata": {},
     "output_type": "execute_result"
    }
   ],
   "source": [
    "df"
   ]
  }
 ],
 "metadata": {
  "kernelspec": {
   "display_name": "Python 3",
   "language": "python",
   "name": "python3"
  },
  "language_info": {
   "codemirror_mode": {
    "name": "ipython",
    "version": 3
   },
   "file_extension": ".py",
   "mimetype": "text/x-python",
   "name": "python",
   "nbconvert_exporter": "python",
   "pygments_lexer": "ipython3",
   "version": "3.10.12"
  }
 },
 "nbformat": 4,
 "nbformat_minor": 2
}
