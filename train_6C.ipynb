{
 "cells": [
  {
   "cell_type": "code",
   "execution_count": 26,
   "metadata": {},
   "outputs": [
    {
     "name": "stdout",
     "output_type": "stream",
     "text": [
      "Number of available GPUs: 1\n"
     ]
    },
    {
     "data": {
      "text/plain": [
       "device(type='cuda', index=0)"
      ]
     },
     "execution_count": 26,
     "metadata": {},
     "output_type": "execute_result"
    }
   ],
   "source": [
    "import warnings\n",
    "warnings.filterwarnings(\"ignore\")\n",
    "\n",
    "import time\n",
    "import os\n",
    "import random\n",
    "from tqdm import tqdm\n",
    "import matplotlib.pyplot as plt\n",
    "import numpy as np \n",
    "import pandas as pd\n",
    "import seaborn as sns\n",
    "\n",
    "import torch\n",
    "import torch.nn as nn\n",
    "import pytorch_lightning\n",
    "from torch.utils.data import DataLoader\n",
    "import torchvision.transforms as tt\n",
    "import torch.optim as optim\n",
    "from torch.optim import lr_scheduler\n",
    "from sklearn.metrics import *\n",
    "from PIL import Image\n",
    "from imblearn.over_sampling import RandomOverSampler\n",
    "from sklearn.utils.class_weight import compute_class_weight\n",
    "\n",
    "from src.utils.utils import training, testing, EarlyStopping, get_y_true_preds\n",
    "from src.utils.LungDataset import LungSet\n",
    "from src.model.LungNetwork import LungNet\n",
    "\n",
    "import torch\n",
    "\n",
    "if torch.cuda.is_available():\n",
    "    num_gpus = torch.cuda.device_count()\n",
    "    print(f\"Number of available GPUs: {num_gpus}\")\n",
    "    device = torch.device(\"cuda:0\" if torch.cuda.is_available() else \"cpu\")\n",
    "    \n",
    "seed=2024\n",
    "np.random.seed(seed)\n",
    "random.seed(seed)\n",
    "torch.manual_seed(seed)\n",
    "torch.cuda.manual_seed(seed)\n",
    "torch.cuda.manual_seed_all(seed)\n",
    "torch.backends.cudnn.deterministic = True\n",
    "torch.backends.cudnn.benchmark = False\n",
    "device"
   ]
  },
  {
   "cell_type": "code",
   "execution_count": 27,
   "metadata": {},
   "outputs": [],
   "source": [
    "# model config\n",
    "baseline_path = \"src/model/tenpercent_resnet18.ckpt\"\n",
    "BATCH_SIZE = 128\n",
    "num_classes = 6\n",
    "prefix = '6C'\n",
    "id = '_adam_r0.1'\n",
    "\n",
    "# data config\n",
    "augmented_test = False\n",
    "oversampling = False\n",
    "train_path = f\"data/splits/{prefix}_support_augmented.csv\"\n",
    "test_path = f\"data/splits/{prefix}_query.csv\" if not augmented_test else f\"data/split/{prefix}_query_augmented.csv\"\n",
    "train_data_path = \"data/augmented_data\"\n",
    "test_data_path = \"data/normalized_data\" if not augmented_test else \"data/augmented_data\"\n",
    "\n",
    "#save path config\n",
    "save_dir = f\"checkpoints/supervised/{prefix}{id}/\" if not oversampling else f\"checkpoints/supervised/{prefix}{id}/oversampled/\"\n",
    "if not os.path.exists(save_dir):\n",
    "    os.makedirs(save_dir)\n",
    "save_path_model_best = f\"{save_dir}/best_model.pth\"\n",
    "save_path_optim_best = f\"{save_dir}/best_optim.pth\"\n",
    "save_path_model_last = f\"{save_dir}/last_model.pth\"\n",
    "save_path_optim_last = f\"{save_dir}/last_optim.pth\"\n",
    "\n",
    "save_path_loss_history = f\"{save_dir}/train_test_loss_history.npy\"\n",
    "save_path_acc_history = f\"{save_dir}/train_test_acc_history.npy\"\n"
   ]
  },
  {
   "cell_type": "code",
   "execution_count": 28,
   "metadata": {},
   "outputs": [],
   "source": [
    "dtrain= pd.read_csv(train_path).sample(frac = 1)\n",
    "dtest = pd.read_csv(test_path).sample(frac = 1)\n",
    "\n",
    "X_train = dtrain\n",
    "y_train = dtrain['label']\n",
    "\n",
    "# Oversample using sampling with replacement s.t. each class has the same number of samples\n",
    "X_ros, y_ros = RandomOverSampler(random_state=seed).fit_resample(X_train, y_train)"
   ]
  },
  {
   "cell_type": "code",
   "execution_count": 18,
   "metadata": {},
   "outputs": [
    {
     "data": {
      "text/html": [
       "<div>\n",
       "<style scoped>\n",
       "    .dataframe tbody tr th:only-of-type {\n",
       "        vertical-align: middle;\n",
       "    }\n",
       "\n",
       "    .dataframe tbody tr th {\n",
       "        vertical-align: top;\n",
       "    }\n",
       "\n",
       "    .dataframe thead th {\n",
       "        text-align: right;\n",
       "    }\n",
       "</style>\n",
       "<table border=\"1\" class=\"dataframe\">\n",
       "  <thead>\n",
       "    <tr style=\"text-align: right;\">\n",
       "      <th></th>\n",
       "      <th>Patient</th>\n",
       "      <th>lame</th>\n",
       "      <th>patch</th>\n",
       "      <th>classe</th>\n",
       "      <th>tetraClass</th>\n",
       "      <th>label</th>\n",
       "      <th>dataset</th>\n",
       "    </tr>\n",
       "  </thead>\n",
       "  <tbody>\n",
       "    <tr>\n",
       "      <th>67621</th>\n",
       "      <td>169</td>\n",
       "      <td>Fo</td>\n",
       "      <td>Fo_169_A (342)_VF.jpg</td>\n",
       "      <td>Foetal</td>\n",
       "      <td>T</td>\n",
       "      <td>5</td>\n",
       "      <td>train</td>\n",
       "    </tr>\n",
       "    <tr>\n",
       "      <th>28137</th>\n",
       "      <td>230</td>\n",
       "      <td>N</td>\n",
       "      <td>N_230_A (3)_rot270.jpg</td>\n",
       "      <td>Nécrose</td>\n",
       "      <td>Né</td>\n",
       "      <td>2</td>\n",
       "      <td>train</td>\n",
       "    </tr>\n",
       "    <tr>\n",
       "      <th>51341</th>\n",
       "      <td>231</td>\n",
       "      <td>S</td>\n",
       "      <td>S_231_A (1715)_VF.jpg</td>\n",
       "      <td>Solide</td>\n",
       "      <td>T</td>\n",
       "      <td>5</td>\n",
       "      <td>train</td>\n",
       "    </tr>\n",
       "    <tr>\n",
       "      <th>32559</th>\n",
       "      <td>9</td>\n",
       "      <td>N</td>\n",
       "      <td>N_9_S (1093).tif</td>\n",
       "      <td>Nécrose</td>\n",
       "      <td>Né</td>\n",
       "      <td>2</td>\n",
       "      <td>train</td>\n",
       "    </tr>\n",
       "    <tr>\n",
       "      <th>66549</th>\n",
       "      <td>230</td>\n",
       "      <td>Gc</td>\n",
       "      <td>Gc_230_A (145).jpg</td>\n",
       "      <td>Glandulaire complexe</td>\n",
       "      <td>T</td>\n",
       "      <td>5</td>\n",
       "      <td>train</td>\n",
       "    </tr>\n",
       "    <tr>\n",
       "      <th>...</th>\n",
       "      <td>...</td>\n",
       "      <td>...</td>\n",
       "      <td>...</td>\n",
       "      <td>...</td>\n",
       "      <td>...</td>\n",
       "      <td>...</td>\n",
       "      <td>...</td>\n",
       "    </tr>\n",
       "    <tr>\n",
       "      <th>47643</th>\n",
       "      <td>231</td>\n",
       "      <td>F</td>\n",
       "      <td>F_231_A (152)_rot45.jpg</td>\n",
       "      <td>Fibrose</td>\n",
       "      <td>Fi</td>\n",
       "      <td>4</td>\n",
       "      <td>train</td>\n",
       "    </tr>\n",
       "    <tr>\n",
       "      <th>35456</th>\n",
       "      <td>231</td>\n",
       "      <td>TL</td>\n",
       "      <td>TL_231_A (22)_HF.jpg</td>\n",
       "      <td>Tissu lymphoïde</td>\n",
       "      <td>TL</td>\n",
       "      <td>3</td>\n",
       "      <td>train</td>\n",
       "    </tr>\n",
       "    <tr>\n",
       "      <th>51808</th>\n",
       "      <td>7</td>\n",
       "      <td>A</td>\n",
       "      <td>A_7_A (279).jpg</td>\n",
       "      <td>Acinaire</td>\n",
       "      <td>T</td>\n",
       "      <td>5</td>\n",
       "      <td>train</td>\n",
       "    </tr>\n",
       "    <tr>\n",
       "      <th>52730</th>\n",
       "      <td>247</td>\n",
       "      <td>A</td>\n",
       "      <td>A_247_A (2937).jpg</td>\n",
       "      <td>Acinaire</td>\n",
       "      <td>T</td>\n",
       "      <td>5</td>\n",
       "      <td>train</td>\n",
       "    </tr>\n",
       "    <tr>\n",
       "      <th>7816</th>\n",
       "      <td>3</td>\n",
       "      <td>No</td>\n",
       "      <td>No_3_C(463)_HF.jpg</td>\n",
       "      <td>Normal</td>\n",
       "      <td>P</td>\n",
       "      <td>0</td>\n",
       "      <td>train</td>\n",
       "    </tr>\n",
       "  </tbody>\n",
       "</table>\n",
       "<p>71601 rows × 7 columns</p>\n",
       "</div>"
      ],
      "text/plain": [
       "       Patient lame                    patch                classe tetraClass   \n",
       "67621      169   Fo    Fo_169_A (342)_VF.jpg                Foetal          T  \\\n",
       "28137      230    N   N_230_A (3)_rot270.jpg               Nécrose         Né   \n",
       "51341      231    S    S_231_A (1715)_VF.jpg                Solide          T   \n",
       "32559        9    N         N_9_S (1093).tif               Nécrose         Né   \n",
       "66549      230   Gc       Gc_230_A (145).jpg  Glandulaire complexe          T   \n",
       "...        ...  ...                      ...                   ...        ...   \n",
       "47643      231    F  F_231_A (152)_rot45.jpg               Fibrose         Fi   \n",
       "35456      231   TL     TL_231_A (22)_HF.jpg       Tissu lymphoïde         TL   \n",
       "51808        7    A          A_7_A (279).jpg              Acinaire          T   \n",
       "52730      247    A       A_247_A (2937).jpg              Acinaire          T   \n",
       "7816         3   No       No_3_C(463)_HF.jpg                Normal          P   \n",
       "\n",
       "       label dataset  \n",
       "67621      5   train  \n",
       "28137      2   train  \n",
       "51341      5   train  \n",
       "32559      2   train  \n",
       "66549      5   train  \n",
       "...      ...     ...  \n",
       "47643      4   train  \n",
       "35456      3   train  \n",
       "51808      5   train  \n",
       "52730      5   train  \n",
       "7816       0   train  \n",
       "\n",
       "[71601 rows x 7 columns]"
      ]
     },
     "execution_count": 18,
     "metadata": {},
     "output_type": "execute_result"
    }
   ],
   "source": [
    "X_train"
   ]
  },
  {
   "cell_type": "code",
   "execution_count": 19,
   "metadata": {},
   "outputs": [
    {
     "data": {
      "text/html": [
       "<div>\n",
       "<style scoped>\n",
       "    .dataframe tbody tr th:only-of-type {\n",
       "        vertical-align: middle;\n",
       "    }\n",
       "\n",
       "    .dataframe tbody tr th {\n",
       "        vertical-align: top;\n",
       "    }\n",
       "\n",
       "    .dataframe thead th {\n",
       "        text-align: right;\n",
       "    }\n",
       "</style>\n",
       "<table border=\"1\" class=\"dataframe\">\n",
       "  <thead>\n",
       "    <tr style=\"text-align: right;\">\n",
       "      <th></th>\n",
       "      <th>Patient</th>\n",
       "      <th>lame</th>\n",
       "      <th>patch</th>\n",
       "      <th>classe</th>\n",
       "      <th>tetraClass</th>\n",
       "      <th>label</th>\n",
       "      <th>dataset</th>\n",
       "    </tr>\n",
       "  </thead>\n",
       "  <tbody>\n",
       "    <tr>\n",
       "      <th>1687</th>\n",
       "      <td>2</td>\n",
       "      <td>B</td>\n",
       "      <td>2_B_row_67_col_54.jpg</td>\n",
       "      <td>Papillaire</td>\n",
       "      <td>T</td>\n",
       "      <td>5</td>\n",
       "      <td>test</td>\n",
       "    </tr>\n",
       "    <tr>\n",
       "      <th>2347</th>\n",
       "      <td>17</td>\n",
       "      <td>A</td>\n",
       "      <td>17_A_row_92_col_77.jpg</td>\n",
       "      <td>Lépidique</td>\n",
       "      <td>T</td>\n",
       "      <td>5</td>\n",
       "      <td>test</td>\n",
       "    </tr>\n",
       "    <tr>\n",
       "      <th>2252</th>\n",
       "      <td>192</td>\n",
       "      <td>A</td>\n",
       "      <td>192_A_row_53_col_251.jpg</td>\n",
       "      <td>Foetal</td>\n",
       "      <td>T</td>\n",
       "      <td>5</td>\n",
       "      <td>test</td>\n",
       "    </tr>\n",
       "    <tr>\n",
       "      <th>413</th>\n",
       "      <td>192</td>\n",
       "      <td>A</td>\n",
       "      <td>192_A_row_52_col_198.jpg</td>\n",
       "      <td>Hémorragique</td>\n",
       "      <td>H</td>\n",
       "      <td>1</td>\n",
       "      <td>test</td>\n",
       "    </tr>\n",
       "    <tr>\n",
       "      <th>998</th>\n",
       "      <td>2</td>\n",
       "      <td>B</td>\n",
       "      <td>2_B_row_55_col_43.jpg</td>\n",
       "      <td>Acinaire</td>\n",
       "      <td>T</td>\n",
       "      <td>5</td>\n",
       "      <td>test</td>\n",
       "    </tr>\n",
       "    <tr>\n",
       "      <th>...</th>\n",
       "      <td>...</td>\n",
       "      <td>...</td>\n",
       "      <td>...</td>\n",
       "      <td>...</td>\n",
       "      <td>...</td>\n",
       "      <td>...</td>\n",
       "      <td>...</td>\n",
       "    </tr>\n",
       "    <tr>\n",
       "      <th>317</th>\n",
       "      <td>192</td>\n",
       "      <td>A</td>\n",
       "      <td>192_A_row_53_col_206.jpg</td>\n",
       "      <td>Hémorragique</td>\n",
       "      <td>H</td>\n",
       "      <td>1</td>\n",
       "      <td>test</td>\n",
       "    </tr>\n",
       "    <tr>\n",
       "      <th>1715</th>\n",
       "      <td>44</td>\n",
       "      <td>A</td>\n",
       "      <td>44_A_row_65_col_127.jpg</td>\n",
       "      <td>Mucineux</td>\n",
       "      <td>T</td>\n",
       "      <td>5</td>\n",
       "      <td>test</td>\n",
       "    </tr>\n",
       "    <tr>\n",
       "      <th>2257</th>\n",
       "      <td>192</td>\n",
       "      <td>A</td>\n",
       "      <td>192_A_row_48_col_266.jpg</td>\n",
       "      <td>Foetal</td>\n",
       "      <td>T</td>\n",
       "      <td>5</td>\n",
       "      <td>test</td>\n",
       "    </tr>\n",
       "    <tr>\n",
       "      <th>1374</th>\n",
       "      <td>2</td>\n",
       "      <td>B</td>\n",
       "      <td>2_B_row_68_col_42.jpg</td>\n",
       "      <td>Papillaire</td>\n",
       "      <td>T</td>\n",
       "      <td>5</td>\n",
       "      <td>test</td>\n",
       "    </tr>\n",
       "    <tr>\n",
       "      <th>961</th>\n",
       "      <td>192</td>\n",
       "      <td>A</td>\n",
       "      <td>192_A_row_49_col_252.jpg</td>\n",
       "      <td>Foetal</td>\n",
       "      <td>T</td>\n",
       "      <td>5</td>\n",
       "      <td>test</td>\n",
       "    </tr>\n",
       "  </tbody>\n",
       "</table>\n",
       "<p>2395 rows × 7 columns</p>\n",
       "</div>"
      ],
      "text/plain": [
       "      Patient lame                     patch        classe tetraClass  label   \n",
       "1687        2    B     2_B_row_67_col_54.jpg    Papillaire          T      5  \\\n",
       "2347       17    A    17_A_row_92_col_77.jpg     Lépidique          T      5   \n",
       "2252      192    A  192_A_row_53_col_251.jpg        Foetal          T      5   \n",
       "413       192    A  192_A_row_52_col_198.jpg  Hémorragique          H      1   \n",
       "998         2    B     2_B_row_55_col_43.jpg      Acinaire          T      5   \n",
       "...       ...  ...                       ...           ...        ...    ...   \n",
       "317       192    A  192_A_row_53_col_206.jpg  Hémorragique          H      1   \n",
       "1715       44    A   44_A_row_65_col_127.jpg      Mucineux          T      5   \n",
       "2257      192    A  192_A_row_48_col_266.jpg        Foetal          T      5   \n",
       "1374        2    B     2_B_row_68_col_42.jpg    Papillaire          T      5   \n",
       "961       192    A  192_A_row_49_col_252.jpg        Foetal          T      5   \n",
       "\n",
       "     dataset  \n",
       "1687    test  \n",
       "2347    test  \n",
       "2252    test  \n",
       "413     test  \n",
       "998     test  \n",
       "...      ...  \n",
       "317     test  \n",
       "1715    test  \n",
       "2257    test  \n",
       "1374    test  \n",
       "961     test  \n",
       "\n",
       "[2395 rows x 7 columns]"
      ]
     },
     "execution_count": 19,
     "metadata": {},
     "output_type": "execute_result"
    }
   ],
   "source": [
    "dtest"
   ]
  },
  {
   "cell_type": "code",
   "execution_count": 20,
   "metadata": {},
   "outputs": [
    {
     "data": {
      "text/plain": [
       "(tetraClass\n",
       " P     22755\n",
       " T     21165\n",
       " Fi    12612\n",
       " Né     8994\n",
       " TL     3069\n",
       " H      3006\n",
       " Name: count, dtype: int64,\n",
       " tetraClass\n",
       " T     22755\n",
       " Né    22755\n",
       " Fi    22755\n",
       " H     22755\n",
       " TL    22755\n",
       " P     22755\n",
       " Name: count, dtype: int64)"
      ]
     },
     "execution_count": 20,
     "metadata": {},
     "output_type": "execute_result"
    }
   ],
   "source": [
    "X_train['tetraClass'].value_counts(), X_ros['tetraClass'].value_counts()"
   ]
  },
  {
   "cell_type": "code",
   "execution_count": 6,
   "metadata": {},
   "outputs": [],
   "source": [
    "if oversampling:\n",
    "    X_train, y_train = X_ros, y_ros"
   ]
  },
  {
   "cell_type": "markdown",
   "metadata": {},
   "source": [
    "t_train = tt.Compose([tt.RandomHorizontalFlip(), \n",
    "                    tt.RandomVerticalFlip(),\n",
    "                    tt.ToTensor()])\n",
    "t_test = tt.Compose([tt.ToTensor()])"
   ]
  },
  {
   "cell_type": "code",
   "execution_count": 29,
   "metadata": {},
   "outputs": [],
   "source": [
    "# create a LungSet object(torch.Datatset) with:\n",
    "# df(DataFrame): image_path, label\n",
    "# data_path(str): directory containing the images\n",
    "# transform(transforms.Compose): transformations to apply\n",
    "# __iter__: return torch(Image), label\n",
    "train_set = LungSet(X_train, data_path=train_data_path)\n",
    "test_set = LungSet(dtest, data_path=test_data_path)\n",
    "\n",
    "# Create the torch.Dataloader\n",
    "train_loader = DataLoader(train_set, batch_size=BATCH_SIZE, shuffle=True)\n",
    "test_loader = DataLoader(test_set, batch_size=BATCH_SIZE, shuffle=False)"
   ]
  },
  {
   "cell_type": "code",
   "execution_count": 30,
   "metadata": {},
   "outputs": [
    {
     "data": {
      "text/plain": [
       "(71601, 2395)"
      ]
     },
     "execution_count": 30,
     "metadata": {},
     "output_type": "execute_result"
    }
   ],
   "source": [
    "len(train_set), len(test_set)"
   ]
  },
  {
   "cell_type": "code",
   "execution_count": 31,
   "metadata": {},
   "outputs": [],
   "source": [
    "# Set up the model\n",
    "model = LungNet(baseline_path, num_classes)\n",
    "model = model.to(device)\n",
    "\n",
    "# data paralellism in traning\n",
    "# model=nn.DataParallel(model, device_ids=[0, 1])\n",
    "# model=model.cuda()\n",
    "\n",
    "criterion = nn.CrossEntropyLoss(label_smoothing=0.125)\n",
    "early_stopping = EarlyStopping(patience=10, delta=0.001)\n",
    "optimizer = optim.AdamW(model.parameters(), lr=0.1, weight_decay=0.05)\n",
    "# allow dynamic lr reducing based on some measurement (a metric has stopped improving)\n",
    "scheduler = lr_scheduler.ReduceLROnPlateau(optimizer, mode='min',factor=0.1, patience=10, min_lr=1e-15, verbose=True)"
   ]
  },
  {
   "cell_type": "code",
   "execution_count": 32,
   "metadata": {},
   "outputs": [
    {
     "name": "stdout",
     "output_type": "stream",
     "text": [
      "trainable parameters 70310\n"
     ]
    }
   ],
   "source": [
    "print(\"trainable parameters\",sum([p.numel() for p in model.parameters() if p.requires_grad]))"
   ]
  },
  {
   "cell_type": "code",
   "execution_count": 33,
   "metadata": {
    "scrolled": true
   },
   "outputs": [
    {
     "name": "stderr",
     "output_type": "stream",
     "text": [
      "100%|██████████| 560/560 [20:41<00:00,  2.22s/it]\n"
     ]
    },
    {
     "name": "stdout",
     "output_type": "stream",
     "text": [
      "Epoch 1/100: TRAIN Loss=0.66376 -- Acc=93.472% || TEST Loss=1.21766 -- Acc=62.630%  --- Time=21min (loss decreased!) new best model saved\n"
     ]
    },
    {
     "name": "stderr",
     "output_type": "stream",
     "text": [
      "100%|██████████| 560/560 [20:28<00:00,  2.19s/it]\n"
     ]
    },
    {
     "name": "stdout",
     "output_type": "stream",
     "text": [
      "Epoch 2/100: TRAIN Loss=0.63570 -- Acc=94.606% || TEST Loss=0.83703 -- Acc=83.340%  --- Time=21min (loss decreased!) new best model saved\n"
     ]
    },
    {
     "name": "stderr",
     "output_type": "stream",
     "text": [
      "100%|██████████| 560/560 [20:43<00:00,  2.22s/it]\n"
     ]
    },
    {
     "name": "stdout",
     "output_type": "stream",
     "text": [
      "Epoch 3/100: TRAIN Loss=0.63847 -- Acc=94.633% || TEST Loss=0.87054 -- Acc=80.585%  --- Time=21min \n"
     ]
    },
    {
     "name": "stderr",
     "output_type": "stream",
     "text": [
      "100%|██████████| 560/560 [21:06<00:00,  2.26s/it]\n"
     ]
    },
    {
     "name": "stdout",
     "output_type": "stream",
     "text": [
      "Epoch 4/100: TRAIN Loss=0.63475 -- Acc=94.856% || TEST Loss=0.79137 -- Acc=88.476%  --- Time=21min (loss decreased!) new best model saved\n"
     ]
    },
    {
     "name": "stderr",
     "output_type": "stream",
     "text": [
      "100%|██████████| 560/560 [20:47<00:00,  2.23s/it]\n"
     ]
    },
    {
     "name": "stdout",
     "output_type": "stream",
     "text": [
      "Epoch 5/100: TRAIN Loss=0.63413 -- Acc=94.753% || TEST Loss=0.79920 -- Acc=86.305%  --- Time=21min \n"
     ]
    },
    {
     "name": "stderr",
     "output_type": "stream",
     "text": [
      "100%|██████████| 560/560 [21:28<00:00,  2.30s/it]\n"
     ]
    },
    {
     "name": "stdout",
     "output_type": "stream",
     "text": [
      "Epoch 6/100: TRAIN Loss=0.63574 -- Acc=94.677% || TEST Loss=0.95215 -- Acc=79.541%  --- Time=22min \n"
     ]
    },
    {
     "name": "stderr",
     "output_type": "stream",
     "text": [
      "100%|██████████| 560/560 [25:46<00:00,  2.76s/it]\n"
     ]
    },
    {
     "name": "stdout",
     "output_type": "stream",
     "text": [
      "Epoch 7/100: TRAIN Loss=0.63395 -- Acc=94.753% || TEST Loss=0.78601 -- Acc=85.804%  --- Time=26min \n"
     ]
    },
    {
     "name": "stderr",
     "output_type": "stream",
     "text": [
      "100%|██████████| 560/560 [22:57<00:00,  2.46s/it]\n"
     ]
    },
    {
     "name": "stdout",
     "output_type": "stream",
     "text": [
      "Epoch 8/100: TRAIN Loss=0.63487 -- Acc=94.711% || TEST Loss=0.75942 -- Acc=87.599%  --- Time=23min \n"
     ]
    },
    {
     "name": "stderr",
     "output_type": "stream",
     "text": [
      "100%|██████████| 560/560 [21:07<00:00,  2.26s/it]\n"
     ]
    },
    {
     "name": "stdout",
     "output_type": "stream",
     "text": [
      "Epoch 9/100: TRAIN Loss=0.63571 -- Acc=94.577% || TEST Loss=1.16785 -- Acc=73.403%  --- Time=21min \n"
     ]
    },
    {
     "name": "stderr",
     "output_type": "stream",
     "text": [
      "100%|██████████| 560/560 [21:07<00:00,  2.26s/it]\n"
     ]
    },
    {
     "name": "stdout",
     "output_type": "stream",
     "text": [
      "Epoch 10/100: TRAIN Loss=0.63442 -- Acc=94.683% || TEST Loss=0.76080 -- Acc=86.848%  --- Time=21min \n"
     ]
    },
    {
     "name": "stderr",
     "output_type": "stream",
     "text": [
      "100%|██████████| 560/560 [21:08<00:00,  2.26s/it]\n"
     ]
    },
    {
     "name": "stdout",
     "output_type": "stream",
     "text": [
      "Epoch 11/100: TRAIN Loss=0.63218 -- Acc=94.643% || TEST Loss=1.56860 -- Acc=60.877%  --- Time=21min \n"
     ]
    },
    {
     "name": "stderr",
     "output_type": "stream",
     "text": [
      "100%|██████████| 560/560 [21:07<00:00,  2.26s/it]\n"
     ]
    },
    {
     "name": "stdout",
     "output_type": "stream",
     "text": [
      "Epoch 12/100: TRAIN Loss=0.63564 -- Acc=94.640% || TEST Loss=0.75519 -- Acc=87.724%  --- Time=21min \n"
     ]
    },
    {
     "name": "stderr",
     "output_type": "stream",
     "text": [
      "100%|██████████| 560/560 [21:08<00:00,  2.26s/it]\n"
     ]
    },
    {
     "name": "stdout",
     "output_type": "stream",
     "text": [
      "Epoch 13/100: TRAIN Loss=0.64258 -- Acc=94.563% || TEST Loss=0.87644 -- Acc=83.215%  --- Time=21min \n"
     ]
    },
    {
     "name": "stderr",
     "output_type": "stream",
     "text": [
      "100%|██████████| 560/560 [21:06<00:00,  2.26s/it]\n"
     ]
    },
    {
     "name": "stdout",
     "output_type": "stream",
     "text": [
      "Epoch 14/100: TRAIN Loss=0.63813 -- Acc=94.564% || TEST Loss=0.88486 -- Acc=82.463%  --- Time=21min \n"
     ]
    },
    {
     "name": "stderr",
     "output_type": "stream",
     "text": [
      "100%|██████████| 560/560 [21:07<00:00,  2.26s/it]\n"
     ]
    },
    {
     "name": "stdout",
     "output_type": "stream",
     "text": [
      "Epoch 15/100: TRAIN Loss=0.63282 -- Acc=94.768% || TEST Loss=1.18516 -- Acc=69.228%  --- Time=21min \n"
     ]
    },
    {
     "name": "stderr",
     "output_type": "stream",
     "text": [
      "100%|██████████| 560/560 [21:04<00:00,  2.26s/it]\n"
     ]
    },
    {
     "name": "stdout",
     "output_type": "stream",
     "text": [
      "Epoch 16/100: TRAIN Loss=0.63578 -- Acc=94.657% || TEST Loss=1.10219 -- Acc=74.405%  --- Time=21min \n"
     ]
    },
    {
     "name": "stderr",
     "output_type": "stream",
     "text": [
      "100%|██████████| 560/560 [21:07<00:00,  2.26s/it]\n"
     ]
    },
    {
     "name": "stdout",
     "output_type": "stream",
     "text": [
      "Epoch 17/100: TRAIN Loss=0.64554 -- Acc=94.388% || TEST Loss=0.77991 -- Acc=90.104%  --- Time=21min (loss decreased!) new best model saved\n"
     ]
    },
    {
     "name": "stderr",
     "output_type": "stream",
     "text": [
      "100%|██████████| 560/560 [21:08<00:00,  2.26s/it]\n"
     ]
    },
    {
     "name": "stdout",
     "output_type": "stream",
     "text": [
      "Epoch 18/100: TRAIN Loss=0.64304 -- Acc=94.467% || TEST Loss=1.15634 -- Acc=69.436%  --- Time=21min \n"
     ]
    },
    {
     "name": "stderr",
     "output_type": "stream",
     "text": [
      "100%|██████████| 560/560 [21:09<00:00,  2.27s/it]\n"
     ]
    },
    {
     "name": "stdout",
     "output_type": "stream",
     "text": [
      "Epoch 19/100: TRAIN Loss=0.63403 -- Acc=94.795% || TEST Loss=0.94248 -- Acc=80.459%  --- Time=21min \n"
     ]
    },
    {
     "name": "stderr",
     "output_type": "stream",
     "text": [
      "100%|██████████| 560/560 [21:09<00:00,  2.27s/it]\n"
     ]
    },
    {
     "name": "stdout",
     "output_type": "stream",
     "text": [
      "Epoch 20/100: TRAIN Loss=0.67417 -- Acc=93.258% || TEST Loss=3.40615 -- Acc=35.365%  --- Time=21min \n"
     ]
    },
    {
     "name": "stderr",
     "output_type": "stream",
     "text": [
      "100%|██████████| 560/560 [21:08<00:00,  2.27s/it]\n"
     ]
    },
    {
     "name": "stdout",
     "output_type": "stream",
     "text": [
      "Epoch 21/100: TRAIN Loss=0.65480 -- Acc=94.531% || TEST Loss=1.22601 -- Acc=72.109%  --- Time=21min \n"
     ]
    },
    {
     "name": "stderr",
     "output_type": "stream",
     "text": [
      "100%|██████████| 560/560 [21:09<00:00,  2.27s/it]\n"
     ]
    },
    {
     "name": "stdout",
     "output_type": "stream",
     "text": [
      "Epoch 22/100: TRAIN Loss=0.64518 -- Acc=94.777% || TEST Loss=1.38083 -- Acc=58.121%  --- Time=21min \n"
     ]
    },
    {
     "name": "stderr",
     "output_type": "stream",
     "text": [
      "100%|██████████| 560/560 [21:06<00:00,  2.26s/it]\n"
     ]
    },
    {
     "name": "stdout",
     "output_type": "stream",
     "text": [
      "Epoch 00023: reducing learning rate of group 0 to 1.0000e-02.\n",
      "Epoch 23/100: TRAIN Loss=0.64094 -- Acc=94.900% || TEST Loss=1.11292 -- Acc=73.236%  --- Time=21min \n"
     ]
    },
    {
     "name": "stderr",
     "output_type": "stream",
     "text": [
      "100%|██████████| 560/560 [21:09<00:00,  2.27s/it]\n"
     ]
    },
    {
     "name": "stdout",
     "output_type": "stream",
     "text": [
      "Epoch 24/100: TRAIN Loss=0.60457 -- Acc=96.035% || TEST Loss=0.82958 -- Acc=84.676%  --- Time=21min \n"
     ]
    },
    {
     "name": "stderr",
     "output_type": "stream",
     "text": [
      "100%|██████████| 560/560 [21:08<00:00,  2.27s/it]\n"
     ]
    },
    {
     "name": "stdout",
     "output_type": "stream",
     "text": [
      "Epoch 25/100: TRAIN Loss=0.59889 -- Acc=96.349% || TEST Loss=0.79498 -- Acc=86.472%  --- Time=21min \n"
     ]
    },
    {
     "name": "stderr",
     "output_type": "stream",
     "text": [
      "100%|██████████| 560/560 [21:09<00:00,  2.27s/it]\n"
     ]
    },
    {
     "name": "stdout",
     "output_type": "stream",
     "text": [
      "Epoch 26/100: TRAIN Loss=0.59711 -- Acc=96.345% || TEST Loss=0.88951 -- Acc=83.257%  --- Time=21min \n"
     ]
    },
    {
     "name": "stderr",
     "output_type": "stream",
     "text": [
      "100%|██████████| 560/560 [21:11<00:00,  2.27s/it]\n"
     ]
    },
    {
     "name": "stdout",
     "output_type": "stream",
     "text": [
      "Epoch 27/100: TRAIN Loss=0.59385 -- Acc=96.423% || TEST Loss=0.75899 -- Acc=87.641%  --- Time=21min \n"
     ]
    },
    {
     "name": "stderr",
     "output_type": "stream",
     "text": [
      "100%|██████████| 560/560 [21:07<00:00,  2.26s/it]\n"
     ]
    },
    {
     "name": "stdout",
     "output_type": "stream",
     "text": [
      "Epoch 28/100: TRAIN Loss=0.58905 -- Acc=96.455% || TEST Loss=0.93747 -- Acc=79.499%  --- Time=21min \n"
     ]
    },
    {
     "name": "stderr",
     "output_type": "stream",
     "text": [
      "100%|██████████| 560/560 [21:11<00:00,  2.27s/it]\n"
     ]
    },
    {
     "name": "stdout",
     "output_type": "stream",
     "text": [
      "Epoch 29/100: TRAIN Loss=0.58588 -- Acc=96.454% || TEST Loss=0.87438 -- Acc=83.633%  --- Time=21min \n"
     ]
    },
    {
     "name": "stderr",
     "output_type": "stream",
     "text": [
      "100%|██████████| 560/560 [21:11<00:00,  2.27s/it]\n"
     ]
    },
    {
     "name": "stdout",
     "output_type": "stream",
     "text": [
      "Epoch 30/100: TRAIN Loss=0.58687 -- Acc=96.429% || TEST Loss=0.82213 -- Acc=83.633%  --- Time=21min \n"
     ]
    },
    {
     "name": "stderr",
     "output_type": "stream",
     "text": [
      "100%|██████████| 560/560 [21:13<00:00,  2.27s/it]\n"
     ]
    },
    {
     "name": "stdout",
     "output_type": "stream",
     "text": [
      "Epoch 31/100: TRAIN Loss=0.58519 -- Acc=96.476% || TEST Loss=1.12195 -- Acc=70.647%  --- Time=21min \n"
     ]
    },
    {
     "name": "stderr",
     "output_type": "stream",
     "text": [
      "100%|██████████| 560/560 [21:13<00:00,  2.27s/it]\n"
     ]
    },
    {
     "name": "stdout",
     "output_type": "stream",
     "text": [
      "Epoch 32/100: TRAIN Loss=0.58621 -- Acc=96.447% || TEST Loss=0.89271 -- Acc=81.962%  --- Time=21min \n"
     ]
    },
    {
     "name": "stderr",
     "output_type": "stream",
     "text": [
      "100%|██████████| 560/560 [21:08<00:00,  2.26s/it]\n"
     ]
    },
    {
     "name": "stdout",
     "output_type": "stream",
     "text": [
      "Epoch 33/100: TRAIN Loss=0.58733 -- Acc=96.446% || TEST Loss=0.92717 -- Acc=82.338%  --- Time=21min \n"
     ]
    },
    {
     "name": "stderr",
     "output_type": "stream",
     "text": [
      "100%|██████████| 560/560 [21:09<00:00,  2.27s/it]\n"
     ]
    },
    {
     "name": "stdout",
     "output_type": "stream",
     "text": [
      "Epoch 00034: reducing learning rate of group 0 to 1.0000e-03.\n",
      "Epoch 34/100: TRAIN Loss=0.58649 -- Acc=96.402% || TEST Loss=1.02471 -- Acc=77.745%  --- Time=21min \n"
     ]
    },
    {
     "name": "stderr",
     "output_type": "stream",
     "text": [
      "100%|██████████| 560/560 [21:07<00:00,  2.26s/it]\n"
     ]
    },
    {
     "name": "stdout",
     "output_type": "stream",
     "text": [
      "Epoch 35/100: TRAIN Loss=0.57014 -- Acc=97.073% || TEST Loss=0.87383 -- Acc=84.384%  --- Time=21min \n"
     ]
    },
    {
     "name": "stderr",
     "output_type": "stream",
     "text": [
      "100%|██████████| 560/560 [21:10<00:00,  2.27s/it]\n"
     ]
    },
    {
     "name": "stdout",
     "output_type": "stream",
     "text": [
      "Epoch 36/100: TRAIN Loss=0.56743 -- Acc=97.210% || TEST Loss=0.91911 -- Acc=82.088%  --- Time=21min \n"
     ]
    },
    {
     "name": "stderr",
     "output_type": "stream",
     "text": [
      "100%|██████████| 560/560 [21:08<00:00,  2.27s/it]\n"
     ]
    },
    {
     "name": "stdout",
     "output_type": "stream",
     "text": [
      "Epoch 37/100: TRAIN Loss=0.56602 -- Acc=97.253% || TEST Loss=0.90713 -- Acc=82.965%  --- Time=21min \n"
     ]
    },
    {
     "name": "stderr",
     "output_type": "stream",
     "text": [
      "100%|██████████| 560/560 [21:08<00:00,  2.27s/it]\n"
     ]
    },
    {
     "name": "stdout",
     "output_type": "stream",
     "text": [
      "Epoch 38/100: TRAIN Loss=0.56477 -- Acc=97.325% || TEST Loss=0.94005 -- Acc=81.712%  --- Time=21min \n"
     ]
    },
    {
     "name": "stderr",
     "output_type": "stream",
     "text": [
      "100%|██████████| 560/560 [21:09<00:00,  2.27s/it]\n"
     ]
    },
    {
     "name": "stdout",
     "output_type": "stream",
     "text": [
      "Epoch 39/100: TRAIN Loss=0.56427 -- Acc=97.324% || TEST Loss=0.86208 -- Acc=84.468%  --- Time=21min \n"
     ]
    },
    {
     "name": "stderr",
     "output_type": "stream",
     "text": [
      "100%|██████████| 560/560 [21:09<00:00,  2.27s/it]\n"
     ]
    },
    {
     "name": "stdout",
     "output_type": "stream",
     "text": [
      "Epoch 40/100: TRAIN Loss=0.56425 -- Acc=97.303% || TEST Loss=0.90678 -- Acc=82.422%  --- Time=21min \n"
     ]
    },
    {
     "name": "stderr",
     "output_type": "stream",
     "text": [
      "100%|██████████| 560/560 [21:11<00:00,  2.27s/it]\n"
     ]
    },
    {
     "name": "stdout",
     "output_type": "stream",
     "text": [
      "Epoch 41/100: TRAIN Loss=0.56333 -- Acc=97.366% || TEST Loss=0.87891 -- Acc=83.633%  --- Time=21min \n"
     ]
    },
    {
     "name": "stderr",
     "output_type": "stream",
     "text": [
      "100%|██████████| 560/560 [21:09<00:00,  2.27s/it]\n"
     ]
    },
    {
     "name": "stdout",
     "output_type": "stream",
     "text": [
      "Epoch 42/100: TRAIN Loss=0.56302 -- Acc=97.372% || TEST Loss=0.90456 -- Acc=82.589%  --- Time=21min \n"
     ]
    },
    {
     "name": "stderr",
     "output_type": "stream",
     "text": [
      "100%|██████████| 560/560 [21:08<00:00,  2.27s/it]\n"
     ]
    },
    {
     "name": "stdout",
     "output_type": "stream",
     "text": [
      "Epoch 43/100: TRAIN Loss=0.56258 -- Acc=97.416% || TEST Loss=0.86979 -- Acc=83.299%  --- Time=21min \n"
     ]
    },
    {
     "name": "stderr",
     "output_type": "stream",
     "text": [
      "100%|██████████| 560/560 [20:59<00:00,  2.25s/it]\n"
     ]
    },
    {
     "name": "stdout",
     "output_type": "stream",
     "text": [
      "Epoch 44/100: TRAIN Loss=0.56058 -- Acc=97.503% || TEST Loss=0.85796 -- Acc=84.175%  --- Time=21min \n"
     ]
    },
    {
     "name": "stderr",
     "output_type": "stream",
     "text": [
      "100%|██████████| 560/560 [21:10<00:00,  2.27s/it]\n"
     ]
    },
    {
     "name": "stdout",
     "output_type": "stream",
     "text": [
      "Epoch 00045: reducing learning rate of group 0 to 1.0000e-04.\n",
      "Epoch 45/100: TRAIN Loss=0.56116 -- Acc=97.440% || TEST Loss=0.94188 -- Acc=80.919%  --- Time=21min \n"
     ]
    },
    {
     "name": "stderr",
     "output_type": "stream",
     "text": [
      "100%|██████████| 560/560 [21:09<00:00,  2.27s/it]\n"
     ]
    },
    {
     "name": "stdout",
     "output_type": "stream",
     "text": [
      "Epoch 46/100: TRAIN Loss=0.55858 -- Acc=97.620% || TEST Loss=0.89093 -- Acc=83.048%  --- Time=21min \n"
     ]
    },
    {
     "name": "stderr",
     "output_type": "stream",
     "text": [
      "100%|██████████| 560/560 [21:12<00:00,  2.27s/it]\n"
     ]
    },
    {
     "name": "stdout",
     "output_type": "stream",
     "text": [
      "Epoch 47/100: TRAIN Loss=0.55714 -- Acc=97.663% || TEST Loss=0.89465 -- Acc=83.299%  --- Time=21min \n"
     ]
    },
    {
     "name": "stderr",
     "output_type": "stream",
     "text": [
      "100%|██████████| 560/560 [21:02<00:00,  2.25s/it]\n"
     ]
    },
    {
     "name": "stdout",
     "output_type": "stream",
     "text": [
      "Epoch 48/100: TRAIN Loss=0.55740 -- Acc=97.666% || TEST Loss=0.87663 -- Acc=83.466%  --- Time=21min \n"
     ]
    },
    {
     "name": "stderr",
     "output_type": "stream",
     "text": [
      "100%|██████████| 560/560 [21:09<00:00,  2.27s/it]\n"
     ]
    },
    {
     "name": "stdout",
     "output_type": "stream",
     "text": [
      "Epoch 49/100: TRAIN Loss=0.55710 -- Acc=97.627% || TEST Loss=0.89593 -- Acc=83.090%  --- Time=21min \n"
     ]
    },
    {
     "name": "stderr",
     "output_type": "stream",
     "text": [
      "100%|██████████| 560/560 [21:10<00:00,  2.27s/it]\n"
     ]
    },
    {
     "name": "stdout",
     "output_type": "stream",
     "text": [
      "Epoch 50/100: TRAIN Loss=0.55734 -- Acc=97.641% || TEST Loss=0.89335 -- Acc=83.340%  --- Time=21min \n"
     ]
    },
    {
     "name": "stderr",
     "output_type": "stream",
     "text": [
      "100%|██████████| 560/560 [21:11<00:00,  2.27s/it]\n"
     ]
    },
    {
     "name": "stdout",
     "output_type": "stream",
     "text": [
      "Epoch 51/100: TRAIN Loss=0.55658 -- Acc=97.669% || TEST Loss=0.87174 -- Acc=83.591%  --- Time=21min \n"
     ]
    },
    {
     "name": "stderr",
     "output_type": "stream",
     "text": [
      "100%|██████████| 560/560 [21:08<00:00,  2.26s/it]\n"
     ]
    },
    {
     "name": "stdout",
     "output_type": "stream",
     "text": [
      "Epoch 52/100: TRAIN Loss=0.55682 -- Acc=97.698% || TEST Loss=0.89518 -- Acc=82.881%  --- Time=21min \n"
     ]
    },
    {
     "name": "stderr",
     "output_type": "stream",
     "text": [
      "100%|██████████| 560/560 [21:08<00:00,  2.26s/it]\n"
     ]
    },
    {
     "name": "stdout",
     "output_type": "stream",
     "text": [
      "Epoch 53/100: TRAIN Loss=0.55711 -- Acc=97.651% || TEST Loss=0.90854 -- Acc=82.589%  --- Time=21min \n"
     ]
    },
    {
     "name": "stderr",
     "output_type": "stream",
     "text": [
      "100%|██████████| 560/560 [20:48<00:00,  2.23s/it]\n"
     ]
    },
    {
     "name": "stdout",
     "output_type": "stream",
     "text": [
      "Epoch 54/100: TRAIN Loss=0.55708 -- Acc=97.624% || TEST Loss=0.89955 -- Acc=82.923%  --- Time=21min \n"
     ]
    },
    {
     "name": "stderr",
     "output_type": "stream",
     "text": [
      "100%|██████████| 560/560 [20:46<00:00,  2.23s/it]\n"
     ]
    },
    {
     "name": "stdout",
     "output_type": "stream",
     "text": [
      "Epoch 55/100: TRAIN Loss=0.55723 -- Acc=97.675% || TEST Loss=0.91482 -- Acc=82.505%  --- Time=21min \n"
     ]
    },
    {
     "name": "stderr",
     "output_type": "stream",
     "text": [
      "100%|██████████| 560/560 [21:02<00:00,  2.25s/it]\n"
     ]
    },
    {
     "name": "stdout",
     "output_type": "stream",
     "text": [
      "Epoch 00056: reducing learning rate of group 0 to 1.0000e-05.\n",
      "Epoch 56/100: TRAIN Loss=0.55634 -- Acc=97.690% || TEST Loss=0.90401 -- Acc=82.965%  --- Time=21min \n"
     ]
    },
    {
     "name": "stderr",
     "output_type": "stream",
     "text": [
      "100%|██████████| 560/560 [20:48<00:00,  2.23s/it]\n"
     ]
    },
    {
     "name": "stdout",
     "output_type": "stream",
     "text": [
      "Epoch 57/100: TRAIN Loss=0.55635 -- Acc=97.659% || TEST Loss=0.90122 -- Acc=82.756%  --- Time=21min \n"
     ]
    },
    {
     "name": "stderr",
     "output_type": "stream",
     "text": [
      "100%|██████████| 560/560 [20:20<00:00,  2.18s/it]\n"
     ]
    },
    {
     "name": "stdout",
     "output_type": "stream",
     "text": [
      "Epoch 58/100: TRAIN Loss=0.55590 -- Acc=97.715% || TEST Loss=0.88167 -- Acc=83.382%  --- Time=20min \n"
     ]
    },
    {
     "name": "stderr",
     "output_type": "stream",
     "text": [
      "100%|██████████| 560/560 [20:05<00:00,  2.15s/it]\n"
     ]
    },
    {
     "name": "stdout",
     "output_type": "stream",
     "text": [
      "Epoch 59/100: TRAIN Loss=0.55567 -- Acc=97.725% || TEST Loss=0.89510 -- Acc=83.090%  --- Time=20min \n"
     ]
    },
    {
     "name": "stderr",
     "output_type": "stream",
     "text": [
      "100%|██████████| 560/560 [20:14<00:00,  2.17s/it]\n"
     ]
    },
    {
     "name": "stdout",
     "output_type": "stream",
     "text": [
      "Epoch 60/100: TRAIN Loss=0.55593 -- Acc=97.722% || TEST Loss=0.89869 -- Acc=82.839%  --- Time=20min \n"
     ]
    },
    {
     "name": "stderr",
     "output_type": "stream",
     "text": [
      "100%|██████████| 560/560 [20:12<00:00,  2.17s/it]\n"
     ]
    },
    {
     "name": "stdout",
     "output_type": "stream",
     "text": [
      "Epoch 61/100: TRAIN Loss=0.55613 -- Acc=97.725% || TEST Loss=0.88434 -- Acc=83.173%  --- Time=20min \n"
     ]
    },
    {
     "name": "stderr",
     "output_type": "stream",
     "text": [
      "100%|██████████| 560/560 [20:18<00:00,  2.18s/it]\n"
     ]
    },
    {
     "name": "stdout",
     "output_type": "stream",
     "text": [
      "Epoch 62/100: TRAIN Loss=0.55590 -- Acc=97.707% || TEST Loss=0.88228 -- Acc=83.299%  --- Time=20min \n"
     ]
    },
    {
     "name": "stderr",
     "output_type": "stream",
     "text": [
      "100%|██████████| 560/560 [21:08<00:00,  2.26s/it]\n"
     ]
    },
    {
     "name": "stdout",
     "output_type": "stream",
     "text": [
      "Epoch 63/100: TRAIN Loss=0.55615 -- Acc=97.717% || TEST Loss=0.91035 -- Acc=82.714%  --- Time=21min \n"
     ]
    },
    {
     "name": "stderr",
     "output_type": "stream",
     "text": [
      "100%|██████████| 560/560 [21:09<00:00,  2.27s/it]\n"
     ]
    },
    {
     "name": "stdout",
     "output_type": "stream",
     "text": [
      "Epoch 64/100: TRAIN Loss=0.55625 -- Acc=97.697% || TEST Loss=0.91442 -- Acc=82.422%  --- Time=21min \n"
     ]
    },
    {
     "name": "stderr",
     "output_type": "stream",
     "text": [
      "100%|██████████| 560/560 [21:10<00:00,  2.27s/it]\n"
     ]
    },
    {
     "name": "stdout",
     "output_type": "stream",
     "text": [
      "Epoch 65/100: TRAIN Loss=0.55630 -- Acc=97.652% || TEST Loss=0.89963 -- Acc=82.881%  --- Time=21min \n"
     ]
    },
    {
     "name": "stderr",
     "output_type": "stream",
     "text": [
      "100%|██████████| 560/560 [22:20<00:00,  2.39s/it]\n"
     ]
    },
    {
     "name": "stdout",
     "output_type": "stream",
     "text": [
      "Epoch 66/100: TRAIN Loss=0.55608 -- Acc=97.732% || TEST Loss=0.87925 -- Acc=83.466%  --- Time=23min \n"
     ]
    },
    {
     "name": "stderr",
     "output_type": "stream",
     "text": [
      "100%|██████████| 560/560 [22:33<00:00,  2.42s/it]\n"
     ]
    },
    {
     "name": "stdout",
     "output_type": "stream",
     "text": [
      "Epoch 00067: reducing learning rate of group 0 to 1.0000e-06.\n",
      "Epoch 67/100: TRAIN Loss=0.55605 -- Acc=97.687% || TEST Loss=0.89931 -- Acc=83.215%  --- Time=23min \n"
     ]
    },
    {
     "name": "stderr",
     "output_type": "stream",
     "text": [
      "100%|██████████| 560/560 [20:30<00:00,  2.20s/it]\n"
     ]
    },
    {
     "name": "stdout",
     "output_type": "stream",
     "text": [
      "Epoch 68/100: TRAIN Loss=0.55510 -- Acc=97.740% || TEST Loss=0.91816 -- Acc=82.213%  --- Time=21min \n"
     ]
    },
    {
     "name": "stderr",
     "output_type": "stream",
     "text": [
      "100%|██████████| 560/560 [20:36<00:00,  2.21s/it]\n"
     ]
    },
    {
     "name": "stdout",
     "output_type": "stream",
     "text": [
      "Epoch 69/100: TRAIN Loss=0.55567 -- Acc=97.704% || TEST Loss=0.87764 -- Acc=83.299%  --- Time=21min \n"
     ]
    },
    {
     "name": "stderr",
     "output_type": "stream",
     "text": [
      "100%|██████████| 560/560 [20:55<00:00,  2.24s/it]\n"
     ]
    },
    {
     "name": "stdout",
     "output_type": "stream",
     "text": [
      "Epoch 70/100: TRAIN Loss=0.55555 -- Acc=97.726% || TEST Loss=0.88654 -- Acc=83.048%  --- Time=21min \n"
     ]
    },
    {
     "name": "stderr",
     "output_type": "stream",
     "text": [
      "100%|██████████| 560/560 [20:38<00:00,  2.21s/it]\n"
     ]
    },
    {
     "name": "stdout",
     "output_type": "stream",
     "text": [
      "Epoch 71/100: TRAIN Loss=0.55556 -- Acc=97.749% || TEST Loss=0.88894 -- Acc=83.090%  --- Time=21min \n"
     ]
    },
    {
     "name": "stderr",
     "output_type": "stream",
     "text": [
      "100%|██████████| 560/560 [21:41<00:00,  2.32s/it]\n"
     ]
    },
    {
     "name": "stdout",
     "output_type": "stream",
     "text": [
      "Epoch 72/100: TRAIN Loss=0.55570 -- Acc=97.715% || TEST Loss=0.90472 -- Acc=82.630%  --- Time=22min \n"
     ]
    },
    {
     "name": "stderr",
     "output_type": "stream",
     "text": [
      "100%|██████████| 560/560 [20:39<00:00,  2.21s/it]\n"
     ]
    },
    {
     "name": "stdout",
     "output_type": "stream",
     "text": [
      "Epoch 73/100: TRAIN Loss=0.55536 -- Acc=97.751% || TEST Loss=0.90945 -- Acc=82.505%  --- Time=21min \n"
     ]
    },
    {
     "name": "stderr",
     "output_type": "stream",
     "text": [
      "100%|██████████| 560/560 [21:10<00:00,  2.27s/it]\n"
     ]
    },
    {
     "name": "stdout",
     "output_type": "stream",
     "text": [
      "Epoch 74/100: TRAIN Loss=0.55557 -- Acc=97.730% || TEST Loss=0.90870 -- Acc=82.589%  --- Time=21min \n"
     ]
    },
    {
     "name": "stderr",
     "output_type": "stream",
     "text": [
      "100%|██████████| 560/560 [21:07<00:00,  2.26s/it]\n"
     ]
    },
    {
     "name": "stdout",
     "output_type": "stream",
     "text": [
      "Epoch 75/100: TRAIN Loss=0.55520 -- Acc=97.728% || TEST Loss=0.89446 -- Acc=82.839%  --- Time=21min \n"
     ]
    },
    {
     "name": "stderr",
     "output_type": "stream",
     "text": [
      "100%|██████████| 560/560 [21:06<00:00,  2.26s/it]\n"
     ]
    },
    {
     "name": "stdout",
     "output_type": "stream",
     "text": [
      "Epoch 76/100: TRAIN Loss=0.55518 -- Acc=97.744% || TEST Loss=0.88155 -- Acc=83.173%  --- Time=21min \n"
     ]
    },
    {
     "name": "stderr",
     "output_type": "stream",
     "text": [
      "100%|██████████| 560/560 [21:07<00:00,  2.26s/it]\n"
     ]
    },
    {
     "name": "stdout",
     "output_type": "stream",
     "text": [
      "Epoch 77/100: TRAIN Loss=0.55615 -- Acc=97.687% || TEST Loss=0.90208 -- Acc=83.090%  --- Time=21min \n"
     ]
    },
    {
     "name": "stderr",
     "output_type": "stream",
     "text": [
      "100%|██████████| 560/560 [21:08<00:00,  2.26s/it]\n"
     ]
    },
    {
     "name": "stdout",
     "output_type": "stream",
     "text": [
      "Epoch 00078: reducing learning rate of group 0 to 1.0000e-07.\n",
      "Epoch 78/100: TRAIN Loss=0.55540 -- Acc=97.764% || TEST Loss=0.91488 -- Acc=82.505%  --- Time=21min \n"
     ]
    },
    {
     "name": "stderr",
     "output_type": "stream",
     "text": [
      "100%|██████████| 560/560 [21:07<00:00,  2.26s/it]\n"
     ]
    },
    {
     "name": "stdout",
     "output_type": "stream",
     "text": [
      "Epoch 79/100: TRAIN Loss=0.55671 -- Acc=97.666% || TEST Loss=0.90678 -- Acc=82.881%  --- Time=21min \n"
     ]
    },
    {
     "name": "stderr",
     "output_type": "stream",
     "text": [
      "100%|██████████| 560/560 [21:07<00:00,  2.26s/it]\n"
     ]
    },
    {
     "name": "stdout",
     "output_type": "stream",
     "text": [
      "Epoch 80/100: TRAIN Loss=0.55651 -- Acc=97.634% || TEST Loss=0.88516 -- Acc=83.424%  --- Time=21min \n"
     ]
    },
    {
     "name": "stderr",
     "output_type": "stream",
     "text": [
      "100%|██████████| 560/560 [21:08<00:00,  2.27s/it]\n"
     ]
    },
    {
     "name": "stdout",
     "output_type": "stream",
     "text": [
      "Epoch 81/100: TRAIN Loss=0.55604 -- Acc=97.654% || TEST Loss=0.89838 -- Acc=82.756%  --- Time=21min \n"
     ]
    },
    {
     "name": "stderr",
     "output_type": "stream",
     "text": [
      "100%|██████████| 560/560 [21:06<00:00,  2.26s/it]\n"
     ]
    },
    {
     "name": "stdout",
     "output_type": "stream",
     "text": [
      "Epoch 82/100: TRAIN Loss=0.55601 -- Acc=97.701% || TEST Loss=0.89522 -- Acc=83.340%  --- Time=21min \n"
     ]
    },
    {
     "name": "stderr",
     "output_type": "stream",
     "text": [
      "100%|██████████| 560/560 [21:08<00:00,  2.26s/it]\n"
     ]
    },
    {
     "name": "stdout",
     "output_type": "stream",
     "text": [
      "Epoch 83/100: TRAIN Loss=0.55556 -- Acc=97.730% || TEST Loss=0.90985 -- Acc=82.380%  --- Time=21min \n"
     ]
    },
    {
     "name": "stderr",
     "output_type": "stream",
     "text": [
      "100%|██████████| 560/560 [21:04<00:00,  2.26s/it]\n"
     ]
    },
    {
     "name": "stdout",
     "output_type": "stream",
     "text": [
      "Epoch 84/100: TRAIN Loss=0.55643 -- Acc=97.642% || TEST Loss=0.90306 -- Acc=82.756%  --- Time=21min \n"
     ]
    },
    {
     "name": "stderr",
     "output_type": "stream",
     "text": [
      "100%|██████████| 560/560 [21:09<00:00,  2.27s/it]\n"
     ]
    },
    {
     "name": "stdout",
     "output_type": "stream",
     "text": [
      "Epoch 85/100: TRAIN Loss=0.55577 -- Acc=97.761% || TEST Loss=0.89523 -- Acc=83.132%  --- Time=21min \n"
     ]
    },
    {
     "name": "stderr",
     "output_type": "stream",
     "text": [
      "100%|██████████| 560/560 [21:09<00:00,  2.27s/it]\n"
     ]
    },
    {
     "name": "stdout",
     "output_type": "stream",
     "text": [
      "Epoch 86/100: TRAIN Loss=0.55597 -- Acc=97.714% || TEST Loss=0.89515 -- Acc=82.839%  --- Time=21min \n"
     ]
    },
    {
     "name": "stderr",
     "output_type": "stream",
     "text": [
      "100%|██████████| 560/560 [21:07<00:00,  2.26s/it]\n"
     ]
    },
    {
     "name": "stdout",
     "output_type": "stream",
     "text": [
      "Epoch 87/100: TRAIN Loss=0.55628 -- Acc=97.733% || TEST Loss=0.91271 -- Acc=82.505%  --- Time=21min \n"
     ]
    },
    {
     "name": "stderr",
     "output_type": "stream",
     "text": [
      "100%|██████████| 560/560 [21:07<00:00,  2.26s/it]\n"
     ]
    },
    {
     "name": "stdout",
     "output_type": "stream",
     "text": [
      "Epoch 88/100: TRAIN Loss=0.55546 -- Acc=97.747% || TEST Loss=0.89141 -- Acc=83.132%  --- Time=21min \n"
     ]
    },
    {
     "name": "stderr",
     "output_type": "stream",
     "text": [
      "100%|██████████| 560/560 [21:09<00:00,  2.27s/it]\n"
     ]
    },
    {
     "name": "stdout",
     "output_type": "stream",
     "text": [
      "Epoch 00089: reducing learning rate of group 0 to 1.0000e-08.\n",
      "Epoch 89/100: TRAIN Loss=0.55580 -- Acc=97.669% || TEST Loss=0.88485 -- Acc=83.173%  --- Time=21min \n"
     ]
    },
    {
     "name": "stderr",
     "output_type": "stream",
     "text": [
      "100%|██████████| 560/560 [21:09<00:00,  2.27s/it]\n"
     ]
    },
    {
     "name": "stdout",
     "output_type": "stream",
     "text": [
      "Epoch 90/100: TRAIN Loss=0.55595 -- Acc=97.746% || TEST Loss=0.87834 -- Acc=83.215%  --- Time=21min \n"
     ]
    },
    {
     "name": "stderr",
     "output_type": "stream",
     "text": [
      "100%|██████████| 560/560 [21:09<00:00,  2.27s/it]\n"
     ]
    },
    {
     "name": "stdout",
     "output_type": "stream",
     "text": [
      "Epoch 91/100: TRAIN Loss=0.55668 -- Acc=97.663% || TEST Loss=0.89273 -- Acc=83.048%  --- Time=21min \n"
     ]
    },
    {
     "name": "stderr",
     "output_type": "stream",
     "text": [
      "100%|██████████| 560/560 [20:54<00:00,  2.24s/it]\n"
     ]
    },
    {
     "name": "stdout",
     "output_type": "stream",
     "text": [
      "Epoch 92/100: TRAIN Loss=0.55663 -- Acc=97.690% || TEST Loss=0.88505 -- Acc=83.299%  --- Time=21min \n"
     ]
    },
    {
     "name": "stderr",
     "output_type": "stream",
     "text": [
      "100%|██████████| 560/560 [21:04<00:00,  2.26s/it]\n"
     ]
    },
    {
     "name": "stdout",
     "output_type": "stream",
     "text": [
      "Epoch 93/100: TRAIN Loss=0.55630 -- Acc=97.686% || TEST Loss=0.92304 -- Acc=82.296%  --- Time=21min \n"
     ]
    },
    {
     "name": "stderr",
     "output_type": "stream",
     "text": [
      "100%|██████████| 560/560 [21:03<00:00,  2.26s/it]\n"
     ]
    },
    {
     "name": "stdout",
     "output_type": "stream",
     "text": [
      "Epoch 94/100: TRAIN Loss=0.55658 -- Acc=97.683% || TEST Loss=0.89771 -- Acc=83.382%  --- Time=21min \n"
     ]
    },
    {
     "name": "stderr",
     "output_type": "stream",
     "text": [
      "100%|██████████| 560/560 [21:03<00:00,  2.26s/it]\n"
     ]
    },
    {
     "name": "stdout",
     "output_type": "stream",
     "text": [
      "Epoch 95/100: TRAIN Loss=0.55583 -- Acc=97.703% || TEST Loss=0.93075 -- Acc=81.962%  --- Time=21min \n"
     ]
    },
    {
     "name": "stderr",
     "output_type": "stream",
     "text": [
      "100%|██████████| 560/560 [21:03<00:00,  2.26s/it]\n"
     ]
    },
    {
     "name": "stdout",
     "output_type": "stream",
     "text": [
      "Epoch 96/100: TRAIN Loss=0.55589 -- Acc=97.672% || TEST Loss=0.89211 -- Acc=82.881%  --- Time=21min \n"
     ]
    },
    {
     "name": "stderr",
     "output_type": "stream",
     "text": [
      "100%|██████████| 560/560 [21:08<00:00,  2.27s/it]\n"
     ]
    },
    {
     "name": "stdout",
     "output_type": "stream",
     "text": [
      "Epoch 97/100: TRAIN Loss=0.55583 -- Acc=97.715% || TEST Loss=0.88259 -- Acc=83.633%  --- Time=21min \n"
     ]
    },
    {
     "name": "stderr",
     "output_type": "stream",
     "text": [
      "100%|██████████| 560/560 [21:06<00:00,  2.26s/it]\n"
     ]
    },
    {
     "name": "stdout",
     "output_type": "stream",
     "text": [
      "Epoch 98/100: TRAIN Loss=0.55626 -- Acc=97.693% || TEST Loss=0.91396 -- Acc=82.463%  --- Time=21min \n"
     ]
    },
    {
     "name": "stderr",
     "output_type": "stream",
     "text": [
      "100%|██████████| 560/560 [21:10<00:00,  2.27s/it]\n"
     ]
    },
    {
     "name": "stdout",
     "output_type": "stream",
     "text": [
      "Epoch 99/100: TRAIN Loss=0.55605 -- Acc=97.740% || TEST Loss=0.90203 -- Acc=82.756%  --- Time=21min \n"
     ]
    },
    {
     "name": "stderr",
     "output_type": "stream",
     "text": [
      "100%|██████████| 560/560 [21:08<00:00,  2.27s/it]\n"
     ]
    },
    {
     "name": "stdout",
     "output_type": "stream",
     "text": [
      "Epoch 100/100: TRAIN Loss=0.55557 -- Acc=97.705% || TEST Loss=0.91055 -- Acc=82.881%  --- Time=21min \n",
      "total time : T=36.000h\n"
     ]
    }
   ],
   "source": [
    "best_acc = 0\n",
    "num_epoch=100\n",
    "comment=\" \"\n",
    "T=0\n",
    "\n",
    "train_loss, test_loss, train_accuracy, test_accuracy = [], [], [], []\n",
    "\n",
    "for epoch in range(num_epoch):\n",
    "    t0 = time.time()               \n",
    "    # train one epoch for each batch                                                                                                         \n",
    "    epoch_train_loss, epoch_train_accuracy  = training(model, train_loader, criterion, optimizer, device)\n",
    "    epoch_test_loss, epoch_test_accuracy    = testing(model, test_loader, criterion, device)\n",
    "\n",
    "    # save the model if is currently the best\n",
    "    if best_acc < epoch_test_accuracy:\n",
    "        best_acc = epoch_test_accuracy\n",
    "        torch.save(model.state_dict(), save_path_model_best)\n",
    "        torch.save(optimizer.state_dict(), save_path_optim_best)\n",
    "        comment=\" (loss decreased!) new best model saved\"\n",
    "    \n",
    "    # reduce the learning rate if test loss didn't decrease\n",
    "    scheduler.step(epoch_test_loss)\n",
    "\n",
    "    # keep track of the loss and accuracy\n",
    "    train_loss.append(epoch_train_loss)\n",
    "    train_accuracy.append(epoch_train_accuracy)\n",
    "    test_loss.append(epoch_test_loss)\n",
    "    test_accuracy.append(epoch_test_accuracy)\n",
    "\n",
    "    # every 5 epoch save the loss and accuracy history. the model and the optimizer (lr changes)\n",
    "    if epoch!=0 and epoch%5 == 0:\n",
    "        np.save(save_path_loss_history, [train_loss, test_loss])\n",
    "        np.save(save_path_acc_history, [train_accuracy, test_accuracy])\n",
    "        torch.save(model.state_dict(), save_path_model_last)\n",
    "        torch.save(optimizer.state_dict(), save_path_optim_last)\n",
    "        \n",
    "    print('Epoch {:g}/{:g}: TRAIN Loss={:0.5f} -- Acc={:0.3f}% '.format(epoch+1,num_epoch, epoch_train_loss, epoch_train_accuracy), end='')\n",
    "    print('|| TEST Loss={:0.5f} -- Acc={:0.3f}%  --- Time={:g}min'.format(epoch_test_loss,epoch_test_accuracy, (time.time()-t0)//60), end='')\n",
    "    print(comment)\n",
    "    comment=\" \"\n",
    "    T+=(time.time()-t0)\n",
    "\n",
    "    # early_stopping(epoch_test_loss)\n",
    "    # if early_stopping.early_stop:\n",
    "    #     print(\"Early stopping.\")\n",
    "    #     break\n",
    "print(\"total time : T={:.3f}h\".format(T//3600))\n",
    "\n",
    "# save the final model\n",
    "np.save(save_path_loss_history, [train_loss, test_loss])\n",
    "np.save(save_path_acc_history, [train_accuracy, test_accuracy])\n",
    "torch.save(model.state_dict(), save_path_model_last)\n",
    "torch.save(optimizer.state_dict(), save_path_optim_last)"
   ]
  }
 ],
 "metadata": {
  "kernelspec": {
   "display_name": "Python 3 (ipykernel)",
   "language": "python",
   "name": "python3"
  },
  "language_info": {
   "codemirror_mode": {
    "name": "ipython",
    "version": 3
   },
   "file_extension": ".py",
   "mimetype": "text/x-python",
   "name": "python",
   "nbconvert_exporter": "python",
   "pygments_lexer": "ipython3",
   "version": "3.10.12"
  }
 },
 "nbformat": 4,
 "nbformat_minor": 4
}
