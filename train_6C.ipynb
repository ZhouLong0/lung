{
 "cells": [
  {
   "cell_type": "code",
   "execution_count": 1,
   "metadata": {},
   "outputs": [
    {
     "name": "stdout",
     "output_type": "stream",
     "text": [
      "Number of available GPUs: 1\n"
     ]
    },
    {
     "data": {
      "text/plain": [
       "device(type='cuda', index=0)"
      ]
     },
     "execution_count": 1,
     "metadata": {},
     "output_type": "execute_result"
    }
   ],
   "source": [
    "import warnings\n",
    "warnings.filterwarnings(\"ignore\")\n",
    "\n",
    "import time\n",
    "import os\n",
    "import random\n",
    "from tqdm import tqdm\n",
    "import matplotlib.pyplot as plt\n",
    "import numpy as np \n",
    "import pandas as pd\n",
    "import seaborn as sns\n",
    "\n",
    "import torch\n",
    "import torch.nn as nn\n",
    "import pytorch_lightning\n",
    "from torch.utils.data import DataLoader\n",
    "import torchvision.transforms as tt\n",
    "import torch.optim as optim\n",
    "from torch.optim import lr_scheduler\n",
    "from sklearn.metrics import *\n",
    "from PIL import Image\n",
    "from imblearn.over_sampling import RandomOverSampler\n",
    "from sklearn.utils.class_weight import compute_class_weight\n",
    "\n",
    "from src.utils.utils import training, testing, EarlyStopping, get_y_true_preds\n",
    "from src.utils.LungDataset import LungSet\n",
    "from src.model.LungNetwork import LungNet\n",
    "\n",
    "import torch\n",
    "\n",
    "if torch.cuda.is_available():\n",
    "    num_gpus = torch.cuda.device_count()\n",
    "    print(f\"Number of available GPUs: {num_gpus}\")\n",
    "    device = torch.device(\"cuda:0\" if torch.cuda.is_available() else \"cpu\")\n",
    "    \n",
    "seed=2024\n",
    "np.random.seed(seed)\n",
    "random.seed(seed)\n",
    "torch.manual_seed(seed)\n",
    "torch.cuda.manual_seed(seed)\n",
    "torch.cuda.manual_seed_all(seed)\n",
    "torch.backends.cudnn.deterministic = True\n",
    "torch.backends.cudnn.benchmark = False\n",
    "device"
   ]
  },
  {
   "cell_type": "code",
   "execution_count": 2,
   "metadata": {},
   "outputs": [],
   "source": [
    "# model config\n",
    "baseline_path = \"src/model/tenpercent_resnet18.ckpt\"\n",
    "BATCH_SIZE = 24\n",
    "num_classes = 6\n",
    "prefix = '6C'\n",
    "\n",
    "# data config\n",
    "augmented_test = False\n",
    "oversampling = False\n",
    "train_path = f\"data/splits/{prefix}_support_augmented.csv\"\n",
    "test_path = f\"data/splits/{prefix}_query.csv\" if not augmented_test else f\"data/split/{prefix}_query_augmented.csv\"\n",
    "train_data_path = \"data/augmented_data\"\n",
    "test_data_path = \"data/normalized_data\" if not augmented_test else \"data/augmented_data\"\n",
    "\n",
    "\n",
    "save_dir = f\"checkpoints/supervised/{prefix}/\" if not oversampling else f\"checkpoints/supervised/{prefix}/oversampled/\"\n",
    "save_path_model_best = f\"{save_dir}/best_model.pth\"\n",
    "save_path_optim_best = f\"{save_dir}/best_optim.pth\"\n",
    "save_path_model_last = f\"{save_dir}/last_model.pth\"\n",
    "save_path_optim_last = f\"{save_dir}/last_optim.pth\"\n",
    "\n",
    "save_path_loss_history = f\"{save_dir}/train_test_loss_history.npy\"\n",
    "save_path_acc_history = f\"{save_dir}/train_test_acc_history.npy\"\n"
   ]
  },
  {
   "cell_type": "code",
   "execution_count": 3,
   "metadata": {},
   "outputs": [],
   "source": [
    "dtrain= pd.read_csv(train_path).sample(frac = 1)\n",
    "dtest = pd.read_csv(test_path).sample(frac = 1)\n",
    "\n",
    "X_train = dtrain\n",
    "y_train = dtrain['label']\n",
    "\n",
    "# Oversample using sampling with replacement s.t. each class has the same number of samples\n",
    "X_ros, y_ros = RandomOverSampler(random_state=seed).fit_resample(X_train, y_train)"
   ]
  },
  {
   "cell_type": "code",
   "execution_count": 4,
   "metadata": {},
   "outputs": [
    {
     "data": {
      "text/html": [
       "<div>\n",
       "<style scoped>\n",
       "    .dataframe tbody tr th:only-of-type {\n",
       "        vertical-align: middle;\n",
       "    }\n",
       "\n",
       "    .dataframe tbody tr th {\n",
       "        vertical-align: top;\n",
       "    }\n",
       "\n",
       "    .dataframe thead th {\n",
       "        text-align: right;\n",
       "    }\n",
       "</style>\n",
       "<table border=\"1\" class=\"dataframe\">\n",
       "  <thead>\n",
       "    <tr style=\"text-align: right;\">\n",
       "      <th></th>\n",
       "      <th>Patient</th>\n",
       "      <th>lame</th>\n",
       "      <th>patch</th>\n",
       "      <th>classe</th>\n",
       "      <th>tetraClass</th>\n",
       "      <th>label</th>\n",
       "      <th>dataset</th>\n",
       "    </tr>\n",
       "  </thead>\n",
       "  <tbody>\n",
       "    <tr>\n",
       "      <th>67621</th>\n",
       "      <td>169</td>\n",
       "      <td>Fo</td>\n",
       "      <td>Fo_169_A (342)_VF.jpg</td>\n",
       "      <td>Foetal</td>\n",
       "      <td>T</td>\n",
       "      <td>5</td>\n",
       "      <td>train</td>\n",
       "    </tr>\n",
       "    <tr>\n",
       "      <th>28137</th>\n",
       "      <td>230</td>\n",
       "      <td>N</td>\n",
       "      <td>N_230_A (3)_rot270.jpg</td>\n",
       "      <td>Nécrose</td>\n",
       "      <td>Né</td>\n",
       "      <td>2</td>\n",
       "      <td>train</td>\n",
       "    </tr>\n",
       "    <tr>\n",
       "      <th>51341</th>\n",
       "      <td>231</td>\n",
       "      <td>S</td>\n",
       "      <td>S_231_A (1715)_VF.jpg</td>\n",
       "      <td>Solide</td>\n",
       "      <td>T</td>\n",
       "      <td>5</td>\n",
       "      <td>train</td>\n",
       "    </tr>\n",
       "    <tr>\n",
       "      <th>32559</th>\n",
       "      <td>9</td>\n",
       "      <td>N</td>\n",
       "      <td>N_9_S (1093).tif</td>\n",
       "      <td>Nécrose</td>\n",
       "      <td>Né</td>\n",
       "      <td>2</td>\n",
       "      <td>train</td>\n",
       "    </tr>\n",
       "    <tr>\n",
       "      <th>66549</th>\n",
       "      <td>230</td>\n",
       "      <td>Gc</td>\n",
       "      <td>Gc_230_A (145).jpg</td>\n",
       "      <td>Glandulaire complexe</td>\n",
       "      <td>T</td>\n",
       "      <td>5</td>\n",
       "      <td>train</td>\n",
       "    </tr>\n",
       "    <tr>\n",
       "      <th>...</th>\n",
       "      <td>...</td>\n",
       "      <td>...</td>\n",
       "      <td>...</td>\n",
       "      <td>...</td>\n",
       "      <td>...</td>\n",
       "      <td>...</td>\n",
       "      <td>...</td>\n",
       "    </tr>\n",
       "    <tr>\n",
       "      <th>47643</th>\n",
       "      <td>231</td>\n",
       "      <td>F</td>\n",
       "      <td>F_231_A (152)_rot45.jpg</td>\n",
       "      <td>Fibrose</td>\n",
       "      <td>Fi</td>\n",
       "      <td>4</td>\n",
       "      <td>train</td>\n",
       "    </tr>\n",
       "    <tr>\n",
       "      <th>35456</th>\n",
       "      <td>231</td>\n",
       "      <td>TL</td>\n",
       "      <td>TL_231_A (22)_HF.jpg</td>\n",
       "      <td>Tissu lymphoïde</td>\n",
       "      <td>TL</td>\n",
       "      <td>3</td>\n",
       "      <td>train</td>\n",
       "    </tr>\n",
       "    <tr>\n",
       "      <th>51808</th>\n",
       "      <td>7</td>\n",
       "      <td>A</td>\n",
       "      <td>A_7_A (279).jpg</td>\n",
       "      <td>Acinaire</td>\n",
       "      <td>T</td>\n",
       "      <td>5</td>\n",
       "      <td>train</td>\n",
       "    </tr>\n",
       "    <tr>\n",
       "      <th>52730</th>\n",
       "      <td>247</td>\n",
       "      <td>A</td>\n",
       "      <td>A_247_A (2937).jpg</td>\n",
       "      <td>Acinaire</td>\n",
       "      <td>T</td>\n",
       "      <td>5</td>\n",
       "      <td>train</td>\n",
       "    </tr>\n",
       "    <tr>\n",
       "      <th>7816</th>\n",
       "      <td>3</td>\n",
       "      <td>No</td>\n",
       "      <td>No_3_C(463)_HF.jpg</td>\n",
       "      <td>Normal</td>\n",
       "      <td>P</td>\n",
       "      <td>0</td>\n",
       "      <td>train</td>\n",
       "    </tr>\n",
       "  </tbody>\n",
       "</table>\n",
       "<p>71601 rows × 7 columns</p>\n",
       "</div>"
      ],
      "text/plain": [
       "       Patient lame                    patch                classe tetraClass   \n",
       "67621      169   Fo    Fo_169_A (342)_VF.jpg                Foetal          T  \\\n",
       "28137      230    N   N_230_A (3)_rot270.jpg               Nécrose         Né   \n",
       "51341      231    S    S_231_A (1715)_VF.jpg                Solide          T   \n",
       "32559        9    N         N_9_S (1093).tif               Nécrose         Né   \n",
       "66549      230   Gc       Gc_230_A (145).jpg  Glandulaire complexe          T   \n",
       "...        ...  ...                      ...                   ...        ...   \n",
       "47643      231    F  F_231_A (152)_rot45.jpg               Fibrose         Fi   \n",
       "35456      231   TL     TL_231_A (22)_HF.jpg       Tissu lymphoïde         TL   \n",
       "51808        7    A          A_7_A (279).jpg              Acinaire          T   \n",
       "52730      247    A       A_247_A (2937).jpg              Acinaire          T   \n",
       "7816         3   No       No_3_C(463)_HF.jpg                Normal          P   \n",
       "\n",
       "       label dataset  \n",
       "67621      5   train  \n",
       "28137      2   train  \n",
       "51341      5   train  \n",
       "32559      2   train  \n",
       "66549      5   train  \n",
       "...      ...     ...  \n",
       "47643      4   train  \n",
       "35456      3   train  \n",
       "51808      5   train  \n",
       "52730      5   train  \n",
       "7816       0   train  \n",
       "\n",
       "[71601 rows x 7 columns]"
      ]
     },
     "execution_count": 4,
     "metadata": {},
     "output_type": "execute_result"
    }
   ],
   "source": [
    "X_train"
   ]
  },
  {
   "cell_type": "code",
   "execution_count": 5,
   "metadata": {},
   "outputs": [
    {
     "data": {
      "text/plain": [
       "(tetraClass\n",
       " P     22755\n",
       " T     21165\n",
       " Fi    12612\n",
       " Né     8994\n",
       " TL     3069\n",
       " H      3006\n",
       " Name: count, dtype: int64,\n",
       " tetraClass\n",
       " T     22755\n",
       " Né    22755\n",
       " Fi    22755\n",
       " H     22755\n",
       " TL    22755\n",
       " P     22755\n",
       " Name: count, dtype: int64)"
      ]
     },
     "execution_count": 5,
     "metadata": {},
     "output_type": "execute_result"
    }
   ],
   "source": [
    "X_train['tetraClass'].value_counts(), X_ros['tetraClass'].value_counts()"
   ]
  },
  {
   "cell_type": "code",
   "execution_count": 6,
   "metadata": {},
   "outputs": [],
   "source": [
    "if oversampling:\n",
    "    X_train, y_train = X_ros, y_ros"
   ]
  },
  {
   "cell_type": "markdown",
   "metadata": {},
   "source": [
    "t_train = tt.Compose([tt.RandomHorizontalFlip(), \n",
    "                    tt.RandomVerticalFlip(),\n",
    "                    tt.ToTensor()])\n",
    "t_test = tt.Compose([tt.ToTensor()])"
   ]
  },
  {
   "cell_type": "code",
   "execution_count": 7,
   "metadata": {},
   "outputs": [],
   "source": [
    "# create a LungSet object(torch.Datatset) with:\n",
    "# df(DataFrame): image_path, label\n",
    "# data_path(str): directory containing the images\n",
    "# transform(transforms.Compose): transformations to apply\n",
    "# __iter__: return torch(Image), label\n",
    "train_set = LungSet(X_train, data_path=train_data_path)\n",
    "test_set = LungSet(dtest, data_path=test_data_path)\n",
    "\n",
    "# Create the torch.Dataloader\n",
    "train_loader = DataLoader(train_set, batch_size=BATCH_SIZE, shuffle=True)\n",
    "test_loader = DataLoader(test_set, batch_size=BATCH_SIZE, shuffle=False)"
   ]
  },
  {
   "cell_type": "code",
   "execution_count": 8,
   "metadata": {},
   "outputs": [
    {
     "data": {
      "text/plain": [
       "(71601, 2623)"
      ]
     },
     "execution_count": 8,
     "metadata": {},
     "output_type": "execute_result"
    }
   ],
   "source": [
    "len(train_set), len(test_set)"
   ]
  },
  {
   "cell_type": "code",
   "execution_count": 9,
   "metadata": {},
   "outputs": [],
   "source": [
    "# Set up the model\n",
    "model = LungNet(baseline_path, num_classes)\n",
    "model = model.to(device)\n",
    "\n",
    "# data paralellism in traning\n",
    "# model=nn.DataParallel(model, device_ids=[0, 1])\n",
    "# model=model.cuda()\n",
    "\n",
    "criterion = nn.CrossEntropyLoss(label_smoothing=0.125)\n",
    "early_stopping = EarlyStopping(patience=10, delta=0.001)\n",
    "optimizer = optim.AdamW(model.parameters(), lr=0.1, weight_decay=0.01)\n",
    "# allow dynamic lr reducing based on some measurement (a metric has stopped improving)\n",
    "scheduler = lr_scheduler.ReduceLROnPlateau(optimizer, mode='min',factor=0.1, patience=10, min_lr=1e-15, verbose=True)"
   ]
  },
  {
   "cell_type": "code",
   "execution_count": 10,
   "metadata": {},
   "outputs": [
    {
     "name": "stdout",
     "output_type": "stream",
     "text": [
      "trainable parameters 70310\n"
     ]
    }
   ],
   "source": [
    "print(\"trainable parameters\",sum([p.numel() for p in model.parameters() if p.requires_grad]))"
   ]
  },
  {
   "cell_type": "code",
   "execution_count": 11,
   "metadata": {
    "scrolled": true
   },
   "outputs": [
    {
     "name": "stderr",
     "output_type": "stream",
     "text": [
      "100%|██████████| 2984/2984 [21:14<00:00,  2.34it/s]\n"
     ]
    },
    {
     "name": "stdout",
     "output_type": "stream",
     "text": [
      "Epoch 1/50: TRAIN Loss=0.73201 -- Acc=91.110% || TEST Loss=6.32105 -- Acc=42.699%  --- Time=22min (loss decreased!) new best model saved\n"
     ]
    },
    {
     "name": "stderr",
     "output_type": "stream",
     "text": [
      "100%|██████████| 2984/2984 [21:24<00:00,  2.32it/s]\n"
     ]
    },
    {
     "name": "stdout",
     "output_type": "stream",
     "text": [
      "Epoch 2/50: TRAIN Loss=0.70438 -- Acc=92.454% || TEST Loss=0.88435 -- Acc=82.920%  --- Time=22min (loss decreased!) new best model saved\n"
     ]
    },
    {
     "name": "stderr",
     "output_type": "stream",
     "text": [
      "100%|██████████| 2984/2984 [21:28<00:00,  2.32it/s]\n"
     ]
    },
    {
     "name": "stdout",
     "output_type": "stream",
     "text": [
      "Epoch 3/50: TRAIN Loss=0.70650 -- Acc=92.465% || TEST Loss=0.85206 -- Acc=84.178%  --- Time=22min (loss decreased!) new best model saved\n"
     ]
    },
    {
     "name": "stderr",
     "output_type": "stream",
     "text": [
      "100%|██████████| 2984/2984 [21:28<00:00,  2.32it/s]\n"
     ]
    },
    {
     "name": "stdout",
     "output_type": "stream",
     "text": [
      "Epoch 4/50: TRAIN Loss=0.70124 -- Acc=92.682% || TEST Loss=0.97080 -- Acc=76.363%  --- Time=22min \n"
     ]
    },
    {
     "name": "stderr",
     "output_type": "stream",
     "text": [
      "100%|██████████| 2984/2984 [21:42<00:00,  2.29it/s]\n"
     ]
    },
    {
     "name": "stdout",
     "output_type": "stream",
     "text": [
      "Epoch 5/50: TRAIN Loss=0.70220 -- Acc=92.788% || TEST Loss=0.87838 -- Acc=84.979%  --- Time=22min (loss decreased!) new best model saved\n"
     ]
    },
    {
     "name": "stderr",
     "output_type": "stream",
     "text": [
      "100%|██████████| 2984/2984 [22:04<00:00,  2.25it/s]\n"
     ]
    },
    {
     "name": "stdout",
     "output_type": "stream",
     "text": [
      "Epoch 6/50: TRAIN Loss=0.69728 -- Acc=92.888% || TEST Loss=0.87108 -- Acc=82.768%  --- Time=22min \n"
     ]
    },
    {
     "name": "stderr",
     "output_type": "stream",
     "text": [
      "100%|██████████| 2984/2984 [22:09<00:00,  2.24it/s]\n"
     ]
    },
    {
     "name": "stdout",
     "output_type": "stream",
     "text": [
      "Epoch 7/50: TRAIN Loss=0.70001 -- Acc=92.659% || TEST Loss=1.12169 -- Acc=70.187%  --- Time=22min \n"
     ]
    },
    {
     "name": "stderr",
     "output_type": "stream",
     "text": [
      "100%|██████████| 2984/2984 [24:13<00:00,  2.05it/s]\n"
     ]
    },
    {
     "name": "stdout",
     "output_type": "stream",
     "text": [
      "Epoch 8/50: TRAIN Loss=0.69936 -- Acc=92.916% || TEST Loss=1.09008 -- Acc=73.046%  --- Time=24min \n"
     ]
    },
    {
     "name": "stderr",
     "output_type": "stream",
     "text": [
      "100%|██████████| 2984/2984 [21:50<00:00,  2.28it/s]\n"
     ]
    },
    {
     "name": "stdout",
     "output_type": "stream",
     "text": [
      "Epoch 9/50: TRAIN Loss=0.70272 -- Acc=92.863% || TEST Loss=1.39751 -- Acc=61.914%  --- Time=22min \n"
     ]
    },
    {
     "name": "stderr",
     "output_type": "stream",
     "text": [
      "100%|██████████| 2984/2984 [21:30<00:00,  2.31it/s]\n"
     ]
    },
    {
     "name": "stdout",
     "output_type": "stream",
     "text": [
      "Epoch 10/50: TRAIN Loss=0.70132 -- Acc=92.740% || TEST Loss=0.87281 -- Acc=79.260%  --- Time=22min \n"
     ]
    },
    {
     "name": "stderr",
     "output_type": "stream",
     "text": [
      "100%|██████████| 2984/2984 [21:56<00:00,  2.27it/s]\n"
     ]
    },
    {
     "name": "stdout",
     "output_type": "stream",
     "text": [
      "Epoch 11/50: TRAIN Loss=0.69914 -- Acc=92.806% || TEST Loss=1.13961 -- Acc=66.069%  --- Time=22min \n"
     ]
    },
    {
     "name": "stderr",
     "output_type": "stream",
     "text": [
      "100%|██████████| 2984/2984 [21:44<00:00,  2.29it/s]\n"
     ]
    },
    {
     "name": "stdout",
     "output_type": "stream",
     "text": [
      "Epoch 12/50: TRAIN Loss=0.69923 -- Acc=92.979% || TEST Loss=0.80479 -- Acc=85.856%  --- Time=22min (loss decreased!) new best model saved\n"
     ]
    },
    {
     "name": "stderr",
     "output_type": "stream",
     "text": [
      "100%|██████████| 2984/2984 [21:57<00:00,  2.27it/s]\n"
     ]
    },
    {
     "name": "stdout",
     "output_type": "stream",
     "text": [
      "Epoch 13/50: TRAIN Loss=0.70012 -- Acc=92.880% || TEST Loss=0.90938 -- Acc=80.938%  --- Time=22min \n"
     ]
    },
    {
     "name": "stderr",
     "output_type": "stream",
     "text": [
      "100%|██████████| 2984/2984 [21:59<00:00,  2.26it/s]\n"
     ]
    },
    {
     "name": "stdout",
     "output_type": "stream",
     "text": [
      "Epoch 14/50: TRAIN Loss=0.70371 -- Acc=92.721% || TEST Loss=0.94754 -- Acc=78.193%  --- Time=22min \n"
     ]
    },
    {
     "name": "stderr",
     "output_type": "stream",
     "text": [
      "100%|██████████| 2984/2984 [21:30<00:00,  2.31it/s]\n"
     ]
    },
    {
     "name": "stdout",
     "output_type": "stream",
     "text": [
      "Epoch 15/50: TRAIN Loss=0.69980 -- Acc=92.844% || TEST Loss=1.71245 -- Acc=75.372%  --- Time=22min \n"
     ]
    },
    {
     "name": "stderr",
     "output_type": "stream",
     "text": [
      "100%|██████████| 2984/2984 [21:46<00:00,  2.28it/s]\n"
     ]
    },
    {
     "name": "stdout",
     "output_type": "stream",
     "text": [
      "Epoch 16/50: TRAIN Loss=0.70068 -- Acc=92.803% || TEST Loss=0.88484 -- Acc=82.387%  --- Time=22min \n"
     ]
    },
    {
     "name": "stderr",
     "output_type": "stream",
     "text": [
      "100%|██████████| 2984/2984 [22:04<00:00,  2.25it/s]\n"
     ]
    },
    {
     "name": "stdout",
     "output_type": "stream",
     "text": [
      "Epoch 17/50: TRAIN Loss=0.70069 -- Acc=92.849% || TEST Loss=1.08640 -- Acc=70.301%  --- Time=22min \n"
     ]
    },
    {
     "name": "stderr",
     "output_type": "stream",
     "text": [
      "100%|██████████| 2984/2984 [22:13<00:00,  2.24it/s]\n"
     ]
    },
    {
     "name": "stdout",
     "output_type": "stream",
     "text": [
      "Epoch 18/50: TRAIN Loss=0.70129 -- Acc=92.883% || TEST Loss=0.84804 -- Acc=82.882%  --- Time=22min \n"
     ]
    },
    {
     "name": "stderr",
     "output_type": "stream",
     "text": [
      "100%|██████████| 2984/2984 [22:19<00:00,  2.23it/s]\n"
     ]
    },
    {
     "name": "stdout",
     "output_type": "stream",
     "text": [
      "Epoch 19/50: TRAIN Loss=0.69824 -- Acc=92.920% || TEST Loss=0.99300 -- Acc=73.580%  --- Time=23min \n"
     ]
    },
    {
     "name": "stderr",
     "output_type": "stream",
     "text": [
      "100%|██████████| 2984/2984 [22:13<00:00,  2.24it/s]\n"
     ]
    },
    {
     "name": "stdout",
     "output_type": "stream",
     "text": [
      "Epoch 20/50: TRAIN Loss=0.70274 -- Acc=92.846% || TEST Loss=1.07996 -- Acc=73.732%  --- Time=22min \n"
     ]
    },
    {
     "name": "stderr",
     "output_type": "stream",
     "text": [
      "100%|██████████| 2984/2984 [21:39<00:00,  2.30it/s]\n"
     ]
    },
    {
     "name": "stdout",
     "output_type": "stream",
     "text": [
      "Epoch 21/50: TRAIN Loss=0.70072 -- Acc=92.717% || TEST Loss=0.80723 -- Acc=86.085%  --- Time=22min (loss decreased!) new best model saved\n"
     ]
    },
    {
     "name": "stderr",
     "output_type": "stream",
     "text": [
      "100%|██████████| 2984/2984 [22:05<00:00,  2.25it/s]\n"
     ]
    },
    {
     "name": "stdout",
     "output_type": "stream",
     "text": [
      "Epoch 22/50: TRAIN Loss=0.70357 -- Acc=92.620% || TEST Loss=0.94067 -- Acc=79.337%  --- Time=22min \n"
     ]
    },
    {
     "name": "stderr",
     "output_type": "stream",
     "text": [
      "100%|██████████| 2984/2984 [22:04<00:00,  2.25it/s]\n"
     ]
    },
    {
     "name": "stdout",
     "output_type": "stream",
     "text": [
      "Epoch 00023: reducing learning rate of group 0 to 1.0000e-02.\n",
      "Epoch 23/50: TRAIN Loss=0.70204 -- Acc=92.806% || TEST Loss=0.81354 -- Acc=84.788%  --- Time=22min \n"
     ]
    },
    {
     "name": "stderr",
     "output_type": "stream",
     "text": [
      "100%|██████████| 2984/2984 [22:04<00:00,  2.25it/s]\n"
     ]
    },
    {
     "name": "stdout",
     "output_type": "stream",
     "text": [
      "Epoch 24/50: TRAIN Loss=0.63885 -- Acc=94.870% || TEST Loss=0.74273 -- Acc=88.639%  --- Time=22min (loss decreased!) new best model saved\n"
     ]
    },
    {
     "name": "stderr",
     "output_type": "stream",
     "text": [
      "100%|██████████| 2984/2984 [22:07<00:00,  2.25it/s]\n"
     ]
    },
    {
     "name": "stdout",
     "output_type": "stream",
     "text": [
      "Epoch 25/50: TRAIN Loss=0.63131 -- Acc=95.244% || TEST Loss=0.87411 -- Acc=83.263%  --- Time=22min \n"
     ]
    },
    {
     "name": "stderr",
     "output_type": "stream",
     "text": [
      "100%|██████████| 2984/2984 [22:06<00:00,  2.25it/s]\n"
     ]
    },
    {
     "name": "stdout",
     "output_type": "stream",
     "text": [
      "Epoch 26/50: TRAIN Loss=0.62845 -- Acc=95.377% || TEST Loss=0.81751 -- Acc=85.818%  --- Time=22min \n"
     ]
    },
    {
     "name": "stderr",
     "output_type": "stream",
     "text": [
      "100%|██████████| 2984/2984 [22:02<00:00,  2.26it/s]\n"
     ]
    },
    {
     "name": "stdout",
     "output_type": "stream",
     "text": [
      "Epoch 27/50: TRAIN Loss=0.62782 -- Acc=95.381% || TEST Loss=0.79108 -- Acc=87.076%  --- Time=22min \n"
     ]
    },
    {
     "name": "stderr",
     "output_type": "stream",
     "text": [
      "100%|██████████| 2984/2984 [21:58<00:00,  2.26it/s]\n"
     ]
    },
    {
     "name": "stdout",
     "output_type": "stream",
     "text": [
      "Epoch 28/50: TRAIN Loss=0.62867 -- Acc=95.358% || TEST Loss=0.86671 -- Acc=82.501%  --- Time=22min \n"
     ]
    },
    {
     "name": "stderr",
     "output_type": "stream",
     "text": [
      "100%|██████████| 2984/2984 [21:59<00:00,  2.26it/s]\n"
     ]
    },
    {
     "name": "stdout",
     "output_type": "stream",
     "text": [
      "Epoch 29/50: TRAIN Loss=0.62908 -- Acc=95.356% || TEST Loss=0.80808 -- Acc=86.275%  --- Time=22min \n"
     ]
    },
    {
     "name": "stderr",
     "output_type": "stream",
     "text": [
      "100%|██████████| 2984/2984 [22:01<00:00,  2.26it/s]\n"
     ]
    },
    {
     "name": "stdout",
     "output_type": "stream",
     "text": [
      "Epoch 30/50: TRAIN Loss=0.63091 -- Acc=95.325% || TEST Loss=0.88756 -- Acc=81.014%  --- Time=22min \n"
     ]
    },
    {
     "name": "stderr",
     "output_type": "stream",
     "text": [
      "100%|██████████| 2984/2984 [21:57<00:00,  2.26it/s]\n"
     ]
    },
    {
     "name": "stdout",
     "output_type": "stream",
     "text": [
      "Epoch 31/50: TRAIN Loss=0.63010 -- Acc=95.212% || TEST Loss=0.79415 -- Acc=85.551%  --- Time=22min \n"
     ]
    },
    {
     "name": "stderr",
     "output_type": "stream",
     "text": [
      "100%|██████████| 2984/2984 [22:02<00:00,  2.26it/s]\n"
     ]
    },
    {
     "name": "stdout",
     "output_type": "stream",
     "text": [
      "Epoch 32/50: TRAIN Loss=0.63126 -- Acc=95.271% || TEST Loss=0.85758 -- Acc=84.598%  --- Time=22min \n"
     ]
    },
    {
     "name": "stderr",
     "output_type": "stream",
     "text": [
      "100%|██████████| 2984/2984 [22:03<00:00,  2.26it/s]\n"
     ]
    },
    {
     "name": "stdout",
     "output_type": "stream",
     "text": [
      "Epoch 33/50: TRAIN Loss=0.63046 -- Acc=95.286% || TEST Loss=0.73090 -- Acc=90.393%  --- Time=22min (loss decreased!) new best model saved\n"
     ]
    },
    {
     "name": "stderr",
     "output_type": "stream",
     "text": [
      "100%|██████████| 2984/2984 [22:03<00:00,  2.26it/s]\n"
     ]
    },
    {
     "name": "stdout",
     "output_type": "stream",
     "text": [
      "Epoch 34/50: TRAIN Loss=0.63163 -- Acc=95.239% || TEST Loss=0.79596 -- Acc=86.618%  --- Time=22min \n"
     ]
    },
    {
     "name": "stderr",
     "output_type": "stream",
     "text": [
      "100%|██████████| 2984/2984 [22:02<00:00,  2.26it/s]\n"
     ]
    },
    {
     "name": "stdout",
     "output_type": "stream",
     "text": [
      "Epoch 35/50: TRAIN Loss=0.63087 -- Acc=95.291% || TEST Loss=0.83671 -- Acc=85.475%  --- Time=22min \n"
     ]
    },
    {
     "name": "stderr",
     "output_type": "stream",
     "text": [
      "100%|██████████| 2984/2984 [22:02<00:00,  2.26it/s]\n"
     ]
    },
    {
     "name": "stdout",
     "output_type": "stream",
     "text": [
      "Epoch 36/50: TRAIN Loss=0.63157 -- Acc=95.328% || TEST Loss=0.81339 -- Acc=85.513%  --- Time=22min \n"
     ]
    },
    {
     "name": "stderr",
     "output_type": "stream",
     "text": [
      "100%|██████████| 2984/2984 [22:01<00:00,  2.26it/s]\n"
     ]
    },
    {
     "name": "stdout",
     "output_type": "stream",
     "text": [
      "Epoch 37/50: TRAIN Loss=0.63376 -- Acc=95.150% || TEST Loss=0.99614 -- Acc=77.964%  --- Time=22min \n"
     ]
    },
    {
     "name": "stderr",
     "output_type": "stream",
     "text": [
      "100%|██████████| 2984/2984 [22:04<00:00,  2.25it/s]\n"
     ]
    },
    {
     "name": "stdout",
     "output_type": "stream",
     "text": [
      "Epoch 38/50: TRAIN Loss=0.63105 -- Acc=95.194% || TEST Loss=0.77517 -- Acc=87.762%  --- Time=22min \n"
     ]
    },
    {
     "name": "stderr",
     "output_type": "stream",
     "text": [
      "100%|██████████| 2984/2984 [22:04<00:00,  2.25it/s]\n"
     ]
    },
    {
     "name": "stdout",
     "output_type": "stream",
     "text": [
      "Epoch 39/50: TRAIN Loss=0.63178 -- Acc=95.194% || TEST Loss=0.76459 -- Acc=88.296%  --- Time=22min \n"
     ]
    },
    {
     "name": "stderr",
     "output_type": "stream",
     "text": [
      "100%|██████████| 2984/2984 [22:06<00:00,  2.25it/s]\n"
     ]
    },
    {
     "name": "stdout",
     "output_type": "stream",
     "text": [
      "Epoch 40/50: TRAIN Loss=0.63138 -- Acc=95.281% || TEST Loss=0.88287 -- Acc=81.205%  --- Time=22min \n"
     ]
    },
    {
     "name": "stderr",
     "output_type": "stream",
     "text": [
      "100%|██████████| 2984/2984 [22:04<00:00,  2.25it/s]\n"
     ]
    },
    {
     "name": "stdout",
     "output_type": "stream",
     "text": [
      "Epoch 41/50: TRAIN Loss=0.63136 -- Acc=95.249% || TEST Loss=0.86777 -- Acc=83.416%  --- Time=22min \n"
     ]
    },
    {
     "name": "stderr",
     "output_type": "stream",
     "text": [
      "100%|██████████| 2984/2984 [22:03<00:00,  2.25it/s]\n"
     ]
    },
    {
     "name": "stdout",
     "output_type": "stream",
     "text": [
      "Epoch 42/50: TRAIN Loss=0.63057 -- Acc=95.285% || TEST Loss=0.75962 -- Acc=87.991%  --- Time=22min \n"
     ]
    },
    {
     "name": "stderr",
     "output_type": "stream",
     "text": [
      "100%|██████████| 2984/2984 [22:03<00:00,  2.26it/s]\n"
     ]
    },
    {
     "name": "stdout",
     "output_type": "stream",
     "text": [
      "Epoch 43/50: TRAIN Loss=0.63252 -- Acc=95.159% || TEST Loss=0.77762 -- Acc=87.686%  --- Time=22min \n"
     ]
    },
    {
     "name": "stderr",
     "output_type": "stream",
     "text": [
      "100%|██████████| 2984/2984 [22:04<00:00,  2.25it/s]\n"
     ]
    },
    {
     "name": "stdout",
     "output_type": "stream",
     "text": [
      "Epoch 00044: reducing learning rate of group 0 to 1.0000e-03.\n",
      "Epoch 44/50: TRAIN Loss=0.63172 -- Acc=95.236% || TEST Loss=0.85648 -- Acc=84.293%  --- Time=22min \n"
     ]
    },
    {
     "name": "stderr",
     "output_type": "stream",
     "text": [
      "100%|██████████| 2984/2984 [22:03<00:00,  2.25it/s]\n"
     ]
    },
    {
     "name": "stdout",
     "output_type": "stream",
     "text": [
      "Epoch 45/50: TRAIN Loss=0.61596 -- Acc=95.824% || TEST Loss=0.83677 -- Acc=85.818%  --- Time=22min \n"
     ]
    },
    {
     "name": "stderr",
     "output_type": "stream",
     "text": [
      "100%|██████████| 2984/2984 [22:03<00:00,  2.25it/s]\n"
     ]
    },
    {
     "name": "stdout",
     "output_type": "stream",
     "text": [
      "Epoch 46/50: TRAIN Loss=0.61374 -- Acc=95.876% || TEST Loss=0.80684 -- Acc=86.580%  --- Time=22min \n"
     ]
    },
    {
     "name": "stderr",
     "output_type": "stream",
     "text": [
      "100%|██████████| 2984/2984 [22:03<00:00,  2.25it/s]\n"
     ]
    },
    {
     "name": "stdout",
     "output_type": "stream",
     "text": [
      "Epoch 47/50: TRAIN Loss=0.61367 -- Acc=95.980% || TEST Loss=0.79230 -- Acc=86.618%  --- Time=22min \n"
     ]
    },
    {
     "name": "stderr",
     "output_type": "stream",
     "text": [
      "100%|██████████| 2984/2984 [22:05<00:00,  2.25it/s]\n"
     ]
    },
    {
     "name": "stdout",
     "output_type": "stream",
     "text": [
      "Epoch 48/50: TRAIN Loss=0.61357 -- Acc=95.941% || TEST Loss=0.78895 -- Acc=87.038%  --- Time=22min \n"
     ]
    },
    {
     "name": "stderr",
     "output_type": "stream",
     "text": [
      "100%|██████████| 2984/2984 [21:54<00:00,  2.27it/s]\n"
     ]
    },
    {
     "name": "stdout",
     "output_type": "stream",
     "text": [
      "Epoch 49/50: TRAIN Loss=0.61281 -- Acc=95.993% || TEST Loss=0.83060 -- Acc=85.551%  --- Time=22min \n"
     ]
    },
    {
     "name": "stderr",
     "output_type": "stream",
     "text": [
      "100%|██████████| 2984/2984 [21:55<00:00,  2.27it/s]\n"
     ]
    },
    {
     "name": "stdout",
     "output_type": "stream",
     "text": [
      "Epoch 50/50: TRAIN Loss=0.61196 -- Acc=96.073% || TEST Loss=0.80750 -- Acc=86.237%  --- Time=22min \n",
      "total time : T=18.000h\n"
     ]
    }
   ],
   "source": [
    "best_acc = 0\n",
    "num_epoch=50\n",
    "comment=\" \"\n",
    "T=0\n",
    "\n",
    "train_loss, test_loss, train_accuracy, test_accuracy = [], [], [], []\n",
    "\n",
    "for epoch in range(num_epoch):\n",
    "    t0 = time.time()               \n",
    "    # train one epoch for each batch                                                                                                         \n",
    "    epoch_train_loss, epoch_train_accuracy  = training(model, train_loader, criterion, optimizer, device)\n",
    "    epoch_test_loss, epoch_test_accuracy    = testing(model, test_loader, criterion, device)\n",
    "\n",
    "    # save the model if is currently the best\n",
    "    if best_acc < epoch_test_accuracy:\n",
    "        best_acc = epoch_test_accuracy\n",
    "        torch.save(model.state_dict(), save_path_model_best)\n",
    "        torch.save(optimizer.state_dict(), save_path_optim_best)\n",
    "        comment=\" (loss decreased!) new best model saved\"\n",
    "    \n",
    "    # reduce the learning rate if test loss didn't decrease\n",
    "    scheduler.step(epoch_test_loss)\n",
    "\n",
    "    # keep track of the loss and accuracy\n",
    "    train_loss.append(epoch_train_loss)\n",
    "    train_accuracy.append(epoch_train_accuracy)\n",
    "    test_loss.append(epoch_test_loss)\n",
    "    test_accuracy.append(epoch_test_accuracy)\n",
    "\n",
    "    # every 5 epoch save the loss and accuracy history. the model and the optimizer (lr changes)\n",
    "    if epoch!=0 and epoch%5 == 0:\n",
    "        np.save(save_path_loss_history, [train_loss, test_loss])\n",
    "        np.save(save_path_acc_history, [train_accuracy, test_accuracy])\n",
    "        torch.save(model.state_dict(), save_path_model_last)\n",
    "        torch.save(optimizer.state_dict(), save_path_optim_last)\n",
    "        \n",
    "    print('Epoch {:g}/{:g}: TRAIN Loss={:0.5f} -- Acc={:0.3f}% '.format(epoch+1,num_epoch, epoch_train_loss, epoch_train_accuracy), end='')\n",
    "    print('|| TEST Loss={:0.5f} -- Acc={:0.3f}%  --- Time={:g}min'.format(epoch_test_loss,epoch_test_accuracy, (time.time()-t0)//60), end='')\n",
    "    print(comment)\n",
    "    comment=\" \"\n",
    "    T+=(time.time()-t0)\n",
    "\n",
    "    # early_stopping(epoch_test_loss)\n",
    "    # if early_stopping.early_stop:\n",
    "    #     print(\"Early stopping.\")\n",
    "    #     break\n",
    "print(\"total time : T={:.3f}h\".format(T//3600))\n",
    "\n",
    "# save the final model\n",
    "np.save(save_path_loss_history, [train_loss, test_loss])\n",
    "np.save(save_path_acc_history, [train_accuracy, test_accuracy])\n",
    "torch.save(model.state_dict(), save_path_model_last)\n",
    "torch.save(optimizer.state_dict(), save_path_optim_last)"
   ]
  }
 ],
 "metadata": {
  "kernelspec": {
   "display_name": "Python 3 (ipykernel)",
   "language": "python",
   "name": "python3"
  },
  "language_info": {
   "codemirror_mode": {
    "name": "ipython",
    "version": 3
   },
   "file_extension": ".py",
   "mimetype": "text/x-python",
   "name": "python",
   "nbconvert_exporter": "python",
   "pygments_lexer": "ipython3",
   "version": "3.10.12"
  }
 },
 "nbformat": 4,
 "nbformat_minor": 4
}
