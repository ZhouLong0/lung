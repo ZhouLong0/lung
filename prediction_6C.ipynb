{
 "cells": [
  {
   "cell_type": "code",
   "execution_count": 14,
   "metadata": {},
   "outputs": [
    {
     "name": "stdout",
     "output_type": "stream",
     "text": [
      "Number of available GPUs: 1\n"
     ]
    }
   ],
   "source": [
    "import warnings\n",
    "warnings.filterwarnings(\"ignore\")\n",
    "\n",
    "import time\n",
    "import os\n",
    "import random\n",
    "from tqdm import tqdm\n",
    "import matplotlib.pyplot as plt\n",
    "import numpy as np \n",
    "import pandas as pd\n",
    "import seaborn as sns\n",
    "import matplotlib.patches as mpatches\n",
    "\n",
    "import torch\n",
    "import torch.nn as nn\n",
    "import pytorch_lightning\n",
    "from torch.utils.data import DataLoader\n",
    "import torchvision.transforms as tt\n",
    "import torch.optim as optim\n",
    "from torch.optim import lr_scheduler\n",
    "from sklearn.metrics import *\n",
    "from PIL import Image\n",
    "from imblearn.over_sampling import RandomOverSampler\n",
    "from sklearn.utils.class_weight import compute_class_weight\n",
    "\n",
    "from src.utils.utils import training, testing, EarlyStopping, get_y_true_preds\n",
    "from src.utils.LungDataset import LungSet\n",
    "from src.model.LungNetwork import LungNet\n",
    "\n",
    "import torch\n",
    "if torch.cuda.is_available():\n",
    "    num_gpus = torch.cuda.device_count()\n",
    "    print(f\"Number of available GPUs: {num_gpus}\")\n",
    "    device = torch.device(\"cuda:0\" if torch.cuda.is_available() else \"cpu\")\n",
    "    \n",
    "seed=2024\n",
    "np.random.seed(seed)\n",
    "random.seed(seed)\n",
    "torch.manual_seed(seed)\n",
    "torch.cuda.manual_seed(seed)\n",
    "torch.cuda.manual_seed_all(seed)\n",
    "torch.backends.cudnn.deterministic = True\n",
    "torch.backends.cudnn.benchmark = False"
   ]
  },
  {
   "cell_type": "code",
   "execution_count": 15,
   "metadata": {},
   "outputs": [],
   "source": [
    "#config\n",
    "prefix=\"6C\"\n",
    "num_classes = 6\n",
    "id = ''\n",
    "\n",
    "wholeslide_id = '55'\n",
    "pred_split_path = \"data/splits/55_A.csv\"\n",
    "pred_data_path = \"data/55_normalized/\"\n",
    "\n",
    "baseline_path = \"src/model/tenpercent_resnet18.ckpt\"\n",
    "evaluate_model_path = f\"checkpoints/supervised/{prefix}/last_model{id}.pth\"\n",
    "BATCH_SIZE = 24\n",
    "\n",
    "save_dir = f\"predictions/supervised/{prefix}{id}/{wholeslide_id}/\"\n",
    "os.makedirs(save_dir, exist_ok=True)"
   ]
  },
  {
   "cell_type": "code",
   "execution_count": 16,
   "metadata": {},
   "outputs": [],
   "source": [
    "dpred = pd.read_csv(pred_split_path).sample(frac = 1)\n",
    "\n",
    "# create a LungSet object(torch.Datatset) with:\n",
    "# df(DataFrame): image_path, label\n",
    "# data_path(str): directory containing the images\n",
    "# transform(transforms.Compose): transformations to apply\n",
    "# __iter__: return torch(Image), label\n",
    "pred_set = LungSet(dpred, data_path=pred_data_path, file_name=True, predictions=True)\n",
    "\n",
    "# Create the torch.Dataloader\n",
    "pred_loader = DataLoader(pred_set, batch_size=BATCH_SIZE, shuffle=False)\n"
   ]
  },
  {
   "cell_type": "code",
   "execution_count": 22,
   "metadata": {},
   "outputs": [
    {
     "data": {
      "text/html": [
       "<div>\n",
       "<style scoped>\n",
       "    .dataframe tbody tr th:only-of-type {\n",
       "        vertical-align: middle;\n",
       "    }\n",
       "\n",
       "    .dataframe tbody tr th {\n",
       "        vertical-align: top;\n",
       "    }\n",
       "\n",
       "    .dataframe thead th {\n",
       "        text-align: right;\n",
       "    }\n",
       "</style>\n",
       "<table border=\"1\" class=\"dataframe\">\n",
       "  <thead>\n",
       "    <tr style=\"text-align: right;\">\n",
       "      <th></th>\n",
       "      <th>Patient</th>\n",
       "      <th>lame</th>\n",
       "      <th>patch</th>\n",
       "      <th>label</th>\n",
       "    </tr>\n",
       "  </thead>\n",
       "  <tbody>\n",
       "    <tr>\n",
       "      <th>3107</th>\n",
       "      <td>55</td>\n",
       "      <td>A</td>\n",
       "      <td>55_A_row_182_col_163.jpg</td>\n",
       "      <td>0</td>\n",
       "    </tr>\n",
       "    <tr>\n",
       "      <th>1900</th>\n",
       "      <td>55</td>\n",
       "      <td>A</td>\n",
       "      <td>55_A_row_247_col_135.jpg</td>\n",
       "      <td>0</td>\n",
       "    </tr>\n",
       "    <tr>\n",
       "      <th>2043</th>\n",
       "      <td>55</td>\n",
       "      <td>A</td>\n",
       "      <td>55_A_row_180_col_112.jpg</td>\n",
       "      <td>0</td>\n",
       "    </tr>\n",
       "    <tr>\n",
       "      <th>824</th>\n",
       "      <td>55</td>\n",
       "      <td>A</td>\n",
       "      <td>55_A_row_214_col_119.jpg</td>\n",
       "      <td>0</td>\n",
       "    </tr>\n",
       "    <tr>\n",
       "      <th>885</th>\n",
       "      <td>55</td>\n",
       "      <td>A</td>\n",
       "      <td>55_A_row_187_col_142.jpg</td>\n",
       "      <td>0</td>\n",
       "    </tr>\n",
       "    <tr>\n",
       "      <th>...</th>\n",
       "      <td>...</td>\n",
       "      <td>...</td>\n",
       "      <td>...</td>\n",
       "      <td>...</td>\n",
       "    </tr>\n",
       "    <tr>\n",
       "      <th>183</th>\n",
       "      <td>55</td>\n",
       "      <td>A</td>\n",
       "      <td>55_A_row_233_col_131.jpg</td>\n",
       "      <td>0</td>\n",
       "    </tr>\n",
       "    <tr>\n",
       "      <th>2494</th>\n",
       "      <td>55</td>\n",
       "      <td>A</td>\n",
       "      <td>55_A_row_230_col_111.jpg</td>\n",
       "      <td>0</td>\n",
       "    </tr>\n",
       "    <tr>\n",
       "      <th>2688</th>\n",
       "      <td>55</td>\n",
       "      <td>A</td>\n",
       "      <td>55_A_row_185_col_124.jpg</td>\n",
       "      <td>0</td>\n",
       "    </tr>\n",
       "    <tr>\n",
       "      <th>2656</th>\n",
       "      <td>55</td>\n",
       "      <td>A</td>\n",
       "      <td>55_A_row_249_col_172.jpg</td>\n",
       "      <td>0</td>\n",
       "    </tr>\n",
       "    <tr>\n",
       "      <th>3578</th>\n",
       "      <td>55</td>\n",
       "      <td>A</td>\n",
       "      <td>55_A_row_191_col_168.jpg</td>\n",
       "      <td>0</td>\n",
       "    </tr>\n",
       "  </tbody>\n",
       "</table>\n",
       "<p>5130 rows × 4 columns</p>\n",
       "</div>"
      ],
      "text/plain": [
       "      Patient lame                     patch  label\n",
       "3107       55    A  55_A_row_182_col_163.jpg      0\n",
       "1900       55    A  55_A_row_247_col_135.jpg      0\n",
       "2043       55    A  55_A_row_180_col_112.jpg      0\n",
       "824        55    A  55_A_row_214_col_119.jpg      0\n",
       "885        55    A  55_A_row_187_col_142.jpg      0\n",
       "...       ...  ...                       ...    ...\n",
       "183        55    A  55_A_row_233_col_131.jpg      0\n",
       "2494       55    A  55_A_row_230_col_111.jpg      0\n",
       "2688       55    A  55_A_row_185_col_124.jpg      0\n",
       "2656       55    A  55_A_row_249_col_172.jpg      0\n",
       "3578       55    A  55_A_row_191_col_168.jpg      0\n",
       "\n",
       "[5130 rows x 4 columns]"
      ]
     },
     "execution_count": 22,
     "metadata": {},
     "output_type": "execute_result"
    }
   ],
   "source": [
    "dpred"
   ]
  },
  {
   "cell_type": "code",
   "execution_count": 17,
   "metadata": {},
   "outputs": [],
   "source": [
    "model = LungNet(baseline_path, num_classes)\n",
    "\n",
    "weights = torch.load(evaluate_model_path, map_location=device)\n",
    "model.load_state_dict(weights)\n",
    "model = model.cuda()"
   ]
  },
  {
   "cell_type": "code",
   "execution_count": 18,
   "metadata": {},
   "outputs": [],
   "source": [
    "def predict(data_loader, model):\n",
    "    model.eval()\n",
    "    y_true = torch.zeros(0, dtype=torch.long, device='cpu')\n",
    "    y_preds = torch.zeros(0, dtype=torch.long, device='cpu')\n",
    "    patch_order = []\n",
    "\n",
    "    with torch.no_grad():\n",
    "        for data, targets, filenames in tqdm(data_loader):   \n",
    "            data = data.cuda()\n",
    "            targets = targets.cuda()\n",
    "            scores = model(data)\n",
    "            preds = torch.softmax(scores, dim=1).argmax(dim=1).detach() \n",
    "            y_true = torch.cat([y_true, targets.view(-1).cpu()])\n",
    "            y_preds = torch.cat([y_preds, preds.view(-1).cpu()])\n",
    "            patch_order.extend(filenames)\n",
    "            del data, targets, scores, preds, filenames\n",
    "    return y_true, y_preds, patch_order"
   ]
  },
  {
   "cell_type": "code",
   "execution_count": 19,
   "metadata": {},
   "outputs": [
    {
     "name": "stderr",
     "output_type": "stream",
     "text": [
      "100%|██████████| 214/214 [02:01<00:00,  1.76it/s]\n"
     ]
    }
   ],
   "source": [
    "y_true ,y_preds, filenames = predict(pred_loader, model)"
   ]
  },
  {
   "cell_type": "code",
   "execution_count": 20,
   "metadata": {},
   "outputs": [
    {
     "data": {
      "text/plain": [
       "torch.Size([5130])"
      ]
     },
     "execution_count": 20,
     "metadata": {},
     "output_type": "execute_result"
    }
   ],
   "source": [
    "y_preds.shape"
   ]
  },
  {
   "cell_type": "code",
   "execution_count": 21,
   "metadata": {},
   "outputs": [
    {
     "data": {
      "text/plain": [
       "5130"
      ]
     },
     "execution_count": 21,
     "metadata": {},
     "output_type": "execute_result"
    }
   ],
   "source": [
    "len(filenames)"
   ]
  },
  {
   "cell_type": "code",
   "execution_count": 23,
   "metadata": {},
   "outputs": [],
   "source": [
    "def display_prediction(predictions, patch_order, save_name, title):\n",
    "    T_COLOR = (255,0,0) \t # red \n",
    "    FI_COLOR = (100, 216, 230) #light coral \t\n",
    "    NE_COLOR = (138,43,226)  #blue violet\n",
    "    TL_COLOR= (255,215,0)    #gold \n",
    "    H_COLOR = (255,192,203)\n",
    "    P_COLOR= (50,205,50)    #lime green \n",
    "    list_classes = ['P', 'H', 'Né', 'TL', 'Fi', 'T']\n",
    "    colors_pred = {0:P_COLOR, 1:H_COLOR, 2:NE_COLOR, 3:TL_COLOR, 4:FI_COLOR, 5:T_COLOR}\n",
    "    idx_to_label = {'P':0, 'H':1, 'Né':2, 'TL':3, 'Fi':4, 'T':5}\n",
    "\n",
    "    x_list = [int(patch.replace('.jpg', '').split(\"_\")[3]) for patch in patch_order]\n",
    "    y_list = [int(patch.replace('.jpg', '').split(\"_\")[5]) for patch in patch_order]\n",
    "\n",
    "\n",
    "\n",
    "    min_i = min(x_list)-15  #add 15 as a margin (optional)\n",
    "    max_i = max(x_list)+15\n",
    "    min_j = min(y_list)-15\n",
    "    max_j = max(y_list)+15\n",
    "\n",
    "    print(\"Let's display the predictions:\")\n",
    "    # visual_predictions = [np.zeros((max_j-min_j,max_i-min_i)) for _ in range(args.n_ways)]\n",
    "    global_predictions = np.full((max_j-min_j,max_i-min_i,3),255)\n",
    "    \n",
    "    plt.figure(figsize=(10,10))\n",
    "    #plt.title(\"Predictions_\"+f'_gamma_{args.gamma}_alpha_{alpha}')\n",
    "\n",
    "    for idx, patch in tqdm(enumerate(patch_order)):\n",
    "        patient, slide, _, x, _, y = patch.replace('.jpg', '').split(\"_\")\n",
    "        x, y = int(x), int(y)\n",
    "\n",
    "        global_predictions[y-min_j,x-min_i,:] = colors_pred[int(predictions[idx])]\n",
    "    \n",
    "    #plt.legend(handles=[mpatches.Patch(color=colors_pred[i], label=list_classes[i]) for i in range(6)], loc='upper right')\n",
    "    # Create a list of patches\n",
    "    patches = [mpatches.Patch(color=tuple(c/255 for c in color), label=list_classes[label]) for label, color in colors_pred.items()]\n",
    "    plt.legend(handles=patches, loc='upper right')\n",
    "    plt.title(title)\n",
    "\n",
    "    plt.imshow(global_predictions)\n",
    "    plt.savefig(save_name)"
   ]
  },
  {
   "cell_type": "code",
   "execution_count": 24,
   "metadata": {},
   "outputs": [
    {
     "name": "stdout",
     "output_type": "stream",
     "text": [
      "Let's display the predictions:\n"
     ]
    },
    {
     "name": "stderr",
     "output_type": "stream",
     "text": [
      "5130it [00:00, 145436.71it/s]"
     ]
    },
    {
     "name": "stderr",
     "output_type": "stream",
     "text": [
      "\n"
     ]
    },
    {
     "data": {
      "image/png": "[encoded data removed]",
      "text/plain": [
       "<Figure size 1000x1000 with 1 Axes>"
      ]
     },
     "metadata": {},
     "output_type": "display_data"
    }
   ],
   "source": [
    "display_prediction(y_preds, filenames, save_name=save_dir + 'supervised_prediction.png', title=f'{wholeslide_id} Supervised model resnet 18 last')"
   ]
  }
 ],
 "metadata": {
  "kernelspec": {
   "display_name": "Python 3",
   "language": "python",
   "name": "python3"
  },
  "language_info": {
   "codemirror_mode": {
    "name": "ipython",
    "version": 3
   },
   "file_extension": ".py",
   "mimetype": "text/x-python",
   "name": "python",
   "nbconvert_exporter": "python",
   "pygments_lexer": "ipython3",
   "version": "3.10.12"
  }
 },
 "nbformat": 4,
 "nbformat_minor": 2
}
