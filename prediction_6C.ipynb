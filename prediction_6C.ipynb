{
 "cells": [
  {
   "cell_type": "code",
   "execution_count": 1,
   "metadata": {},
   "outputs": [
    {
     "name": "stdout",
     "output_type": "stream",
     "text": [
      "Number of available GPUs: 1\n"
     ]
    }
   ],
   "source": [
    "import warnings\n",
    "warnings.filterwarnings(\"ignore\")\n",
    "\n",
    "import time\n",
    "import os\n",
    "import random\n",
    "from tqdm import tqdm\n",
    "import matplotlib.pyplot as plt\n",
    "import numpy as np \n",
    "import pandas as pd\n",
    "import seaborn as sns\n",
    "import matplotlib.patches as mpatches\n",
    "\n",
    "import torch\n",
    "import torch.nn as nn\n",
    "import pytorch_lightning\n",
    "from torch.utils.data import DataLoader\n",
    "import torchvision.transforms as tt\n",
    "import torch.optim as optim\n",
    "from torch.optim import lr_scheduler\n",
    "from sklearn.metrics import *\n",
    "from PIL import Image\n",
    "from imblearn.over_sampling import RandomOverSampler\n",
    "from sklearn.utils.class_weight import compute_class_weight\n",
    "\n",
    "from src.utils.utils import training, testing, EarlyStopping, get_y_true_preds\n",
    "from src.utils.LungDataset import LungSet\n",
    "from src.model.LungNetwork import LungNet\n",
    "\n",
    "import torch\n",
    "if torch.cuda.is_available():\n",
    "    num_gpus = torch.cuda.device_count()\n",
    "    print(f\"Number of available GPUs: {num_gpus}\")\n",
    "    device = torch.device(\"cuda:0\" if torch.cuda.is_available() else \"cpu\")\n",
    "    \n",
    "seed=2024\n",
    "np.random.seed(seed)\n",
    "random.seed(seed)\n",
    "torch.manual_seed(seed)\n",
    "torch.cuda.manual_seed(seed)\n",
    "torch.cuda.manual_seed_all(seed)\n",
    "torch.backends.cudnn.deterministic = True\n",
    "torch.backends.cudnn.benchmark = False"
   ]
  },
  {
   "cell_type": "code",
   "execution_count": 18,
   "metadata": {},
   "outputs": [],
   "source": [
    "#config\n",
    "prefix=\"6C\"\n",
    "num_classes = 6\n",
    "id = ''\n",
    "\n",
    "wholeslide_id = '100_A'\n",
    "pred_split_path = \"data/splits/100_A.csv\"\n",
    "pred_data_path = \"data/100_A\"\n",
    "\n",
    "baseline_path = \"src/model/tenpercent_resnet18.ckpt\"\n",
    "evaluate_model_path = f\"checkpoints/supervised/{prefix}/last_model{id}.pth\"\n",
    "BATCH_SIZE = 24\n",
    "\n",
    "save_dir = f\"predictions/supervised/{prefix}{id}/{wholeslide_id}/\"\n",
    "os.makedirs(save_dir, exist_ok=True)"
   ]
  },
  {
   "cell_type": "code",
   "execution_count": 3,
   "metadata": {},
   "outputs": [],
   "source": [
    "dpred = pd.read_csv(pred_split_path).sample(frac = 1)\n",
    "\n",
    "# create a LungSet object(torch.Datatset) with:\n",
    "# df(DataFrame): image_path, label\n",
    "# data_path(str): directory containing the images\n",
    "# transform(transforms.Compose): transformations to apply\n",
    "# __iter__: return torch(Image), label\n",
    "pred_set = LungSet(dpred, data_path=pred_data_path, file_name=True, predictions=True)\n",
    "\n",
    "# Create the torch.Dataloader\n",
    "pred_loader = DataLoader(pred_set, batch_size=BATCH_SIZE, shuffle=False)\n"
   ]
  },
  {
   "cell_type": "code",
   "execution_count": 4,
   "metadata": {},
   "outputs": [],
   "source": [
    "model = LungNet(baseline_path, num_classes)\n",
    "\n",
    "weights = torch.load(evaluate_model_path, map_location=device)\n",
    "model.load_state_dict(weights)\n",
    "model = model.cuda()"
   ]
  },
  {
   "cell_type": "code",
   "execution_count": 9,
   "metadata": {},
   "outputs": [],
   "source": [
    "def predict(data_loader, model):\n",
    "    model.eval()\n",
    "    y_true = torch.zeros(0, dtype=torch.long, device='cpu')\n",
    "    y_preds = torch.zeros(0, dtype=torch.long, device='cpu')\n",
    "    patch_order = []\n",
    "\n",
    "    with torch.no_grad():\n",
    "        for data, targets, filenames in tqdm(data_loader):   \n",
    "            data = data.cuda()\n",
    "            targets = targets.cuda()\n",
    "            scores = model(data)\n",
    "            preds = torch.softmax(scores, dim=1).argmax(dim=1).detach() \n",
    "            y_true = torch.cat([y_true, targets.view(-1).cpu()])\n",
    "            y_preds = torch.cat([y_preds, preds.view(-1).cpu()])\n",
    "            patch_order.extend(filenames)\n",
    "            del data, targets, scores, preds, filenames\n",
    "    return y_true, y_preds, patch_order"
   ]
  },
  {
   "cell_type": "code",
   "execution_count": 10,
   "metadata": {},
   "outputs": [
    {
     "name": "stderr",
     "output_type": "stream",
     "text": [
      "100%|██████████| 280/280 [02:20<00:00,  1.99it/s]\n"
     ]
    }
   ],
   "source": [
    "y_true ,y_preds, filenames = predict(pred_loader, model)"
   ]
  },
  {
   "cell_type": "code",
   "execution_count": 13,
   "metadata": {},
   "outputs": [
    {
     "data": {
      "text/plain": [
       "torch.Size([6720])"
      ]
     },
     "execution_count": 13,
     "metadata": {},
     "output_type": "execute_result"
    }
   ],
   "source": [
    "y_preds.shape"
   ]
  },
  {
   "cell_type": "code",
   "execution_count": 15,
   "metadata": {},
   "outputs": [
    {
     "data": {
      "text/plain": [
       "6720"
      ]
     },
     "execution_count": 15,
     "metadata": {},
     "output_type": "execute_result"
    }
   ],
   "source": [
    "len(filenames)"
   ]
  },
  {
   "cell_type": "code",
   "execution_count": 22,
   "metadata": {},
   "outputs": [],
   "source": [
    "def display_prediction(predictions, patch_order, save_name, title):\n",
    "    T_COLOR = (255,0,0) \t # red \n",
    "    FI_COLOR = (100, 216, 230) #light coral \t\n",
    "    NE_COLOR = (138,43,226)  #blue violet\n",
    "    TL_COLOR= (255,215,0)    #gold \n",
    "    H_COLOR = (255,192,203)\n",
    "    P_COLOR= (50,205,50)    #lime green \n",
    "    list_classes = ['P', 'H', 'Né', 'TL', 'Fi', 'T']\n",
    "    colors_pred = {0:P_COLOR, 1:H_COLOR, 2:NE_COLOR, 3:TL_COLOR, 4:FI_COLOR, 5:T_COLOR}\n",
    "    idx_to_label = {'P':0, 'H':1, 'Né':2, 'TL':3, 'Fi':4, 'T':5}\n",
    "\n",
    "    x_list = [int(patch.replace('.jpg', '').split(\"_\")[3]) for patch in patch_order]\n",
    "    y_list = [int(patch.replace('.jpg', '').split(\"_\")[5]) for patch in patch_order]\n",
    "\n",
    "\n",
    "\n",
    "    min_i = min(x_list)-15  #add 15 as a margin (optional)\n",
    "    max_i = max(x_list)+15\n",
    "    min_j = min(y_list)-15\n",
    "    max_j = max(y_list)+15\n",
    "\n",
    "    print(\"Let's display the predictions:\")\n",
    "    # visual_predictions = [np.zeros((max_j-min_j,max_i-min_i)) for _ in range(args.n_ways)]\n",
    "    global_predictions = np.full((max_j-min_j,max_i-min_i,3),255)\n",
    "    \n",
    "    plt.figure(figsize=(10,10))\n",
    "    #plt.title(\"Predictions_\"+f'_gamma_{args.gamma}_alpha_{alpha}')\n",
    "\n",
    "    for idx, patch in tqdm(enumerate(patch_order)):\n",
    "        patient, slide, _, x, _, y = patch.replace('.jpg', '').split(\"_\")\n",
    "        x, y = int(x), int(y)\n",
    "\n",
    "        global_predictions[y-min_j,x-min_i,:] = colors_pred[int(predictions[idx])]\n",
    "    \n",
    "    #plt.legend(handles=[mpatches.Patch(color=colors_pred[i], label=list_classes[i]) for i in range(6)], loc='upper right')\n",
    "    # Create a list of patches\n",
    "    patches = [mpatches.Patch(color=tuple(c/255 for c in color), label=list_classes[label]) for label, color in colors_pred.items()]\n",
    "    plt.legend(handles=patches, loc='upper right')\n",
    "    plt.title(title)\n",
    "\n",
    "    plt.imshow(global_predictions)\n",
    "    plt.savefig(save_name)"
   ]
  },
  {
   "cell_type": "code",
   "execution_count": 23,
   "metadata": {},
   "outputs": [
    {
     "name": "stdout",
     "output_type": "stream",
     "text": [
      "Let's display the predictions:\n"
     ]
    },
    {
     "name": "stderr",
     "output_type": "stream",
     "text": [
      "0it [00:00, ?it/s]"
     ]
    },
    {
     "name": "stderr",
     "output_type": "stream",
     "text": [
      "6720it [00:00, 264726.76it/s]\n"
     ]
    },
    {
     "data": {
      "image/png": "[encoded data removed]",
      "text/plain": [
       "<Figure size 1000x1000 with 1 Axes>"
      ]
     },
     "metadata": {},
     "output_type": "display_data"
    }
   ],
   "source": [
    "display_prediction(y_preds, filenames, save_name=save_dir + 'supervised_prediction.png', title='Supervised model')"
   ]
  }
 ],
 "metadata": {
  "kernelspec": {
   "display_name": "Python 3",
   "language": "python",
   "name": "python3"
  },
  "language_info": {
   "codemirror_mode": {
    "name": "ipython",
    "version": 3
   },
   "file_extension": ".py",
   "mimetype": "text/x-python",
   "name": "python",
   "nbconvert_exporter": "python",
   "pygments_lexer": "ipython3",
   "version": "3.10.12"
  }
 },
 "nbformat": 4,
 "nbformat_minor": 2
}
