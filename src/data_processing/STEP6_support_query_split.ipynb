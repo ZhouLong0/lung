{
 "cells": [
  {
   "cell_type": "code",
   "execution_count": 1,
   "metadata": {},
   "outputs": [],
   "source": [
    "import pandas as pd"
   ]
  },
  {
   "cell_type": "code",
   "execution_count": 60,
   "metadata": {},
   "outputs": [],
   "source": [
    "#config\n",
    "augmented_train_path = \"../../data/dataframes/df_train_6C_augmented.csv\"\n",
    "augmented_test_path = \"../../data/dataframes/df_test_6C_augmented.csv\"\n",
    "original_train_path = \"../../data/dataframes/df_train_6C.csv\"\n",
    "original_test_path = \"../../data/dataframes/df_test_6C.csv\"\n",
    "num_classes = 6"
   ]
  },
  {
   "cell_type": "code",
   "execution_count": 78,
   "metadata": {},
   "outputs": [],
   "source": [
    "augmented_train_df = pd.read_csv(augmented_train_path)\n",
    "augmented_test_df = pd.read_csv(augmented_test_path)\n",
    "original_train_df = pd.read_csv(original_train_path)\n",
    "original_test_df = pd.read_csv(original_test_path)\n",
    "\n",
    "df_full = pd.read_csv(\"../../data/dataframes/all_patchs_dataframe_augmented.csv\")"
   ]
  },
  {
   "cell_type": "code",
   "execution_count": 80,
   "metadata": {},
   "outputs": [
    {
     "data": {
      "text/plain": [
       "((66649, 7), (16725, 7), (16703, 7), (4604, 7), (83374, 4))"
      ]
     },
     "execution_count": 80,
     "metadata": {},
     "output_type": "execute_result"
    }
   ],
   "source": [
    "augmented_train_df.shape, augmented_test_df.shape, original_train_df.shape, original_test_df.shape, df_full.shape"
   ]
  },
  {
   "cell_type": "code",
   "execution_count": 68,
   "metadata": {},
   "outputs": [],
   "source": [
    "# select the rows where the patch name are are valid \n",
    "regex = r'\\d+_[A-Z]_row_\\d+_col_\\d+'\n",
    "\n",
    "# valid of original test -> query set\n",
    "original_test_valid_df = original_test_df[original_test_df['patch'].str.contains(regex)]\n",
    "original_test_not_valid_df = original_test_df[~original_test_df['patch'].str.contains(regex)]"
   ]
  },
  {
   "cell_type": "code",
   "execution_count": 71,
   "metadata": {},
   "outputs": [
    {
     "name": "stdout",
     "output_type": "stream",
     "text": [
      "valid entries for the support set: 1696\n",
      "not valid entries for the support set: 2908\n"
     ]
    }
   ],
   "source": [
    "print('valid entries for the support set:', original_test_valid_df.shape[0])\n",
    "print('not valid entries for the support set:', original_test_not_valid_df.shape[0])  "
   ]
  },
  {
   "cell_type": "code",
   "execution_count": 72,
   "metadata": {},
   "outputs": [],
   "source": [
    "# not valid of augmented test -> support set\n",
    "augmented_test_valid_df = augmented_test_df[augmented_test_df['patch'].str.contains(regex)]\n",
    "augmented_test_not_valid_df = augmented_test_df[~augmented_test_df['patch'].str.contains(regex)]"
   ]
  },
  {
   "cell_type": "code",
   "execution_count": 73,
   "metadata": {},
   "outputs": [
    {
     "name": "stdout",
     "output_type": "stream",
     "text": [
      "valid augmented entries for the support set: 6717\n",
      "not valid augmented entries for the support set: 10008\n"
     ]
    }
   ],
   "source": [
    "print('valid augmented entries for the support set:', augmented_test_valid_df.shape[0])\n",
    "print('not valid augmented entries for the support set:', augmented_test_not_valid_df.shape[0])  "
   ]
  },
  {
   "cell_type": "code",
   "execution_count": 88,
   "metadata": {},
   "outputs": [
    {
     "data": {
      "text/plain": [
       "1696"
      ]
     },
     "execution_count": 88,
     "metadata": {},
     "output_type": "execute_result"
    }
   ],
   "source": [
    "# query dataset = valid of original test set\n",
    "query_dataset_df = original_test_valid_df\n",
    "query_dataset_df.shape[0]"
   ]
  },
  {
   "cell_type": "code",
   "execution_count": 89,
   "metadata": {},
   "outputs": [
    {
     "data": {
      "text/plain": [
       "76657"
      ]
     },
     "execution_count": 89,
     "metadata": {},
     "output_type": "execute_result"
    }
   ],
   "source": [
    "# support dataset = augmented train set + augmented not valid test set\n",
    "support_dataset_df = pd.concat([augmented_train_df, augmented_test_not_valid_df])\n",
    "support_dataset_df.shape[0]"
   ]
  },
  {
   "cell_type": "code",
   "execution_count": 85,
   "metadata": {},
   "outputs": [
    {
     "data": {
      "text/plain": [
       "(array(['Acinaire', 'Fibrose', 'Foetal', 'Glandulaire complexe',\n",
       "        'Hémorragique', 'Lépidique', 'Micropapillaire', 'Mucineux',\n",
       "        'Normal', 'Nécrose', 'Papillaire', 'Réactionnel', 'Solide',\n",
       "        'Tissu lymphoïde'], dtype=object),\n",
       " [0, 1, 2, 3, 4, 5])"
      ]
     },
     "execution_count": 85,
     "metadata": {},
     "output_type": "execute_result"
    }
   ],
   "source": [
    "all_classes = df_full['classe'].unique()\n",
    "all_labels = [0, 1, 2, 3, 4, 5]\n",
    "all_classes, all_labels"
   ]
  },
  {
   "cell_type": "code",
   "execution_count": 86,
   "metadata": {},
   "outputs": [
    {
     "data": {
      "text/plain": [
       "['Foetal', 'Mucineux', 'Réactionnel', 'Solide']"
      ]
     },
     "execution_count": 86,
     "metadata": {},
     "output_type": "execute_result"
    }
   ],
   "source": [
    "# check if query set have some missing classes\n",
    "query_classes = query_dataset_df['classe'].unique()\n",
    "missing_classes = [classe for classe in all_classes if classe not in query_classes]\n",
    "missing_classes"
   ]
  },
  {
   "cell_type": "code",
   "execution_count": 87,
   "metadata": {},
   "outputs": [
    {
     "data": {
      "text/plain": [
       "[]"
      ]
     },
     "execution_count": 87,
     "metadata": {},
     "output_type": "execute_result"
    }
   ],
   "source": [
    "# check if query set have some missing labels\n",
    "query_labels = query_dataset_df['label'].unique()\n",
    "missing_labels = [label for label in all_labels if label not in query_labels]\n",
    "missing_labels"
   ]
  },
  {
   "cell_type": "markdown",
   "metadata": {},
   "source": [
    "## REDO THE SPLIT"
   ]
  },
  {
   "cell_type": "code",
   "execution_count": 95,
   "metadata": {},
   "outputs": [
    {
     "data": {
      "text/html": [
       "<div>\n",
       "<style scoped>\n",
       "    .dataframe tbody tr th:only-of-type {\n",
       "        vertical-align: middle;\n",
       "    }\n",
       "\n",
       "    .dataframe tbody tr th {\n",
       "        vertical-align: top;\n",
       "    }\n",
       "\n",
       "    .dataframe thead th {\n",
       "        text-align: right;\n",
       "    }\n",
       "</style>\n",
       "<table border=\"1\" class=\"dataframe\">\n",
       "  <thead>\n",
       "    <tr style=\"text-align: right;\">\n",
       "      <th></th>\n",
       "      <th>Patient</th>\n",
       "      <th>lame</th>\n",
       "      <th>patch</th>\n",
       "      <th>classe</th>\n",
       "    </tr>\n",
       "  </thead>\n",
       "  <tbody>\n",
       "    <tr>\n",
       "      <th>0</th>\n",
       "      <td>13</td>\n",
       "      <td>D</td>\n",
       "      <td>13_D_row_83_col_32(1)_HF.jpg</td>\n",
       "      <td>Acinaire</td>\n",
       "    </tr>\n",
       "    <tr>\n",
       "      <th>1</th>\n",
       "      <td>2</td>\n",
       "      <td>B</td>\n",
       "      <td>2_B_row_4_col_6_HF.jpg</td>\n",
       "      <td>Acinaire</td>\n",
       "    </tr>\n",
       "    <tr>\n",
       "      <th>2</th>\n",
       "      <td>13</td>\n",
       "      <td>D</td>\n",
       "      <td>13_D_row_87_col_44.jpg</td>\n",
       "      <td>Acinaire</td>\n",
       "    </tr>\n",
       "    <tr>\n",
       "      <th>3</th>\n",
       "      <td>4</td>\n",
       "      <td>A</td>\n",
       "      <td>A_4_A (546).jpg</td>\n",
       "      <td>Acinaire</td>\n",
       "    </tr>\n",
       "    <tr>\n",
       "      <th>4</th>\n",
       "      <td>7</td>\n",
       "      <td>A</td>\n",
       "      <td>A_7_A (237)_HF.jpg</td>\n",
       "      <td>Acinaire</td>\n",
       "    </tr>\n",
       "    <tr>\n",
       "      <th>...</th>\n",
       "      <td>...</td>\n",
       "      <td>...</td>\n",
       "      <td>...</td>\n",
       "      <td>...</td>\n",
       "    </tr>\n",
       "    <tr>\n",
       "      <th>83369</th>\n",
       "      <td>7</td>\n",
       "      <td>A</td>\n",
       "      <td>7_A_row_129_col_66_HF.jpg</td>\n",
       "      <td>Tissu lymphoïde</td>\n",
       "    </tr>\n",
       "    <tr>\n",
       "      <th>83370</th>\n",
       "      <td>192</td>\n",
       "      <td>A</td>\n",
       "      <td>192_A_row_47_col_212_rot270.jpg</td>\n",
       "      <td>Tissu lymphoïde</td>\n",
       "    </tr>\n",
       "    <tr>\n",
       "      <th>83371</th>\n",
       "      <td>32</td>\n",
       "      <td>C</td>\n",
       "      <td>32_C_row_157_col_295_rot270.jpg</td>\n",
       "      <td>Tissu lymphoïde</td>\n",
       "    </tr>\n",
       "    <tr>\n",
       "      <th>83372</th>\n",
       "      <td>4</td>\n",
       "      <td>TL</td>\n",
       "      <td>TL_4_A (1342)_rot135.jpg</td>\n",
       "      <td>Tissu lymphoïde</td>\n",
       "    </tr>\n",
       "    <tr>\n",
       "      <th>83373</th>\n",
       "      <td>32</td>\n",
       "      <td>C</td>\n",
       "      <td>32_C_row_141_col_289_rot90.jpg</td>\n",
       "      <td>Tissu lymphoïde</td>\n",
       "    </tr>\n",
       "  </tbody>\n",
       "</table>\n",
       "<p>83374 rows × 4 columns</p>\n",
       "</div>"
      ],
      "text/plain": [
       "       Patient lame                            patch           classe\n",
       "0           13    D     13_D_row_83_col_32(1)_HF.jpg         Acinaire\n",
       "1            2    B           2_B_row_4_col_6_HF.jpg         Acinaire\n",
       "2           13    D           13_D_row_87_col_44.jpg         Acinaire\n",
       "3            4    A                  A_4_A (546).jpg         Acinaire\n",
       "4            7    A               A_7_A (237)_HF.jpg         Acinaire\n",
       "...        ...  ...                              ...              ...\n",
       "83369        7    A        7_A_row_129_col_66_HF.jpg  Tissu lymphoïde\n",
       "83370      192    A  192_A_row_47_col_212_rot270.jpg  Tissu lymphoïde\n",
       "83371       32    C  32_C_row_157_col_295_rot270.jpg  Tissu lymphoïde\n",
       "83372        4   TL         TL_4_A (1342)_rot135.jpg  Tissu lymphoïde\n",
       "83373       32    C   32_C_row_141_col_289_rot90.jpg  Tissu lymphoïde\n",
       "\n",
       "[83374 rows x 4 columns]"
      ]
     },
     "execution_count": 95,
     "metadata": {},
     "output_type": "execute_result"
    }
   ],
   "source": [
    "df_full"
   ]
  },
  {
   "cell_type": "code",
   "execution_count": 104,
   "metadata": {},
   "outputs": [
    {
     "data": {
      "text/html": [
       "<div>\n",
       "<style scoped>\n",
       "    .dataframe tbody tr th:only-of-type {\n",
       "        vertical-align: middle;\n",
       "    }\n",
       "\n",
       "    .dataframe tbody tr th {\n",
       "        vertical-align: top;\n",
       "    }\n",
       "\n",
       "    .dataframe thead th {\n",
       "        text-align: right;\n",
       "    }\n",
       "</style>\n",
       "<table border=\"1\" class=\"dataframe\">\n",
       "  <thead>\n",
       "    <tr style=\"text-align: right;\">\n",
       "      <th></th>\n",
       "      <th>Patient</th>\n",
       "      <th>lame</th>\n",
       "      <th>patch</th>\n",
       "      <th>classe</th>\n",
       "    </tr>\n",
       "  </thead>\n",
       "  <tbody>\n",
       "    <tr>\n",
       "      <th>0</th>\n",
       "      <td>13</td>\n",
       "      <td>D</td>\n",
       "      <td>13_D_row_83_col_32(1)_HF.jpg</td>\n",
       "      <td>Acinaire</td>\n",
       "    </tr>\n",
       "    <tr>\n",
       "      <th>1</th>\n",
       "      <td>2</td>\n",
       "      <td>B</td>\n",
       "      <td>2_B_row_4_col_6_HF.jpg</td>\n",
       "      <td>Acinaire</td>\n",
       "    </tr>\n",
       "    <tr>\n",
       "      <th>2</th>\n",
       "      <td>13</td>\n",
       "      <td>D</td>\n",
       "      <td>13_D_row_87_col_44.jpg</td>\n",
       "      <td>Acinaire</td>\n",
       "    </tr>\n",
       "    <tr>\n",
       "      <th>8</th>\n",
       "      <td>2</td>\n",
       "      <td>B</td>\n",
       "      <td>2_B_row_27_col_41_VF.jpg</td>\n",
       "      <td>Acinaire</td>\n",
       "    </tr>\n",
       "    <tr>\n",
       "      <th>9</th>\n",
       "      <td>13</td>\n",
       "      <td>D</td>\n",
       "      <td>13_D_row_97_col_25_VF.jpg</td>\n",
       "      <td>Acinaire</td>\n",
       "    </tr>\n",
       "    <tr>\n",
       "      <th>...</th>\n",
       "      <td>...</td>\n",
       "      <td>...</td>\n",
       "      <td>...</td>\n",
       "      <td>...</td>\n",
       "    </tr>\n",
       "    <tr>\n",
       "      <th>83365</th>\n",
       "      <td>226</td>\n",
       "      <td>C</td>\n",
       "      <td>226_C_row_87_col_239_rot225.jpg</td>\n",
       "      <td>Tissu lymphoïde</td>\n",
       "    </tr>\n",
       "    <tr>\n",
       "      <th>83369</th>\n",
       "      <td>7</td>\n",
       "      <td>A</td>\n",
       "      <td>7_A_row_129_col_66_HF.jpg</td>\n",
       "      <td>Tissu lymphoïde</td>\n",
       "    </tr>\n",
       "    <tr>\n",
       "      <th>83370</th>\n",
       "      <td>192</td>\n",
       "      <td>A</td>\n",
       "      <td>192_A_row_47_col_212_rot270.jpg</td>\n",
       "      <td>Tissu lymphoïde</td>\n",
       "    </tr>\n",
       "    <tr>\n",
       "      <th>83371</th>\n",
       "      <td>32</td>\n",
       "      <td>C</td>\n",
       "      <td>32_C_row_157_col_295_rot270.jpg</td>\n",
       "      <td>Tissu lymphoïde</td>\n",
       "    </tr>\n",
       "    <tr>\n",
       "      <th>83373</th>\n",
       "      <td>32</td>\n",
       "      <td>C</td>\n",
       "      <td>32_C_row_141_col_289_rot90.jpg</td>\n",
       "      <td>Tissu lymphoïde</td>\n",
       "    </tr>\n",
       "  </tbody>\n",
       "</table>\n",
       "<p>17008 rows × 4 columns</p>\n",
       "</div>"
      ],
      "text/plain": [
       "       Patient lame                            patch           classe\n",
       "0           13    D     13_D_row_83_col_32(1)_HF.jpg         Acinaire\n",
       "1            2    B           2_B_row_4_col_6_HF.jpg         Acinaire\n",
       "2           13    D           13_D_row_87_col_44.jpg         Acinaire\n",
       "8            2    B         2_B_row_27_col_41_VF.jpg         Acinaire\n",
       "9           13    D        13_D_row_97_col_25_VF.jpg         Acinaire\n",
       "...        ...  ...                              ...              ...\n",
       "83365      226    C  226_C_row_87_col_239_rot225.jpg  Tissu lymphoïde\n",
       "83369        7    A        7_A_row_129_col_66_HF.jpg  Tissu lymphoïde\n",
       "83370      192    A  192_A_row_47_col_212_rot270.jpg  Tissu lymphoïde\n",
       "83371       32    C  32_C_row_157_col_295_rot270.jpg  Tissu lymphoïde\n",
       "83373       32    C   32_C_row_141_col_289_rot90.jpg  Tissu lymphoïde\n",
       "\n",
       "[17008 rows x 4 columns]"
      ]
     },
     "execution_count": 104,
     "metadata": {},
     "output_type": "execute_result"
    }
   ],
   "source": [
    "df_full_valid = df_full[df_full['patch'].str.contains(regex)]\n",
    "df_full_valid"
   ]
  },
  {
   "cell_type": "code",
   "execution_count": 90,
   "metadata": {},
   "outputs": [
    {
     "data": {
      "text/plain": [
       "classe\n",
       "Réactionnel             18057\n",
       "Fibrose                 13866\n",
       "Nécrose                  9228\n",
       "Hémorragique             6165\n",
       "Solide                   5466\n",
       "Normal                   5238\n",
       "Tissu lymphoïde          4239\n",
       "Lépidique                4095\n",
       "Glandulaire complexe     4005\n",
       "Papillaire               3450\n",
       "Acinaire                 3396\n",
       "Mucineux                 2466\n",
       "Foetal                   2425\n",
       "Micropapillaire          1278\n",
       "Name: count, dtype: int64"
      ]
     },
     "execution_count": 90,
     "metadata": {},
     "output_type": "execute_result"
    }
   ],
   "source": [
    "df_full['classe'].value_counts()"
   ]
  },
  {
   "cell_type": "code",
   "execution_count": 110,
   "metadata": {},
   "outputs": [
    {
     "name": "stdout",
     "output_type": "stream",
     "text": [
      "all patients: [2, 3, 4, 5, 6, 7, 9, 13, 14, 16, 17, 22, 23, 32, 40, 44, 58, 72, 114, 133, 169, 192, 226, 230, 231, 247, 398]\n",
      "patients with valid data: [2, 7, 13, 17, 32, 40, 44, 58, 133, 192, 226]\n"
     ]
    }
   ],
   "source": [
    "# print the valid patients\n",
    "all_patients = sorted(df_full['Patient'].unique())\n",
    "valid_patients = sorted(df_full_valid['Patient'].unique())\n",
    "print('all patients:', all_patients)\n",
    "print('patients with valid data:', valid_patients)"
   ]
  },
  {
   "cell_type": "code",
   "execution_count": 99,
   "metadata": {},
   "outputs": [
    {
     "data": {
      "text/html": [
       "<div>\n",
       "<style scoped>\n",
       "    .dataframe tbody tr th:only-of-type {\n",
       "        vertical-align: middle;\n",
       "    }\n",
       "\n",
       "    .dataframe tbody tr th {\n",
       "        vertical-align: top;\n",
       "    }\n",
       "\n",
       "    .dataframe thead th {\n",
       "        text-align: right;\n",
       "    }\n",
       "</style>\n",
       "<table border=\"1\" class=\"dataframe\">\n",
       "  <thead>\n",
       "    <tr style=\"text-align: right;\">\n",
       "      <th></th>\n",
       "      <th>Patient</th>\n",
       "      <th>lame</th>\n",
       "      <th>patch</th>\n",
       "      <th>classe</th>\n",
       "    </tr>\n",
       "  </thead>\n",
       "  <tbody>\n",
       "    <tr>\n",
       "      <th>17262</th>\n",
       "      <td>192</td>\n",
       "      <td>A</td>\n",
       "      <td>192_A_row_49_col_252_HF.jpg</td>\n",
       "      <td>Foetal</td>\n",
       "    </tr>\n",
       "    <tr>\n",
       "      <th>17263</th>\n",
       "      <td>169</td>\n",
       "      <td>Fo</td>\n",
       "      <td>Fo_169_A (136)_VF.jpg</td>\n",
       "      <td>Foetal</td>\n",
       "    </tr>\n",
       "    <tr>\n",
       "      <th>17264</th>\n",
       "      <td>192</td>\n",
       "      <td>A</td>\n",
       "      <td>192_A_row_51_col_246_rot90.jpg</td>\n",
       "      <td>Foetal</td>\n",
       "    </tr>\n",
       "    <tr>\n",
       "      <th>17265</th>\n",
       "      <td>169</td>\n",
       "      <td>Fo</td>\n",
       "      <td>Fo_169_A (23).jpg</td>\n",
       "      <td>Foetal</td>\n",
       "    </tr>\n",
       "    <tr>\n",
       "      <th>17266</th>\n",
       "      <td>169</td>\n",
       "      <td>Fo</td>\n",
       "      <td>Fo_169_A (20)_HF.jpg</td>\n",
       "      <td>Foetal</td>\n",
       "    </tr>\n",
       "    <tr>\n",
       "      <th>...</th>\n",
       "      <td>...</td>\n",
       "      <td>...</td>\n",
       "      <td>...</td>\n",
       "      <td>...</td>\n",
       "    </tr>\n",
       "    <tr>\n",
       "      <th>19682</th>\n",
       "      <td>192</td>\n",
       "      <td>A</td>\n",
       "      <td>192_A_row_62_col_250_VF.jpg</td>\n",
       "      <td>Foetal</td>\n",
       "    </tr>\n",
       "    <tr>\n",
       "      <th>19683</th>\n",
       "      <td>192</td>\n",
       "      <td>A</td>\n",
       "      <td>192_A_row_50_col_249.jpg</td>\n",
       "      <td>Foetal</td>\n",
       "    </tr>\n",
       "    <tr>\n",
       "      <th>19684</th>\n",
       "      <td>192</td>\n",
       "      <td>A</td>\n",
       "      <td>192_A_row_50_col_249_HF.jpg</td>\n",
       "      <td>Foetal</td>\n",
       "    </tr>\n",
       "    <tr>\n",
       "      <th>19685</th>\n",
       "      <td>192</td>\n",
       "      <td>A</td>\n",
       "      <td>192_A_row_57_col_291.jpg</td>\n",
       "      <td>Foetal</td>\n",
       "    </tr>\n",
       "    <tr>\n",
       "      <th>19686</th>\n",
       "      <td>192</td>\n",
       "      <td>A</td>\n",
       "      <td>192_A_row_77_col_256_rot45.jpg</td>\n",
       "      <td>Foetal</td>\n",
       "    </tr>\n",
       "  </tbody>\n",
       "</table>\n",
       "<p>2425 rows × 4 columns</p>\n",
       "</div>"
      ],
      "text/plain": [
       "       Patient lame                           patch  classe\n",
       "17262      192    A     192_A_row_49_col_252_HF.jpg  Foetal\n",
       "17263      169   Fo           Fo_169_A (136)_VF.jpg  Foetal\n",
       "17264      192    A  192_A_row_51_col_246_rot90.jpg  Foetal\n",
       "17265      169   Fo               Fo_169_A (23).jpg  Foetal\n",
       "17266      169   Fo            Fo_169_A (20)_HF.jpg  Foetal\n",
       "...        ...  ...                             ...     ...\n",
       "19682      192    A     192_A_row_62_col_250_VF.jpg  Foetal\n",
       "19683      192    A        192_A_row_50_col_249.jpg  Foetal\n",
       "19684      192    A     192_A_row_50_col_249_HF.jpg  Foetal\n",
       "19685      192    A        192_A_row_57_col_291.jpg  Foetal\n",
       "19686      192    A  192_A_row_77_col_256_rot45.jpg  Foetal\n",
       "\n",
       "[2425 rows x 4 columns]"
      ]
     },
     "execution_count": 99,
     "metadata": {},
     "output_type": "execute_result"
    }
   ],
   "source": [
    "df_full[df_full['classe'] == 'Foetal']"
   ]
  },
  {
   "cell_type": "code",
   "execution_count": 100,
   "metadata": {},
   "outputs": [
    {
     "data": {
      "text/plain": [
       "array([192, 169,   5])"
      ]
     },
     "execution_count": 100,
     "metadata": {},
     "output_type": "execute_result"
    }
   ],
   "source": [
    "df_full[df_full['classe'] == 'Foetal']['Patient'].unique()"
   ]
  },
  {
   "cell_type": "code",
   "execution_count": 102,
   "metadata": {},
   "outputs": [
    {
     "data": {
      "text/html": [
       "<div>\n",
       "<style scoped>\n",
       "    .dataframe tbody tr th:only-of-type {\n",
       "        vertical-align: middle;\n",
       "    }\n",
       "\n",
       "    .dataframe tbody tr th {\n",
       "        vertical-align: top;\n",
       "    }\n",
       "\n",
       "    .dataframe thead th {\n",
       "        text-align: right;\n",
       "    }\n",
       "</style>\n",
       "<table border=\"1\" class=\"dataframe\">\n",
       "  <thead>\n",
       "    <tr style=\"text-align: right;\">\n",
       "      <th></th>\n",
       "      <th>Patient</th>\n",
       "      <th>lame</th>\n",
       "      <th>patch</th>\n",
       "      <th>classe</th>\n",
       "    </tr>\n",
       "  </thead>\n",
       "  <tbody>\n",
       "    <tr>\n",
       "      <th>49</th>\n",
       "      <td>5</td>\n",
       "      <td>A</td>\n",
       "      <td>A_5_A (1051)_HF.jpg</td>\n",
       "      <td>Acinaire</td>\n",
       "    </tr>\n",
       "    <tr>\n",
       "      <th>74</th>\n",
       "      <td>5</td>\n",
       "      <td>A</td>\n",
       "      <td>A_5_A (692)_HF.jpg</td>\n",
       "      <td>Acinaire</td>\n",
       "    </tr>\n",
       "    <tr>\n",
       "      <th>118</th>\n",
       "      <td>5</td>\n",
       "      <td>A</td>\n",
       "      <td>A_5_A (1084)_HF.jpg</td>\n",
       "      <td>Acinaire</td>\n",
       "    </tr>\n",
       "    <tr>\n",
       "      <th>186</th>\n",
       "      <td>5</td>\n",
       "      <td>A</td>\n",
       "      <td>A_5_A (484)_VF.jpg</td>\n",
       "      <td>Acinaire</td>\n",
       "    </tr>\n",
       "    <tr>\n",
       "      <th>191</th>\n",
       "      <td>5</td>\n",
       "      <td>A</td>\n",
       "      <td>A_5_A (448)_HF.jpg</td>\n",
       "      <td>Acinaire</td>\n",
       "    </tr>\n",
       "    <tr>\n",
       "      <th>...</th>\n",
       "      <td>...</td>\n",
       "      <td>...</td>\n",
       "      <td>...</td>\n",
       "      <td>...</td>\n",
       "    </tr>\n",
       "    <tr>\n",
       "      <th>82024</th>\n",
       "      <td>5</td>\n",
       "      <td>TL</td>\n",
       "      <td>TL_5_A (1554)_rot315.jpg</td>\n",
       "      <td>Tissu lymphoïde</td>\n",
       "    </tr>\n",
       "    <tr>\n",
       "      <th>82497</th>\n",
       "      <td>5</td>\n",
       "      <td>TL</td>\n",
       "      <td>TL_5_A (1510)_rot315.jpg</td>\n",
       "      <td>Tissu lymphoïde</td>\n",
       "    </tr>\n",
       "    <tr>\n",
       "      <th>82941</th>\n",
       "      <td>5</td>\n",
       "      <td>TL</td>\n",
       "      <td>TL_5_A (1554)_rot270.jpg</td>\n",
       "      <td>Tissu lymphoïde</td>\n",
       "    </tr>\n",
       "    <tr>\n",
       "      <th>83166</th>\n",
       "      <td>5</td>\n",
       "      <td>TL</td>\n",
       "      <td>TL_5_A (1510).jpg</td>\n",
       "      <td>Tissu lymphoïde</td>\n",
       "    </tr>\n",
       "    <tr>\n",
       "      <th>83260</th>\n",
       "      <td>5</td>\n",
       "      <td>TL</td>\n",
       "      <td>TL_5_A (1555)_rot225.jpg</td>\n",
       "      <td>Tissu lymphoïde</td>\n",
       "    </tr>\n",
       "  </tbody>\n",
       "</table>\n",
       "<p>366 rows × 4 columns</p>\n",
       "</div>"
      ],
      "text/plain": [
       "       Patient lame                     patch           classe\n",
       "49           5    A       A_5_A (1051)_HF.jpg         Acinaire\n",
       "74           5    A        A_5_A (692)_HF.jpg         Acinaire\n",
       "118          5    A       A_5_A (1084)_HF.jpg         Acinaire\n",
       "186          5    A        A_5_A (484)_VF.jpg         Acinaire\n",
       "191          5    A        A_5_A (448)_HF.jpg         Acinaire\n",
       "...        ...  ...                       ...              ...\n",
       "82024        5   TL  TL_5_A (1554)_rot315.jpg  Tissu lymphoïde\n",
       "82497        5   TL  TL_5_A (1510)_rot315.jpg  Tissu lymphoïde\n",
       "82941        5   TL  TL_5_A (1554)_rot270.jpg  Tissu lymphoïde\n",
       "83166        5   TL         TL_5_A (1510).jpg  Tissu lymphoïde\n",
       "83260        5   TL  TL_5_A (1555)_rot225.jpg  Tissu lymphoïde\n",
       "\n",
       "[366 rows x 4 columns]"
      ]
     },
     "execution_count": 102,
     "metadata": {},
     "output_type": "execute_result"
    }
   ],
   "source": [
    "df_full[df_full['Patient'] == 5]"
   ]
  },
  {
   "cell_type": "markdown",
   "metadata": {},
   "source": [
    "## Repeat for the training set"
   ]
  },
  {
   "cell_type": "code",
   "execution_count": 37,
   "metadata": {},
   "outputs": [
    {
     "name": "stdout",
     "output_type": "stream",
     "text": [
      "valid patches: 10291, invalid patches: 56358\n"
     ]
    }
   ],
   "source": [
    "# select the rows where the patch name are are valid \n",
    "regex = r'\\d+_[A-Z]_row_\\d+_col_\\d+'\n",
    "train_df_valid = train_df[train_df['patch'].str.contains(regex)]\n",
    "train_df_not_valid = train_df[~train_df['patch'].str.contains(regex)]\n",
    "print(f'valid patches: {len(train_df_valid)}, invalid patches: {len(train_df_not_valid)}')"
   ]
  },
  {
   "cell_type": "code",
   "execution_count": 38,
   "metadata": {},
   "outputs": [
    {
     "data": {
      "text/plain": [
       "(classe\n",
       " Réactionnel             12777\n",
       " Fibrose                 12390\n",
       " Nécrose                  8994\n",
       " Solide                   5466\n",
       " Normal                   4857\n",
       " Hémorragique             3960\n",
       " Glandulaire complexe     3705\n",
       " Tissu lymphoïde          3366\n",
       " Mucineux                 2466\n",
       " Foetal                   2410\n",
       " Acinaire                 2205\n",
       " Lépidique                1833\n",
       " Micropapillaire          1170\n",
       " Papillaire               1050\n",
       " Name: count, dtype: int64,\n",
       " classe\n",
       " Hémorragique            3204\n",
       " Tissu lymphoïde         2034\n",
       " Lépidique               1371\n",
       " Acinaire                 936\n",
       " Mucineux                 732\n",
       " Foetal                   685\n",
       " Micropapillaire          657\n",
       " Normal                   525\n",
       " Papillaire                87\n",
       " Glandulaire complexe      48\n",
       " Fibrose                   12\n",
       " Name: count, dtype: int64)"
      ]
     },
     "execution_count": 38,
     "metadata": {},
     "output_type": "execute_result"
    }
   ],
   "source": [
    "train_df['classe'].value_counts(), train_df_valid['classe'].value_counts()"
   ]
  },
  {
   "cell_type": "code",
   "execution_count": 39,
   "metadata": {},
   "outputs": [
    {
     "data": {
      "text/plain": [
       "Index(['Nécrose', 'Réactionnel', 'Solide'], dtype='object', name='classe')"
      ]
     },
     "execution_count": 39,
     "metadata": {},
     "output_type": "execute_result"
    }
   ],
   "source": [
    "# remove all items in the first array that are also in the second array\n",
    "missing_valid_classes_train = train_df['classe'].value_counts().index.difference(train_df_valid['classe'].value_counts().index)\n",
    "missing_valid_classes_train"
   ]
  },
  {
   "cell_type": "markdown",
   "metadata": {},
   "source": [
    "## Repeat for whole dataset"
   ]
  },
  {
   "cell_type": "code",
   "execution_count": 41,
   "metadata": {},
   "outputs": [],
   "source": [
    "df_full = pd.read_csv(\"../../data/dataframes/all_patchs_dataframe_augmented.csv\")\n",
    "df_full_valid = df_full[df_full['patch'].str.contains(regex)]"
   ]
  },
  {
   "cell_type": "code",
   "execution_count": 42,
   "metadata": {},
   "outputs": [
    {
     "name": "stdout",
     "output_type": "stream",
     "text": [
      "valid patches: 17008, invalid patches: 66366\n"
     ]
    }
   ],
   "source": [
    "print(f'valid patches: {len(df_full_valid)}, invalid patches: {len(df_full) - len(df_full_valid)}')"
   ]
  },
  {
   "cell_type": "code",
   "execution_count": 44,
   "metadata": {},
   "outputs": [
    {
     "data": {
      "text/plain": [
       "Index(['Réactionnel', 'Solide'], dtype='object', name='classe')"
      ]
     },
     "execution_count": 44,
     "metadata": {},
     "output_type": "execute_result"
    }
   ],
   "source": [
    "missing_valid_classes = df_full['classe'].value_counts().index.difference(df_full_valid['classe'].value_counts().index)\n",
    "missing_valid_classes"
   ]
  },
  {
   "cell_type": "markdown",
   "metadata": {},
   "source": [
    "Combined "
   ]
  },
  {
   "cell_type": "code",
   "execution_count": 48,
   "metadata": {},
   "outputs": [
    {
     "data": {
      "text/html": [
       "<div>\n",
       "<style scoped>\n",
       "    .dataframe tbody tr th:only-of-type {\n",
       "        vertical-align: middle;\n",
       "    }\n",
       "\n",
       "    .dataframe tbody tr th {\n",
       "        vertical-align: top;\n",
       "    }\n",
       "\n",
       "    .dataframe thead th {\n",
       "        text-align: right;\n",
       "    }\n",
       "</style>\n",
       "<table border=\"1\" class=\"dataframe\">\n",
       "  <thead>\n",
       "    <tr style=\"text-align: right;\">\n",
       "      <th></th>\n",
       "      <th>Patient</th>\n",
       "      <th>lame</th>\n",
       "      <th>patch</th>\n",
       "      <th>classe</th>\n",
       "      <th>label</th>\n",
       "      <th>dataset</th>\n",
       "      <th>TetraClass</th>\n",
       "    </tr>\n",
       "  </thead>\n",
       "  <tbody>\n",
       "    <tr>\n",
       "      <th>0</th>\n",
       "      <td>7</td>\n",
       "      <td>R</td>\n",
       "      <td>R_7_A (3844).jpg</td>\n",
       "      <td>Réactionnel</td>\n",
       "      <td>0</td>\n",
       "      <td>train</td>\n",
       "      <td>P</td>\n",
       "    </tr>\n",
       "    <tr>\n",
       "      <th>1</th>\n",
       "      <td>231</td>\n",
       "      <td>R</td>\n",
       "      <td>R_231_A (11)_VF.jpg</td>\n",
       "      <td>Réactionnel</td>\n",
       "      <td>0</td>\n",
       "      <td>train</td>\n",
       "      <td>P</td>\n",
       "    </tr>\n",
       "    <tr>\n",
       "      <th>2</th>\n",
       "      <td>231</td>\n",
       "      <td>R</td>\n",
       "      <td>R_231_A (16)_VF.jpg</td>\n",
       "      <td>Réactionnel</td>\n",
       "      <td>0</td>\n",
       "      <td>train</td>\n",
       "      <td>P</td>\n",
       "    </tr>\n",
       "    <tr>\n",
       "      <th>3</th>\n",
       "      <td>231</td>\n",
       "      <td>R</td>\n",
       "      <td>R_231_A (263).jpg</td>\n",
       "      <td>Réactionnel</td>\n",
       "      <td>0</td>\n",
       "      <td>train</td>\n",
       "      <td>P</td>\n",
       "    </tr>\n",
       "    <tr>\n",
       "      <th>4</th>\n",
       "      <td>7</td>\n",
       "      <td>R</td>\n",
       "      <td>R_7_A (2525)_VF.jpg</td>\n",
       "      <td>Réactionnel</td>\n",
       "      <td>0</td>\n",
       "      <td>train</td>\n",
       "      <td>P</td>\n",
       "    </tr>\n",
       "    <tr>\n",
       "      <th>...</th>\n",
       "      <td>...</td>\n",
       "      <td>...</td>\n",
       "      <td>...</td>\n",
       "      <td>...</td>\n",
       "      <td>...</td>\n",
       "      <td>...</td>\n",
       "      <td>...</td>\n",
       "    </tr>\n",
       "    <tr>\n",
       "      <th>16720</th>\n",
       "      <td>133</td>\n",
       "      <td>A</td>\n",
       "      <td>133_A_row_374_col_243_HF.jpg</td>\n",
       "      <td>Lépidique</td>\n",
       "      <td>5</td>\n",
       "      <td>test</td>\n",
       "      <td>T</td>\n",
       "    </tr>\n",
       "    <tr>\n",
       "      <th>16721</th>\n",
       "      <td>133</td>\n",
       "      <td>B</td>\n",
       "      <td>133_B_row_57_col_97_VF.jpg</td>\n",
       "      <td>Lépidique</td>\n",
       "      <td>5</td>\n",
       "      <td>test</td>\n",
       "      <td>T</td>\n",
       "    </tr>\n",
       "    <tr>\n",
       "      <th>16722</th>\n",
       "      <td>133</td>\n",
       "      <td>A</td>\n",
       "      <td>133_A_row_377_col_240_HF.jpg</td>\n",
       "      <td>Lépidique</td>\n",
       "      <td>5</td>\n",
       "      <td>test</td>\n",
       "      <td>T</td>\n",
       "    </tr>\n",
       "    <tr>\n",
       "      <th>16723</th>\n",
       "      <td>133</td>\n",
       "      <td>A</td>\n",
       "      <td>133_A_row_381_col_209.jpg</td>\n",
       "      <td>Lépidique</td>\n",
       "      <td>5</td>\n",
       "      <td>test</td>\n",
       "      <td>T</td>\n",
       "    </tr>\n",
       "    <tr>\n",
       "      <th>16724</th>\n",
       "      <td>133</td>\n",
       "      <td>B</td>\n",
       "      <td>133_B_row_39_col_92 (1)_HF.jpg</td>\n",
       "      <td>Lépidique</td>\n",
       "      <td>5</td>\n",
       "      <td>test</td>\n",
       "      <td>T</td>\n",
       "    </tr>\n",
       "  </tbody>\n",
       "</table>\n",
       "<p>83374 rows × 7 columns</p>\n",
       "</div>"
      ],
      "text/plain": [
       "       Patient lame                           patch       classe  label   \n",
       "0            7    R                R_7_A (3844).jpg  Réactionnel      0  \\\n",
       "1          231    R             R_231_A (11)_VF.jpg  Réactionnel      0   \n",
       "2          231    R             R_231_A (16)_VF.jpg  Réactionnel      0   \n",
       "3          231    R               R_231_A (263).jpg  Réactionnel      0   \n",
       "4            7    R             R_7_A (2525)_VF.jpg  Réactionnel      0   \n",
       "...        ...  ...                             ...          ...    ...   \n",
       "16720      133    A    133_A_row_374_col_243_HF.jpg    Lépidique      5   \n",
       "16721      133    B      133_B_row_57_col_97_VF.jpg    Lépidique      5   \n",
       "16722      133    A    133_A_row_377_col_240_HF.jpg    Lépidique      5   \n",
       "16723      133    A       133_A_row_381_col_209.jpg    Lépidique      5   \n",
       "16724      133    B  133_B_row_39_col_92 (1)_HF.jpg    Lépidique      5   \n",
       "\n",
       "      dataset TetraClass  \n",
       "0       train          P  \n",
       "1       train          P  \n",
       "2       train          P  \n",
       "3       train          P  \n",
       "4       train          P  \n",
       "...       ...        ...  \n",
       "16720    test          T  \n",
       "16721    test          T  \n",
       "16722    test          T  \n",
       "16723    test          T  \n",
       "16724    test          T  \n",
       "\n",
       "[83374 rows x 7 columns]"
      ]
     },
     "execution_count": 48,
     "metadata": {},
     "output_type": "execute_result"
    }
   ],
   "source": [
    "df_train_test = pd.concat([train_df, test_df])\n",
    "df_train_test_valid = df_train_test[df_train_test['patch'].str.contains(regex)]\n",
    "df_train_test"
   ]
  },
  {
   "cell_type": "code",
   "execution_count": 49,
   "metadata": {},
   "outputs": [
    {
     "data": {
      "text/html": [
       "<div>\n",
       "<style scoped>\n",
       "    .dataframe tbody tr th:only-of-type {\n",
       "        vertical-align: middle;\n",
       "    }\n",
       "\n",
       "    .dataframe tbody tr th {\n",
       "        vertical-align: top;\n",
       "    }\n",
       "\n",
       "    .dataframe thead th {\n",
       "        text-align: right;\n",
       "    }\n",
       "</style>\n",
       "<table border=\"1\" class=\"dataframe\">\n",
       "  <thead>\n",
       "    <tr style=\"text-align: right;\">\n",
       "      <th></th>\n",
       "      <th>Patient</th>\n",
       "      <th>lame</th>\n",
       "      <th>patch</th>\n",
       "      <th>classe</th>\n",
       "    </tr>\n",
       "  </thead>\n",
       "  <tbody>\n",
       "    <tr>\n",
       "      <th>0</th>\n",
       "      <td>13</td>\n",
       "      <td>D</td>\n",
       "      <td>13_D_row_83_col_32(1)_HF.jpg</td>\n",
       "      <td>Acinaire</td>\n",
       "    </tr>\n",
       "    <tr>\n",
       "      <th>1</th>\n",
       "      <td>2</td>\n",
       "      <td>B</td>\n",
       "      <td>2_B_row_4_col_6_HF.jpg</td>\n",
       "      <td>Acinaire</td>\n",
       "    </tr>\n",
       "    <tr>\n",
       "      <th>2</th>\n",
       "      <td>13</td>\n",
       "      <td>D</td>\n",
       "      <td>13_D_row_87_col_44.jpg</td>\n",
       "      <td>Acinaire</td>\n",
       "    </tr>\n",
       "    <tr>\n",
       "      <th>8</th>\n",
       "      <td>2</td>\n",
       "      <td>B</td>\n",
       "      <td>2_B_row_27_col_41_VF.jpg</td>\n",
       "      <td>Acinaire</td>\n",
       "    </tr>\n",
       "    <tr>\n",
       "      <th>9</th>\n",
       "      <td>13</td>\n",
       "      <td>D</td>\n",
       "      <td>13_D_row_97_col_25_VF.jpg</td>\n",
       "      <td>Acinaire</td>\n",
       "    </tr>\n",
       "    <tr>\n",
       "      <th>...</th>\n",
       "      <td>...</td>\n",
       "      <td>...</td>\n",
       "      <td>...</td>\n",
       "      <td>...</td>\n",
       "    </tr>\n",
       "    <tr>\n",
       "      <th>83365</th>\n",
       "      <td>226</td>\n",
       "      <td>C</td>\n",
       "      <td>226_C_row_87_col_239_rot225.jpg</td>\n",
       "      <td>Tissu lymphoïde</td>\n",
       "    </tr>\n",
       "    <tr>\n",
       "      <th>83369</th>\n",
       "      <td>7</td>\n",
       "      <td>A</td>\n",
       "      <td>7_A_row_129_col_66_HF.jpg</td>\n",
       "      <td>Tissu lymphoïde</td>\n",
       "    </tr>\n",
       "    <tr>\n",
       "      <th>83370</th>\n",
       "      <td>192</td>\n",
       "      <td>A</td>\n",
       "      <td>192_A_row_47_col_212_rot270.jpg</td>\n",
       "      <td>Tissu lymphoïde</td>\n",
       "    </tr>\n",
       "    <tr>\n",
       "      <th>83371</th>\n",
       "      <td>32</td>\n",
       "      <td>C</td>\n",
       "      <td>32_C_row_157_col_295_rot270.jpg</td>\n",
       "      <td>Tissu lymphoïde</td>\n",
       "    </tr>\n",
       "    <tr>\n",
       "      <th>83373</th>\n",
       "      <td>32</td>\n",
       "      <td>C</td>\n",
       "      <td>32_C_row_141_col_289_rot90.jpg</td>\n",
       "      <td>Tissu lymphoïde</td>\n",
       "    </tr>\n",
       "  </tbody>\n",
       "</table>\n",
       "<p>17008 rows × 4 columns</p>\n",
       "</div>"
      ],
      "text/plain": [
       "       Patient lame                            patch           classe\n",
       "0           13    D     13_D_row_83_col_32(1)_HF.jpg         Acinaire\n",
       "1            2    B           2_B_row_4_col_6_HF.jpg         Acinaire\n",
       "2           13    D           13_D_row_87_col_44.jpg         Acinaire\n",
       "8            2    B         2_B_row_27_col_41_VF.jpg         Acinaire\n",
       "9           13    D        13_D_row_97_col_25_VF.jpg         Acinaire\n",
       "...        ...  ...                              ...              ...\n",
       "83365      226    C  226_C_row_87_col_239_rot225.jpg  Tissu lymphoïde\n",
       "83369        7    A        7_A_row_129_col_66_HF.jpg  Tissu lymphoïde\n",
       "83370      192    A  192_A_row_47_col_212_rot270.jpg  Tissu lymphoïde\n",
       "83371       32    C  32_C_row_157_col_295_rot270.jpg  Tissu lymphoïde\n",
       "83373       32    C   32_C_row_141_col_289_rot90.jpg  Tissu lymphoïde\n",
       "\n",
       "[17008 rows x 4 columns]"
      ]
     },
     "execution_count": 49,
     "metadata": {},
     "output_type": "execute_result"
    }
   ],
   "source": [
    "df_full_valid"
   ]
  },
  {
   "cell_type": "code",
   "execution_count": 51,
   "metadata": {},
   "outputs": [
    {
     "data": {
      "text/plain": [
       "Index([], dtype='int64', name='label')"
      ]
     },
     "execution_count": 51,
     "metadata": {},
     "output_type": "execute_result"
    }
   ],
   "source": [
    "missing_full_labels = df_train_test['label'].value_counts().index.difference(df_train_test_valid['label'].value_counts().index)\n",
    "missing_full_labels"
   ]
  }
 ],
 "metadata": {
  "kernelspec": {
   "display_name": "Python 3",
   "language": "python",
   "name": "python3"
  },
  "language_info": {
   "codemirror_mode": {
    "name": "ipython",
    "version": 3
   },
   "file_extension": ".py",
   "mimetype": "text/x-python",
   "name": "python",
   "nbconvert_exporter": "python",
   "pygments_lexer": "ipython3",
   "version": "3.10.12"
  }
 },
 "nbformat": 4,
 "nbformat_minor": 2
}
