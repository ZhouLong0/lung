{
 "cells": [
  {
   "cell_type": "code",
   "execution_count": 1,
   "metadata": {},
   "outputs": [],
   "source": [
    "import os\n",
    "import pandas as pd "
   ]
  },
  {
   "cell_type": "code",
   "execution_count": 2,
   "metadata": {},
   "outputs": [
    {
     "name": "stdout",
     "output_type": "stream",
     "text": [
      "14 ['Acinaire', 'Fibrose', 'Foetal', 'Glandulaire complexe', 'Hémorragique', 'Lépidique', 'Micropapillaire', 'Mucineux', 'Normal', 'Nécrose', 'Papillaire', 'Réactionnel', 'Solide', 'Tissu lymphoïde']\n"
     ]
    }
   ],
   "source": [
    "data_path = \"../../dataset/data\"\n",
    "\n",
    "classes = os.listdir(data_path)\n",
    "classes.sort()\n",
    "print(len(classes), classes)"
   ]
  },
  {
   "cell_type": "code",
   "execution_count": 6,
   "metadata": {},
   "outputs": [
    {
     "name": "stdout",
     "output_type": "stream",
     "text": [
      "L_16_B .jpg\n",
      "TL_6_Z.jpg\n",
      "Patients (27) [ 13   4 247   7   3  72 169   2   6   5  16 398  23  17   9 231 192 230\n",
      "  32 226 133  44  40  58  14 114  22]\n"
     ]
    },
    {
     "data": {
      "text/html": [
       "<div>\n",
       "<style scoped>\n",
       "    .dataframe tbody tr th:only-of-type {\n",
       "        vertical-align: middle;\n",
       "    }\n",
       "\n",
       "    .dataframe tbody tr th {\n",
       "        vertical-align: top;\n",
       "    }\n",
       "\n",
       "    .dataframe thead th {\n",
       "        text-align: right;\n",
       "    }\n",
       "</style>\n",
       "<table border=\"1\" class=\"dataframe\">\n",
       "  <thead>\n",
       "    <tr style=\"text-align: right;\">\n",
       "      <th></th>\n",
       "      <th>Patient</th>\n",
       "      <th>lame</th>\n",
       "      <th>patch</th>\n",
       "      <th>classe</th>\n",
       "    </tr>\n",
       "  </thead>\n",
       "  <tbody>\n",
       "    <tr>\n",
       "      <th>0</th>\n",
       "      <td>13</td>\n",
       "      <td>D</td>\n",
       "      <td>13_D_row_87_col_44.jpg</td>\n",
       "      <td>Acinaire</td>\n",
       "    </tr>\n",
       "    <tr>\n",
       "      <th>1</th>\n",
       "      <td>4</td>\n",
       "      <td>A</td>\n",
       "      <td>A_4_A (546).jpg</td>\n",
       "      <td>Acinaire</td>\n",
       "    </tr>\n",
       "    <tr>\n",
       "      <th>2</th>\n",
       "      <td>4</td>\n",
       "      <td>A</td>\n",
       "      <td>A_4_A (782).jpg</td>\n",
       "      <td>Acinaire</td>\n",
       "    </tr>\n",
       "    <tr>\n",
       "      <th>3</th>\n",
       "      <td>247</td>\n",
       "      <td>A</td>\n",
       "      <td>A_247_A (2940).jpg</td>\n",
       "      <td>Acinaire</td>\n",
       "    </tr>\n",
       "    <tr>\n",
       "      <th>4</th>\n",
       "      <td>13</td>\n",
       "      <td>D</td>\n",
       "      <td>13_D_row_131_col_43.jpg</td>\n",
       "      <td>Acinaire</td>\n",
       "    </tr>\n",
       "    <tr>\n",
       "      <th>...</th>\n",
       "      <td>...</td>\n",
       "      <td>...</td>\n",
       "      <td>...</td>\n",
       "      <td>...</td>\n",
       "    </tr>\n",
       "    <tr>\n",
       "      <th>21304</th>\n",
       "      <td>7</td>\n",
       "      <td>TL</td>\n",
       "      <td>TL_7_A (26).jpg</td>\n",
       "      <td>Tissu lymphoïde</td>\n",
       "    </tr>\n",
       "    <tr>\n",
       "      <th>21305</th>\n",
       "      <td>226</td>\n",
       "      <td>C</td>\n",
       "      <td>226_C_row_140_col_176.jpg</td>\n",
       "      <td>Tissu lymphoïde</td>\n",
       "    </tr>\n",
       "    <tr>\n",
       "      <th>21306</th>\n",
       "      <td>226</td>\n",
       "      <td>C</td>\n",
       "      <td>226_C_row_120_col_238.jpg</td>\n",
       "      <td>Tissu lymphoïde</td>\n",
       "    </tr>\n",
       "    <tr>\n",
       "      <th>21307</th>\n",
       "      <td>32</td>\n",
       "      <td>C</td>\n",
       "      <td>32_C_row_143_col_288.jpg</td>\n",
       "      <td>Tissu lymphoïde</td>\n",
       "    </tr>\n",
       "    <tr>\n",
       "      <th>21308</th>\n",
       "      <td>72</td>\n",
       "      <td>TL</td>\n",
       "      <td>TL_72_B (32).jpg</td>\n",
       "      <td>Tissu lymphoïde</td>\n",
       "    </tr>\n",
       "  </tbody>\n",
       "</table>\n",
       "<p>21307 rows × 4 columns</p>\n",
       "</div>"
      ],
      "text/plain": [
       "       Patient lame                      patch           classe\n",
       "0           13    D     13_D_row_87_col_44.jpg         Acinaire\n",
       "1            4    A            A_4_A (546).jpg         Acinaire\n",
       "2            4    A            A_4_A (782).jpg         Acinaire\n",
       "3          247    A         A_247_A (2940).jpg         Acinaire\n",
       "4           13    D    13_D_row_131_col_43.jpg         Acinaire\n",
       "...        ...  ...                        ...              ...\n",
       "21304        7   TL            TL_7_A (26).jpg  Tissu lymphoïde\n",
       "21305      226    C  226_C_row_140_col_176.jpg  Tissu lymphoïde\n",
       "21306      226    C  226_C_row_120_col_238.jpg  Tissu lymphoïde\n",
       "21307       32    C   32_C_row_143_col_288.jpg  Tissu lymphoïde\n",
       "21308       72   TL           TL_72_B (32).jpg  Tissu lymphoïde\n",
       "\n",
       "[21307 rows x 4 columns]"
      ]
     },
     "metadata": {},
     "output_type": "display_data"
    }
   ],
   "source": [
    "number_of_images = sum([len(os.listdir(data_path+'/'+c)) for c in classes])\n",
    "df= pd.DataFrame(columns=['Patient','lame','patch','classe'], index=range(number_of_images))\n",
    "\n",
    "i=0\n",
    "for c in classes:\n",
    "    path = data_path + '/' + c\n",
    "    for image in os.listdir(path):\n",
    "        if 'row' in image:\n",
    "            df.iloc[i]=[image.split(\"_\")[0], image.split(\"_\")[1].split()[0], image, c]\n",
    "        elif '(' in image and ')' in image:\n",
    "            try :\n",
    "                df.iloc[i]=[image.split(\"_\")[1], image.split(\"_\")[0], image, c]\n",
    "            except:\n",
    "                df.iloc[i]=[image.split(\"_\")[1], image.split('_')[-1].split('(')[0],image, c]\n",
    "        else:\n",
    "            print(image)\n",
    "        i+=1\n",
    "        \n",
    "df=df.dropna()    \n",
    "df['Patient']=df['Patient'].astype(int)\n",
    "\n",
    "n_patients = len(df['Patient'].unique())\n",
    "patients = df['Patient'].unique()\n",
    "print(f\"Patients ({n_patients})\",patients)\n",
    "display(df)\n",
    "df.to_csv('../../dataset/dataframes/all_patchs_dataframe.csv', index=False)"
   ]
  },
  {
   "cell_type": "code",
   "execution_count": null,
   "metadata": {},
   "outputs": [],
   "source": []
  },
  {
   "cell_type": "code",
   "execution_count": null,
   "metadata": {},
   "outputs": [],
   "source": []
  }
 ],
 "metadata": {
  "kernelspec": {
   "display_name": "Python 3 (ipykernel)",
   "language": "python",
   "name": "python3"
  },
  "language_info": {
   "codemirror_mode": {
    "name": "ipython",
    "version": 3
   },
   "file_extension": ".py",
   "mimetype": "text/x-python",
   "name": "python",
   "nbconvert_exporter": "python",
   "pygments_lexer": "ipython3",
   "version": "3.11.5"
  },
  "widgets": {
   "application/vnd.jupyter.widget-state+json": {
    "state": {},
    "version_major": 2,
    "version_minor": 0
   }
  }
 },
 "nbformat": 4,
 "nbformat_minor": 4
}
