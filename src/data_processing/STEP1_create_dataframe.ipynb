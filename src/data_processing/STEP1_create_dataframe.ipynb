{
 "cells": [
  {
   "cell_type": "code",
   "execution_count": 1,
   "metadata": {},
   "outputs": [],
   "source": [
    "import os\n",
    "import pandas as pd "
   ]
  },
  {
   "cell_type": "code",
   "execution_count": 6,
   "metadata": {},
   "outputs": [],
   "source": [
    "data_path = \"../../data/patches_100_A\"\n",
    "\n",
    "#classes = os.listdir(data_path)\n",
    "#classes.sort()\n",
    "#print(len(classes), classes)"
   ]
  },
  {
   "cell_type": "code",
   "execution_count": 7,
   "metadata": {},
   "outputs": [
    {
     "name": "stdout",
     "output_type": "stream",
     "text": [
      "6720\n"
     ]
    }
   ],
   "source": [
    "print(len(os.listdir(data_path)))"
   ]
  },
  {
   "cell_type": "code",
   "execution_count": 8,
   "metadata": {},
   "outputs": [
    {
     "name": "stdout",
     "output_type": "stream",
     "text": [
      "Patients (1) [100]\n"
     ]
    },
    {
     "data": {
      "text/html": [
       "<div>\n",
       "<style scoped>\n",
       "    .dataframe tbody tr th:only-of-type {\n",
       "        vertical-align: middle;\n",
       "    }\n",
       "\n",
       "    .dataframe tbody tr th {\n",
       "        vertical-align: top;\n",
       "    }\n",
       "\n",
       "    .dataframe thead th {\n",
       "        text-align: right;\n",
       "    }\n",
       "</style>\n",
       "<table border=\"1\" class=\"dataframe\">\n",
       "  <thead>\n",
       "    <tr style=\"text-align: right;\">\n",
       "      <th></th>\n",
       "      <th>Patient</th>\n",
       "      <th>lame</th>\n",
       "      <th>patch</th>\n",
       "      <th>label</th>\n",
       "    </tr>\n",
       "  </thead>\n",
       "  <tbody>\n",
       "    <tr>\n",
       "      <th>0</th>\n",
       "      <td>100</td>\n",
       "      <td>A</td>\n",
       "      <td>100_A_row_22_col_114.jpg</td>\n",
       "      <td>0</td>\n",
       "    </tr>\n",
       "    <tr>\n",
       "      <th>1</th>\n",
       "      <td>100</td>\n",
       "      <td>A</td>\n",
       "      <td>100_A_row_85_col_150.jpg</td>\n",
       "      <td>0</td>\n",
       "    </tr>\n",
       "    <tr>\n",
       "      <th>2</th>\n",
       "      <td>100</td>\n",
       "      <td>A</td>\n",
       "      <td>100_A_row_24_col_166.jpg</td>\n",
       "      <td>0</td>\n",
       "    </tr>\n",
       "    <tr>\n",
       "      <th>3</th>\n",
       "      <td>100</td>\n",
       "      <td>A</td>\n",
       "      <td>100_A_row_23_col_160.jpg</td>\n",
       "      <td>0</td>\n",
       "    </tr>\n",
       "    <tr>\n",
       "      <th>4</th>\n",
       "      <td>100</td>\n",
       "      <td>A</td>\n",
       "      <td>100_A_row_45_col_152.jpg</td>\n",
       "      <td>0</td>\n",
       "    </tr>\n",
       "    <tr>\n",
       "      <th>...</th>\n",
       "      <td>...</td>\n",
       "      <td>...</td>\n",
       "      <td>...</td>\n",
       "      <td>...</td>\n",
       "    </tr>\n",
       "    <tr>\n",
       "      <th>6715</th>\n",
       "      <td>100</td>\n",
       "      <td>A</td>\n",
       "      <td>100_A_row_83_col_81.jpg</td>\n",
       "      <td>0</td>\n",
       "    </tr>\n",
       "    <tr>\n",
       "      <th>6716</th>\n",
       "      <td>100</td>\n",
       "      <td>A</td>\n",
       "      <td>100_A_row_66_col_83.jpg</td>\n",
       "      <td>0</td>\n",
       "    </tr>\n",
       "    <tr>\n",
       "      <th>6717</th>\n",
       "      <td>100</td>\n",
       "      <td>A</td>\n",
       "      <td>100_A_row_48_col_133.jpg</td>\n",
       "      <td>0</td>\n",
       "    </tr>\n",
       "    <tr>\n",
       "      <th>6718</th>\n",
       "      <td>100</td>\n",
       "      <td>A</td>\n",
       "      <td>100_A_row_65_col_85.jpg</td>\n",
       "      <td>0</td>\n",
       "    </tr>\n",
       "    <tr>\n",
       "      <th>6719</th>\n",
       "      <td>100</td>\n",
       "      <td>A</td>\n",
       "      <td>100_A_row_64_col_111.jpg</td>\n",
       "      <td>0</td>\n",
       "    </tr>\n",
       "  </tbody>\n",
       "</table>\n",
       "<p>6720 rows × 4 columns</p>\n",
       "</div>"
      ],
      "text/plain": [
       "      Patient lame                     patch label\n",
       "0         100    A  100_A_row_22_col_114.jpg     0\n",
       "1         100    A  100_A_row_85_col_150.jpg     0\n",
       "2         100    A  100_A_row_24_col_166.jpg     0\n",
       "3         100    A  100_A_row_23_col_160.jpg     0\n",
       "4         100    A  100_A_row_45_col_152.jpg     0\n",
       "...       ...  ...                       ...   ...\n",
       "6715      100    A   100_A_row_83_col_81.jpg     0\n",
       "6716      100    A   100_A_row_66_col_83.jpg     0\n",
       "6717      100    A  100_A_row_48_col_133.jpg     0\n",
       "6718      100    A   100_A_row_65_col_85.jpg     0\n",
       "6719      100    A  100_A_row_64_col_111.jpg     0\n",
       "\n",
       "[6720 rows x 4 columns]"
      ]
     },
     "metadata": {},
     "output_type": "display_data"
    }
   ],
   "source": [
    "#number_of_images = sum([len(os.listdir(data_path+'/'+c)) for c in classes])\n",
    "path = data_path \n",
    "df= pd.DataFrame(columns=['Patient','lame','patch','label'], index=range(len(os.listdir(path))))\n",
    "\n",
    "i=0\n",
    "#for c in classes:\n",
    "for image in os.listdir(path):\n",
    "    if 'row' in image:\n",
    "        df.iloc[i]=[image.split(\"_\")[0], image.split(\"_\")[1].split()[0], image, 0]\n",
    "    #elif '(' in image and ')' in image:\n",
    "    #    try :\n",
    "    #        df.iloc[i]=[image.split(\"_\")[1], image.split(\"_\")[0], image, 0]\n",
    "    #    except:\n",
    "    #        df.iloc[i]=[image.split(\"_\")[1], image.split('_')[-1].split('(')[0],image, 0]\n",
    "    else:\n",
    "        print(image)\n",
    "    i+=1\n",
    "        \n",
    "df=df.dropna()    \n",
    "df['Patient']=df['Patient'].astype(int)\n",
    "\n",
    "n_patients = len(df['Patient'].unique())\n",
    "patients = df['Patient'].unique()\n",
    "print(f\"Patients ({n_patients})\",patients)\n",
    "display(df)\n",
    "\n",
    "df.to_csv('../../data/splits/100_A.csv', index=False)"
   ]
  },
  {
   "cell_type": "code",
   "execution_count": null,
   "metadata": {},
   "outputs": [],
   "source": []
  },
  {
   "cell_type": "code",
   "execution_count": null,
   "metadata": {},
   "outputs": [],
   "source": []
  }
 ],
 "metadata": {
  "kernelspec": {
   "display_name": "Python 3 (ipykernel)",
   "language": "python",
   "name": "python3"
  },
  "language_info": {
   "codemirror_mode": {
    "name": "ipython",
    "version": 3
   },
   "file_extension": ".py",
   "mimetype": "text/x-python",
   "name": "python",
   "nbconvert_exporter": "python",
   "pygments_lexer": "ipython3",
   "version": "3.10.12"
  },
  "widgets": {
   "application/vnd.jupyter.widget-state+json": {
    "state": {},
    "version_major": 2,
    "version_minor": 0
   }
  }
 },
 "nbformat": 4,
 "nbformat_minor": 4
}
