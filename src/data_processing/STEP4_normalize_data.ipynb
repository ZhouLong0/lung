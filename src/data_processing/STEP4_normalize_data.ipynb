{
 "cells": [
  {
   "cell_type": "code",
   "execution_count": 1,
   "metadata": {},
   "outputs": [],
   "source": [
    "import numpy as np \n",
    "import pandas as pd  \n",
    "import os\n",
    "from PIL import Image \n",
    "from histomicstk.preprocessing.color_normalization import reinhard\n",
    "from tqdm import tqdm\n",
    "\n",
    "import warnings\n",
    "warnings.filterwarnings('ignore')\n",
    "\n",
    "seed=2024\n",
    "np.random.seed(seed)"
   ]
  },
  {
   "cell_type": "code",
   "execution_count": 2,
   "metadata": {},
   "outputs": [
    {
     "data": {
      "text/plain": [
       "classe\n",
       "Réactionnel             6019\n",
       "Fibrose                 2311\n",
       "Solide                  1822\n",
       "Normal                  1746\n",
       "Nécrose                 1538\n",
       "Lépidique               1365\n",
       "Glandulaire complexe    1335\n",
       "Papillaire              1150\n",
       "Acinaire                1132\n",
       "Mucineux                 822\n",
       "Hémorragique             685\n",
       "Foetal                   485\n",
       "Tissu lymphoïde          471\n",
       "Micropapillaire          426\n",
       "Name: count, dtype: int64"
      ]
     },
     "execution_count": 2,
     "metadata": {},
     "output_type": "execute_result"
    }
   ],
   "source": [
    "df = pd.read_csv('../../dataset/dataframes/all_patchs_dataframe.csv')\n",
    "df=df.sort_values(by=['Patient'])\n",
    "df[\"classe\"].value_counts()"
   ]
  },
  {
   "cell_type": "code",
   "execution_count": 2,
   "metadata": {},
   "outputs": [],
   "source": [
    "def ReinhardNorm(img):\n",
    "    mu=np.array([8.74108109, -0.12440419,  0.0444982])\n",
    "    sigma = np.array([0.6135447, 0.10989545, 0.0286032])\n",
    "    return reinhard(np.array(img), target_mu=mu, target_sigma=sigma)"
   ]
  },
  {
   "cell_type": "code",
   "execution_count": 3,
   "metadata": {},
   "outputs": [
    {
     "name": "stderr",
     "output_type": "stream",
     "text": [
      "100%|██████████| 5130/5130 [12:52<00:00,  6.64it/s]\n"
     ]
    }
   ],
   "source": [
    "im_path = \"../../data/patches_55\"\n",
    "save_path = \"../../data/patches_55_normalized\"\n",
    "\n",
    "\n",
    "\n",
    "path1 = im_path+'/'\n",
    "path2 = save_path+'/'\n",
    "if not os.path.exists(path2):\n",
    "        os.mkdir(path2)    \n",
    "\n",
    "for file in tqdm(os.listdir(path1)) :\n",
    "    \n",
    "    if os.path.exists(path2+file)==False: \n",
    "\n",
    "        img = Image.open(path1 + \"/\"+ file).convert('RGB')\n",
    "        Image.fromarray(ReinhardNorm(img)).save(path2+file)"
   ]
  },
  {
   "cell_type": "code",
   "execution_count": null,
   "metadata": {},
   "outputs": [],
   "source": []
  }
 ],
 "metadata": {
  "kernelspec": {
   "display_name": "Python 3 (ipykernel)",
   "language": "python",
   "name": "python3"
  },
  "language_info": {
   "codemirror_mode": {
    "name": "ipython",
    "version": 3
   },
   "file_extension": ".py",
   "mimetype": "text/x-python",
   "name": "python",
   "nbconvert_exporter": "python",
   "pygments_lexer": "ipython3",
   "version": "3.10.12"
  }
 },
 "nbformat": 4,
 "nbformat_minor": 4
}
