{
 "cells": [
  {
   "cell_type": "markdown",
   "metadata": {},
   "source": [
    "These are our classes and how they are groupped into labels"
   ]
  },
  {
   "cell_type": "code",
   "execution_count": 2,
   "metadata": {},
   "outputs": [
    {
     "data": {
      "text/plain": [
       "{'Normal': 'P',\n",
       " 'Réactionnel': 'P',\n",
       " 'Hémorragique': 'H',\n",
       " 'Nécrose': 'Né',\n",
       " 'Tissu lymphoïde': 'TL',\n",
       " 'Fibrose': 'Fi',\n",
       " 'Colloïde': 'T',\n",
       " 'Acinaire': 'T',\n",
       " 'Foetal': 'T',\n",
       " 'Lépidique': 'T',\n",
       " 'Mucineux': 'T',\n",
       " 'Papillaire': 'T',\n",
       " 'Solide': 'T',\n",
       " 'Glandulaire complexe': 'T',\n",
       " 'Micropapillaire': 'T'}"
      ]
     },
     "execution_count": 2,
     "metadata": {},
     "output_type": "execute_result"
    }
   ],
   "source": [
    "all_classes={'Normal':'P', 'Réactionnel':'P', 'Hémorragique':'H', 'Nécrose':'Né', 'Tissu lymphoïde':'TL', 'Fibrose':'Fi',\n",
    "                'Colloïde':'T', 'Acinaire':'T','Foetal':'T','Lépidique':'T','Mucineux':'T', 'Papillaire':'T',\n",
    "                'Solide':'T', 'Glandulaire complexe':'T','Micropapillaire':'T'}\n",
    "idx_to_label = {'P':0, 'H':1, 'Né':2, 'TL':3, 'Fi':4, 'T':5}\n",
    "all_classes"
   ]
  },
  {
   "cell_type": "markdown",
   "metadata": {},
   "source": [
    "- all patients (27): [2, 3, 4, 5, 6, 7, 9, 13, 14, 16, 17, 22, 23, 32, 40, 44, 58, 72, 114, 133, 169, 192, 226, 230, 231, 247, 398]\n",
    "- patients with valid data (10): [2, 13, 17, 32, 40, 44, 58, 133, 192, 226]\n",
    "- patients with non valid data (16): [3, 4, 5, 6, 9, 14, 16, 22, 23, 72, 114, 169, 230, 231, 247, 398]\n",
    "- patients with mixed data (1): [7]\n",
    "\n",
    "\n",
    "- patients query (7): [2, 13, 17, 32, 40, 44, 192]\n",
    "- patients support (20): [3, 4, 5, 6, 7, 9, 14, 16, 22, 23, 72, 114, 169, 230, 231, 247, 398, 58, 226, 133]\n",
    "\n"
   ]
  },
  {
   "cell_type": "markdown",
   "metadata": {},
   "source": []
  }
 ],
 "metadata": {
  "kernelspec": {
   "display_name": "Python 3",
   "language": "python",
   "name": "python3"
  },
  "language_info": {
   "codemirror_mode": {
    "name": "ipython",
    "version": 3
   },
   "file_extension": ".py",
   "mimetype": "text/x-python",
   "name": "python",
   "nbconvert_exporter": "python",
   "pygments_lexer": "ipython3",
   "version": "3.10.12"
  }
 },
 "nbformat": 4,
 "nbformat_minor": 2
}
